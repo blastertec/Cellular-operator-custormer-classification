{
 "metadata": {
  "language_info": {
   "codemirror_mode": {
    "name": "ipython",
    "version": 3
   },
   "file_extension": ".py",
   "mimetype": "text/x-python",
   "name": "python",
   "nbconvert_exporter": "python",
   "pygments_lexer": "ipython3",
   "version": "3.8.5-final"
  },
  "orig_nbformat": 2,
  "kernelspec": {
   "name": "python3",
   "display_name": "Python 3",
   "language": "python"
  }
 },
 "nbformat": 4,
 "nbformat_minor": 2,
 "cells": [
  {
   "source": [
    "# Imports"
   ],
   "cell_type": "markdown",
   "metadata": {}
  },
  {
   "cell_type": "code",
   "execution_count": 15,
   "metadata": {},
   "outputs": [],
   "source": [
    "import pandas as pd\n",
    "import numpy as np\n",
    "import tensorflow as tf\n",
    "import matplotlib.pyplot as plt\n",
    "from sklearn import preprocessing\n",
    "from sklearn.model_selection import train_test_split\n",
    "from sklearn.linear_model import LogisticRegression\n",
    "from sklearn.linear_model import LinearRegression\n",
    "from sklearn.svm import SVC\n",
    "from sklearn.metrics import roc_auc_score, roc_curve, auc\n",
    "from tensorflow.keras.wrappers.scikit_learn import KerasClassifier\n",
    "from tensorflow.keras.layers import Dense, Dropout\n",
    "from tensorflow.keras.models import Sequential"
   ]
  },
  {
   "cell_type": "code",
   "execution_count": 16,
   "metadata": {},
   "outputs": [],
   "source": [
    "hashed_df = pd.read_csv('hashed_feature.csv')\n",
    "tabular_df = pd.read_csv('tabular_data.csv')\n",
    "train_df = pd.read_csv('train.csv')\n",
    "test_df = pd.read_csv('test.csv')"
   ]
  },
  {
   "source": [
    "Since we have periods for each ID in our data, we need to restructure the table. We will do it in 2 ways:\n",
    "- calculate mean values of 12 periods for each ID\n",
    "- restructure/pivot the table so we have separate feature column for every period (like 'feature_1_period_1', 'feature_1_period_2' ...)\n",
    "\n",
    "Also we will use Logistic Regression and SVM for predicting results.\n",
    "So in total we are going build 4 models, measure how effective they are for predicting outcomes and we will select the most effective. "
   ],
   "cell_type": "markdown",
   "metadata": {}
  },
  {
   "source": [
    "# Data preparation"
   ],
   "cell_type": "markdown",
   "metadata": {}
  },
  {
   "cell_type": "code",
   "execution_count": 17,
   "metadata": {},
   "outputs": [],
   "source": [
    "# Simplest solution to deal with NaN/empty cells. \n",
    "# Many other sophisticated algorithms can be applied to fil NaNs,\n",
    "# but we will stick with this (for now)\n",
    "tabular_df = tabular_df.fillna(axis='columns', method='bfill')"
   ]
  },
  {
   "source": [
    "## Dealing with strings in columns"
   ],
   "cell_type": "markdown",
   "metadata": {}
  },
  {
   "source": [
    "In entire feature_25 column strings/hashes are the same as in other columns, so  we can create a dictionary of them)"
   ],
   "cell_type": "markdown",
   "metadata": {}
  },
  {
   "cell_type": "code",
   "execution_count": 18,
   "metadata": {},
   "outputs": [],
   "source": [
    "# Group/filter feature_25 column that contains string values and create unique str names and a dictionary dataframe\n",
    "str_dict_df = pd.DataFrame(tabular_df['feature_25'].unique(), columns = ['feature_25'])\n",
    "\n",
    "# Create a new 'id' column, set 'feature_25' as a key and 'str_id' as a value to for easier future replacement/matching\n",
    "# Drop index name and create a new 'id' column based on indexes\n",
    "str_dict_df.reset_index(level=0, inplace=True)\n",
    "str_dict_df = str_dict_df.set_index('feature_25')\n",
    "str_dict_df.index.name = None\n",
    "str_dict_df = str_dict_df.rename(columns = {'index': 'id'})\n",
    "\n",
    "# Convert dictionary dataframe into actual python dictionary while also transposing it\n",
    "# It is needed for mapping them to replace hash codes with integer values - that can be used for model algorithm to evaluate them, it shouldn't be possible with just hashes as strings (from what I understand)\n",
    "\n",
    "str_codes = str_dict_df.T.to_dict('list')\n",
    "\n",
    "# Convert lists to integers\n",
    "for key, value in str_codes.items():\n",
    "    str_codes[key] = value[0]\n",
    "\n",
    "# Encode (map) main tabular dataframe with integer id's from string dictionary we created above\n",
    "for column in tabular_df:\n",
    "   tabular_df[column] = tabular_df[column].map(str_codes).fillna(tabular_df[column])"
   ]
  },
  {
   "source": [
    "## Create a pivoted table with feature columns for each period"
   ],
   "cell_type": "markdown",
   "metadata": {}
  },
  {
   "cell_type": "code",
   "execution_count": 19,
   "metadata": {},
   "outputs": [],
   "source": [
    "tabular_df_round = tabular_df.astype({'period': int, 'id': int}).astype({'period': str})\n",
    "\n",
    "# Get all column names\n",
    "column_names_list = []\n",
    "for column in tabular_df_round.columns[2:]:\n",
    "    column_names_list.append(column)\n",
    "\n",
    "# Feature columns are sorted the wrong way - 1 2 3 ... 8 9 are in the end (after 41 42 43), but that shouldn't matter\n",
    "tabular_df_pivoted = pd.pivot_table(tabular_df_round, index=['id'], columns=['period'], values=column_names_list)\n",
    "tabular_df_pivoted = tabular_df_pivoted.reset_index()\n",
    "\n",
    "# Join/stack/merge column levels and set readable names for them\n",
    "tab_df_piv_joined_col_names = tabular_df_pivoted\n",
    "tab_df_piv_joined_col_names.columns = ['_per_'.join((j,k)) for j,k in tab_df_piv_joined_col_names.columns]\n",
    "\n",
    "# Rename ID column\n",
    "tab_df_piv_joined_col_names = tab_df_piv_joined_col_names.rename(columns={'id_per_': 'id'})\n",
    "\n",
    "tab_df_piv_joined_col_names.head(3)\n",
    "tabular_df_all = tab_df_piv_joined_col_names"
   ]
  },
  {
   "source": [
    "## Create a table with mean values of 12 periods"
   ],
   "cell_type": "markdown",
   "metadata": {}
  },
  {
   "cell_type": "code",
   "execution_count": 20,
   "metadata": {},
   "outputs": [
    {
     "output_type": "execute_result",
     "data": {
      "text/plain": [
       "   id  period   feature_0   feature_1   feature_2    feature_3    feature_4  \\\n",
       "0   0     6.5  110.000000   60.916667    0.238880   293.635812   430.134167   \n",
       "1   1     6.5  110.000000  135.541667    0.060443  6940.579852  1119.352500   \n",
       "2   2     6.5  110.166667    0.597500    0.574959     0.141369     4.168333   \n",
       "3   3     6.5   28.199112   16.324112  357.412960   379.234397    19.188810   \n",
       "4   4     6.5  110.000000  126.000000    0.133693  2568.283478   460.332500   \n",
       "\n",
       "   feature_5  feature_6    feature_7  ...  feature_40  feature_41  \\\n",
       "0   0.000000   0.445332   147.666667  ...    0.425000         0.0   \n",
       "1   0.000000   0.350638  1199.843333  ...    1.636667         0.0   \n",
       "2   0.000000   0.875014    10.166667  ...    0.456667         0.0   \n",
       "3   0.285477  21.883435    41.372977  ...    0.170000         0.0   \n",
       "4   0.000000   1.006855   522.449167  ...    3.381667         0.0   \n",
       "\n",
       "    feature_42  feature_43  feature_44  feature_45  feature_46  feature_47  \\\n",
       "0    11.535962    0.000000   59.875000    0.750000    8.965738  142.833333   \n",
       "1  3385.043551    0.083333  125.000000    6.750000   15.637394  135.916667   \n",
       "2     0.000082    0.000000    0.597500    0.000000    0.345516   10.083333   \n",
       "3     0.163807    0.666667   51.376667    1.000000    0.690459  106.000000   \n",
       "4   162.972195    0.166667  103.733333   36.333333   17.000910  190.333333   \n",
       "\n",
       "   feature_48  feature_49  \n",
       "0  315.011667    0.250000  \n",
       "1  204.334131  204.334131  \n",
       "2    2.470000    0.000000  \n",
       "3   55.316667    6.666667  \n",
       "4  208.911004  208.911004  \n",
       "\n",
       "[5 rows x 52 columns]"
      ],
      "text/html": "<div>\n<style scoped>\n    .dataframe tbody tr th:only-of-type {\n        vertical-align: middle;\n    }\n\n    .dataframe tbody tr th {\n        vertical-align: top;\n    }\n\n    .dataframe thead th {\n        text-align: right;\n    }\n</style>\n<table border=\"1\" class=\"dataframe\">\n  <thead>\n    <tr style=\"text-align: right;\">\n      <th></th>\n      <th>id</th>\n      <th>period</th>\n      <th>feature_0</th>\n      <th>feature_1</th>\n      <th>feature_2</th>\n      <th>feature_3</th>\n      <th>feature_4</th>\n      <th>feature_5</th>\n      <th>feature_6</th>\n      <th>feature_7</th>\n      <th>...</th>\n      <th>feature_40</th>\n      <th>feature_41</th>\n      <th>feature_42</th>\n      <th>feature_43</th>\n      <th>feature_44</th>\n      <th>feature_45</th>\n      <th>feature_46</th>\n      <th>feature_47</th>\n      <th>feature_48</th>\n      <th>feature_49</th>\n    </tr>\n  </thead>\n  <tbody>\n    <tr>\n      <th>0</th>\n      <td>0</td>\n      <td>6.5</td>\n      <td>110.000000</td>\n      <td>60.916667</td>\n      <td>0.238880</td>\n      <td>293.635812</td>\n      <td>430.134167</td>\n      <td>0.000000</td>\n      <td>0.445332</td>\n      <td>147.666667</td>\n      <td>...</td>\n      <td>0.425000</td>\n      <td>0.0</td>\n      <td>11.535962</td>\n      <td>0.000000</td>\n      <td>59.875000</td>\n      <td>0.750000</td>\n      <td>8.965738</td>\n      <td>142.833333</td>\n      <td>315.011667</td>\n      <td>0.250000</td>\n    </tr>\n    <tr>\n      <th>1</th>\n      <td>1</td>\n      <td>6.5</td>\n      <td>110.000000</td>\n      <td>135.541667</td>\n      <td>0.060443</td>\n      <td>6940.579852</td>\n      <td>1119.352500</td>\n      <td>0.000000</td>\n      <td>0.350638</td>\n      <td>1199.843333</td>\n      <td>...</td>\n      <td>1.636667</td>\n      <td>0.0</td>\n      <td>3385.043551</td>\n      <td>0.083333</td>\n      <td>125.000000</td>\n      <td>6.750000</td>\n      <td>15.637394</td>\n      <td>135.916667</td>\n      <td>204.334131</td>\n      <td>204.334131</td>\n    </tr>\n    <tr>\n      <th>2</th>\n      <td>2</td>\n      <td>6.5</td>\n      <td>110.166667</td>\n      <td>0.597500</td>\n      <td>0.574959</td>\n      <td>0.141369</td>\n      <td>4.168333</td>\n      <td>0.000000</td>\n      <td>0.875014</td>\n      <td>10.166667</td>\n      <td>...</td>\n      <td>0.456667</td>\n      <td>0.0</td>\n      <td>0.000082</td>\n      <td>0.000000</td>\n      <td>0.597500</td>\n      <td>0.000000</td>\n      <td>0.345516</td>\n      <td>10.083333</td>\n      <td>2.470000</td>\n      <td>0.000000</td>\n    </tr>\n    <tr>\n      <th>3</th>\n      <td>3</td>\n      <td>6.5</td>\n      <td>28.199112</td>\n      <td>16.324112</td>\n      <td>357.412960</td>\n      <td>379.234397</td>\n      <td>19.188810</td>\n      <td>0.285477</td>\n      <td>21.883435</td>\n      <td>41.372977</td>\n      <td>...</td>\n      <td>0.170000</td>\n      <td>0.0</td>\n      <td>0.163807</td>\n      <td>0.666667</td>\n      <td>51.376667</td>\n      <td>1.000000</td>\n      <td>0.690459</td>\n      <td>106.000000</td>\n      <td>55.316667</td>\n      <td>6.666667</td>\n    </tr>\n    <tr>\n      <th>4</th>\n      <td>4</td>\n      <td>6.5</td>\n      <td>110.000000</td>\n      <td>126.000000</td>\n      <td>0.133693</td>\n      <td>2568.283478</td>\n      <td>460.332500</td>\n      <td>0.000000</td>\n      <td>1.006855</td>\n      <td>522.449167</td>\n      <td>...</td>\n      <td>3.381667</td>\n      <td>0.0</td>\n      <td>162.972195</td>\n      <td>0.166667</td>\n      <td>103.733333</td>\n      <td>36.333333</td>\n      <td>17.000910</td>\n      <td>190.333333</td>\n      <td>208.911004</td>\n      <td>208.911004</td>\n    </tr>\n  </tbody>\n</table>\n<p>5 rows × 52 columns</p>\n</div>"
     },
     "metadata": {},
     "execution_count": 20
    }
   ],
   "source": [
    "tabular_df_means = tabular_df.groupby([tabular_df['id']]).mean()\n",
    "tabular_df_means.reset_index(level=0, inplace=True)\n",
    "tabular_df_means.head()"
   ]
  },
  {
   "source": [
    "# Dealing with hashes table\n",
    "Create hash dictionary to encode them in the tabular data"
   ],
   "cell_type": "markdown",
   "metadata": {}
  },
  {
   "cell_type": "code",
   "execution_count": 21,
   "metadata": {},
   "outputs": [],
   "source": [
    "# Group/filter so unique hash names and create a 'dictionary' dataframe\n",
    "unique_hashes_df = pd.DataFrame(hashed_df.feature_50.unique(), columns = ['feature_50'])\n",
    "\n",
    "hashes_dict_df = unique_hashes_df\n",
    "# Create a new 'id' column, set 'feature_50' as a key and 'hash_id' as a value to for easier future replacement/matching\n",
    "# Drop index name and create a new 'id' column based on indexes\n",
    "\n",
    "hashes_dict_df.reset_index(level=0, inplace=True)\n",
    "hashes_dict_df = hashes_dict_df.set_index('feature_50')\n",
    "hashes_dict_df.index.name = None\n",
    "hashes_dict_df = hashes_dict_df.rename(columns = {'index': 'id'})\n",
    "\n",
    "# Convert dictionary dataframe into actual python dictionary while also transposing it \n",
    "# It is needed for mapping them to replace hash codes with integer values \n",
    "# That can be used for model algorithm to evaluate them, \n",
    "# It shouldn't be  possible with just hashes as strings (from what I understand)\n",
    "hash_codes = hashes_dict_df.T.to_dict('list')\n",
    "\n",
    "# Convert list to integers\n",
    "for key, value in hash_codes.items():\n",
    "    hash_codes[key] = value[0]"
   ]
  },
  {
   "source": [
    "Encode (map) main hash table with integer id's from above dictionary"
   ],
   "cell_type": "markdown",
   "metadata": {}
  },
  {
   "cell_type": "code",
   "execution_count": 22,
   "metadata": {},
   "outputs": [],
   "source": [
    "hashed_df['feature_50'] = hashed_df['feature_50'].map(hash_codes)\n",
    "hashed_df_grouped = hashed_df.groupby('id')['feature_50'].apply(list)"
   ]
  },
  {
   "source": [
    "Now join main tabular_df with hashes"
   ],
   "cell_type": "markdown",
   "metadata": {}
  },
  {
   "cell_type": "code",
   "execution_count": 23,
   "metadata": {},
   "outputs": [
    {
     "output_type": "stream",
     "name": "stdout",
     "text": [
      "0\n"
     ]
    }
   ],
   "source": [
    "joined_df = pd.merge(tabular_df_means, hashed_df_grouped, on='id')\n",
    "\n",
    "# Create a new column where we put number (count) of hashes\n",
    "joined_df['hashes_count'] = [len(x) for x in joined_df['feature_50']]\n",
    "\n",
    "# Create a new column where we put number (count) of unique hashes\n",
    "joined_df['hashes_unique_count'] = [len(set(x)) for x in joined_df['feature_50']]\n",
    "\n",
    "# Check if there are differences between hashes count and unique hashes count\n",
    "def checkDiff(x, y):\n",
    "    if x == y:\n",
    "        return 0\n",
    "    else:\n",
    "        return 1\n",
    "\n",
    "joined_df['hash_diff'] = np.vectorize(checkDiff)(joined_df['hashes_count'], joined_df['hashes_unique_count'])\n",
    "\n",
    "# Check how many diff's do we have in total\n",
    "print(joined_df['hash_diff'].sum())"
   ]
  },
  {
   "source": [
    "As we can see, all hashes for each 'id' in hashed_df table are unique - there are no difference between those 2 columns. So we are not able to extract additional features and we will use only hashes count column. If only we know what data/information those hashes contain, we can create way more sophisticated algo to extract/vectorize them. For example, if those hashes are voice recognized words (or just words from SMS) we can rank them to set priorities/ranks. That way we can create additional column like 'hashes_rank' etc."
   ],
   "cell_type": "markdown",
   "metadata": {}
  },
  {
   "source": [
    "## Create two final dataframes we are going to build models on"
   ],
   "cell_type": "markdown",
   "metadata": {}
  },
  {
   "cell_type": "code",
   "execution_count": 24,
   "metadata": {},
   "outputs": [
    {
     "output_type": "execute_result",
     "data": {
      "text/plain": [
       "   id  period   feature_0   feature_1   feature_2    feature_3    feature_4  \\\n",
       "0   0     6.5  110.000000   60.916667    0.238880   293.635812   430.134167   \n",
       "1   1     6.5  110.000000  135.541667    0.060443  6940.579852  1119.352500   \n",
       "2   2     6.5  110.166667    0.597500    0.574959     0.141369     4.168333   \n",
       "3   3     6.5   28.199112   16.324112  357.412960   379.234397    19.188810   \n",
       "4   4     6.5  110.000000  126.000000    0.133693  2568.283478   460.332500   \n",
       "\n",
       "   feature_5  feature_6    feature_7  ...  feature_41   feature_42  \\\n",
       "0   0.000000   0.445332   147.666667  ...         0.0    11.535962   \n",
       "1   0.000000   0.350638  1199.843333  ...         0.0  3385.043551   \n",
       "2   0.000000   0.875014    10.166667  ...         0.0     0.000082   \n",
       "3   0.285477  21.883435    41.372977  ...         0.0     0.163807   \n",
       "4   0.000000   1.006855   522.449167  ...         0.0   162.972195   \n",
       "\n",
       "   feature_43  feature_44  feature_45  feature_46  feature_47  feature_48  \\\n",
       "0    0.000000   59.875000    0.750000    8.965738  142.833333  315.011667   \n",
       "1    0.083333  125.000000    6.750000   15.637394  135.916667  204.334131   \n",
       "2    0.000000    0.597500    0.000000    0.345516   10.083333    2.470000   \n",
       "3    0.666667   51.376667    1.000000    0.690459  106.000000   55.316667   \n",
       "4    0.166667  103.733333   36.333333   17.000910  190.333333  208.911004   \n",
       "\n",
       "   feature_49  hashes_count  \n",
       "0    0.250000            10  \n",
       "1  204.334131            43  \n",
       "2    0.000000            15  \n",
       "3    6.666667             6  \n",
       "4  208.911004            52  \n",
       "\n",
       "[5 rows x 53 columns]"
      ],
      "text/html": "<div>\n<style scoped>\n    .dataframe tbody tr th:only-of-type {\n        vertical-align: middle;\n    }\n\n    .dataframe tbody tr th {\n        vertical-align: top;\n    }\n\n    .dataframe thead th {\n        text-align: right;\n    }\n</style>\n<table border=\"1\" class=\"dataframe\">\n  <thead>\n    <tr style=\"text-align: right;\">\n      <th></th>\n      <th>id</th>\n      <th>period</th>\n      <th>feature_0</th>\n      <th>feature_1</th>\n      <th>feature_2</th>\n      <th>feature_3</th>\n      <th>feature_4</th>\n      <th>feature_5</th>\n      <th>feature_6</th>\n      <th>feature_7</th>\n      <th>...</th>\n      <th>feature_41</th>\n      <th>feature_42</th>\n      <th>feature_43</th>\n      <th>feature_44</th>\n      <th>feature_45</th>\n      <th>feature_46</th>\n      <th>feature_47</th>\n      <th>feature_48</th>\n      <th>feature_49</th>\n      <th>hashes_count</th>\n    </tr>\n  </thead>\n  <tbody>\n    <tr>\n      <th>0</th>\n      <td>0</td>\n      <td>6.5</td>\n      <td>110.000000</td>\n      <td>60.916667</td>\n      <td>0.238880</td>\n      <td>293.635812</td>\n      <td>430.134167</td>\n      <td>0.000000</td>\n      <td>0.445332</td>\n      <td>147.666667</td>\n      <td>...</td>\n      <td>0.0</td>\n      <td>11.535962</td>\n      <td>0.000000</td>\n      <td>59.875000</td>\n      <td>0.750000</td>\n      <td>8.965738</td>\n      <td>142.833333</td>\n      <td>315.011667</td>\n      <td>0.250000</td>\n      <td>10</td>\n    </tr>\n    <tr>\n      <th>1</th>\n      <td>1</td>\n      <td>6.5</td>\n      <td>110.000000</td>\n      <td>135.541667</td>\n      <td>0.060443</td>\n      <td>6940.579852</td>\n      <td>1119.352500</td>\n      <td>0.000000</td>\n      <td>0.350638</td>\n      <td>1199.843333</td>\n      <td>...</td>\n      <td>0.0</td>\n      <td>3385.043551</td>\n      <td>0.083333</td>\n      <td>125.000000</td>\n      <td>6.750000</td>\n      <td>15.637394</td>\n      <td>135.916667</td>\n      <td>204.334131</td>\n      <td>204.334131</td>\n      <td>43</td>\n    </tr>\n    <tr>\n      <th>2</th>\n      <td>2</td>\n      <td>6.5</td>\n      <td>110.166667</td>\n      <td>0.597500</td>\n      <td>0.574959</td>\n      <td>0.141369</td>\n      <td>4.168333</td>\n      <td>0.000000</td>\n      <td>0.875014</td>\n      <td>10.166667</td>\n      <td>...</td>\n      <td>0.0</td>\n      <td>0.000082</td>\n      <td>0.000000</td>\n      <td>0.597500</td>\n      <td>0.000000</td>\n      <td>0.345516</td>\n      <td>10.083333</td>\n      <td>2.470000</td>\n      <td>0.000000</td>\n      <td>15</td>\n    </tr>\n    <tr>\n      <th>3</th>\n      <td>3</td>\n      <td>6.5</td>\n      <td>28.199112</td>\n      <td>16.324112</td>\n      <td>357.412960</td>\n      <td>379.234397</td>\n      <td>19.188810</td>\n      <td>0.285477</td>\n      <td>21.883435</td>\n      <td>41.372977</td>\n      <td>...</td>\n      <td>0.0</td>\n      <td>0.163807</td>\n      <td>0.666667</td>\n      <td>51.376667</td>\n      <td>1.000000</td>\n      <td>0.690459</td>\n      <td>106.000000</td>\n      <td>55.316667</td>\n      <td>6.666667</td>\n      <td>6</td>\n    </tr>\n    <tr>\n      <th>4</th>\n      <td>4</td>\n      <td>6.5</td>\n      <td>110.000000</td>\n      <td>126.000000</td>\n      <td>0.133693</td>\n      <td>2568.283478</td>\n      <td>460.332500</td>\n      <td>0.000000</td>\n      <td>1.006855</td>\n      <td>522.449167</td>\n      <td>...</td>\n      <td>0.0</td>\n      <td>162.972195</td>\n      <td>0.166667</td>\n      <td>103.733333</td>\n      <td>36.333333</td>\n      <td>17.000910</td>\n      <td>190.333333</td>\n      <td>208.911004</td>\n      <td>208.911004</td>\n      <td>52</td>\n    </tr>\n  </tbody>\n</table>\n<p>5 rows × 53 columns</p>\n</div>"
     },
     "metadata": {},
     "execution_count": 24
    }
   ],
   "source": [
    "# Means of periods\n",
    "tabular_df_means = joined_df\n",
    "tabular_df_means = tabular_df_means.drop(['feature_50', 'hashes_unique_count', 'hash_diff'], axis=1)\n",
    "tabular_df_means.head()"
   ]
  },
  {
   "cell_type": "code",
   "execution_count": 25,
   "metadata": {},
   "outputs": [],
   "source": [
    "# Periods in columns\n",
    "tabular_df_all = pd.merge(tabular_df_all, hashed_df_grouped, on='id')\n",
    "tabular_df_all['hashes_count'] = [len(x) for x in tabular_df_all['feature_50']]\n",
    "tabular_df_all = tabular_df_all.drop(['feature_50'], axis=1)"
   ]
  },
  {
   "cell_type": "code",
   "execution_count": 26,
   "metadata": {},
   "outputs": [
    {
     "output_type": "execute_result",
     "data": {
      "text/plain": [
       "   id  feature_0_per_1  feature_0_per_10  feature_0_per_11  feature_0_per_12  \\\n",
       "0   0            110.0        110.000000        110.000000        110.000000   \n",
       "1   1            110.0        110.000000        110.000000        110.000000   \n",
       "2   2            110.0        110.000000        110.000000        110.000000   \n",
       "3   3            110.0          0.272468          0.971221          0.556268   \n",
       "4   4            110.0        110.000000        110.000000        110.000000   \n",
       "\n",
       "   feature_0_per_2  feature_0_per_3  feature_0_per_4  feature_0_per_5  \\\n",
       "0            110.0            110.0       110.000000       110.000000   \n",
       "1            110.0            110.0       110.000000       110.000000   \n",
       "2            110.0            111.0       110.000000       111.000000   \n",
       "3            110.0            110.0         0.979337         0.140671   \n",
       "4            110.0            110.0       110.000000       110.000000   \n",
       "\n",
       "   feature_0_per_6  ...  feature_9_per_12  feature_9_per_2  feature_9_per_3  \\\n",
       "0       110.000000  ...          3.020000             0.00             0.00   \n",
       "1       110.000000  ...          8.750000             8.75             0.00   \n",
       "2       110.000000  ...          0.000000             0.00             0.00   \n",
       "3         0.044753  ...          0.556268             3.98             0.47   \n",
       "4       110.000000  ...         25.180000            70.20            78.82   \n",
       "\n",
       "   feature_9_per_4  feature_9_per_5  feature_9_per_6  feature_9_per_7  \\\n",
       "0         0.000000         0.000000         0.000000         0.000000   \n",
       "1      4767.378484         3.170000         0.150000         0.000000   \n",
       "2         0.000000         0.000000         0.000000         0.000000   \n",
       "3         0.979337         0.140671         0.044753         0.206769   \n",
       "4        59.630000        68.020000        52.850000        36.030000   \n",
       "\n",
       "   feature_9_per_8  feature_9_per_9  hashes_count  \n",
       "0         0.000000         0.000000            10  \n",
       "1         0.520000         1.800000            43  \n",
       "2         0.000000         0.000000            15  \n",
       "3         0.203066         0.051168             6  \n",
       "4        14.330000        38.770000            52  \n",
       "\n",
       "[5 rows x 602 columns]"
      ],
      "text/html": "<div>\n<style scoped>\n    .dataframe tbody tr th:only-of-type {\n        vertical-align: middle;\n    }\n\n    .dataframe tbody tr th {\n        vertical-align: top;\n    }\n\n    .dataframe thead th {\n        text-align: right;\n    }\n</style>\n<table border=\"1\" class=\"dataframe\">\n  <thead>\n    <tr style=\"text-align: right;\">\n      <th></th>\n      <th>id</th>\n      <th>feature_0_per_1</th>\n      <th>feature_0_per_10</th>\n      <th>feature_0_per_11</th>\n      <th>feature_0_per_12</th>\n      <th>feature_0_per_2</th>\n      <th>feature_0_per_3</th>\n      <th>feature_0_per_4</th>\n      <th>feature_0_per_5</th>\n      <th>feature_0_per_6</th>\n      <th>...</th>\n      <th>feature_9_per_12</th>\n      <th>feature_9_per_2</th>\n      <th>feature_9_per_3</th>\n      <th>feature_9_per_4</th>\n      <th>feature_9_per_5</th>\n      <th>feature_9_per_6</th>\n      <th>feature_9_per_7</th>\n      <th>feature_9_per_8</th>\n      <th>feature_9_per_9</th>\n      <th>hashes_count</th>\n    </tr>\n  </thead>\n  <tbody>\n    <tr>\n      <th>0</th>\n      <td>0</td>\n      <td>110.0</td>\n      <td>110.000000</td>\n      <td>110.000000</td>\n      <td>110.000000</td>\n      <td>110.0</td>\n      <td>110.0</td>\n      <td>110.000000</td>\n      <td>110.000000</td>\n      <td>110.000000</td>\n      <td>...</td>\n      <td>3.020000</td>\n      <td>0.00</td>\n      <td>0.00</td>\n      <td>0.000000</td>\n      <td>0.000000</td>\n      <td>0.000000</td>\n      <td>0.000000</td>\n      <td>0.000000</td>\n      <td>0.000000</td>\n      <td>10</td>\n    </tr>\n    <tr>\n      <th>1</th>\n      <td>1</td>\n      <td>110.0</td>\n      <td>110.000000</td>\n      <td>110.000000</td>\n      <td>110.000000</td>\n      <td>110.0</td>\n      <td>110.0</td>\n      <td>110.000000</td>\n      <td>110.000000</td>\n      <td>110.000000</td>\n      <td>...</td>\n      <td>8.750000</td>\n      <td>8.75</td>\n      <td>0.00</td>\n      <td>4767.378484</td>\n      <td>3.170000</td>\n      <td>0.150000</td>\n      <td>0.000000</td>\n      <td>0.520000</td>\n      <td>1.800000</td>\n      <td>43</td>\n    </tr>\n    <tr>\n      <th>2</th>\n      <td>2</td>\n      <td>110.0</td>\n      <td>110.000000</td>\n      <td>110.000000</td>\n      <td>110.000000</td>\n      <td>110.0</td>\n      <td>111.0</td>\n      <td>110.000000</td>\n      <td>111.000000</td>\n      <td>110.000000</td>\n      <td>...</td>\n      <td>0.000000</td>\n      <td>0.00</td>\n      <td>0.00</td>\n      <td>0.000000</td>\n      <td>0.000000</td>\n      <td>0.000000</td>\n      <td>0.000000</td>\n      <td>0.000000</td>\n      <td>0.000000</td>\n      <td>15</td>\n    </tr>\n    <tr>\n      <th>3</th>\n      <td>3</td>\n      <td>110.0</td>\n      <td>0.272468</td>\n      <td>0.971221</td>\n      <td>0.556268</td>\n      <td>110.0</td>\n      <td>110.0</td>\n      <td>0.979337</td>\n      <td>0.140671</td>\n      <td>0.044753</td>\n      <td>...</td>\n      <td>0.556268</td>\n      <td>3.98</td>\n      <td>0.47</td>\n      <td>0.979337</td>\n      <td>0.140671</td>\n      <td>0.044753</td>\n      <td>0.206769</td>\n      <td>0.203066</td>\n      <td>0.051168</td>\n      <td>6</td>\n    </tr>\n    <tr>\n      <th>4</th>\n      <td>4</td>\n      <td>110.0</td>\n      <td>110.000000</td>\n      <td>110.000000</td>\n      <td>110.000000</td>\n      <td>110.0</td>\n      <td>110.0</td>\n      <td>110.000000</td>\n      <td>110.000000</td>\n      <td>110.000000</td>\n      <td>...</td>\n      <td>25.180000</td>\n      <td>70.20</td>\n      <td>78.82</td>\n      <td>59.630000</td>\n      <td>68.020000</td>\n      <td>52.850000</td>\n      <td>36.030000</td>\n      <td>14.330000</td>\n      <td>38.770000</td>\n      <td>52</td>\n    </tr>\n  </tbody>\n</table>\n<p>5 rows × 602 columns</p>\n</div>"
     },
     "metadata": {},
     "execution_count": 26
    }
   ],
   "source": [
    "tabular_df_all.head()"
   ]
  },
  {
   "cell_type": "code",
   "execution_count": 27,
   "metadata": {},
   "outputs": [],
   "source": [
    "# Initialize normalizer\n",
    "scaler = preprocessing.StandardScaler()\n",
    "\n",
    "# Data will be normalized for SVM and NN below"
   ]
  },
  {
   "source": [
    "# Building models"
   ],
   "cell_type": "markdown",
   "metadata": {}
  },
  {
   "source": [
    "## Logistic Regression"
   ],
   "cell_type": "markdown",
   "metadata": {}
  },
  {
   "cell_type": "code",
   "execution_count": 28,
   "metadata": {},
   "outputs": [
    {
     "output_type": "stream",
     "name": "stdout",
     "text": [
      "Logistic Regr Means Score:  0.7575757575757576\n",
      "Logistic Regr All-periods Score:  0.8114478114478114\n"
     ]
    }
   ],
   "source": [
    "df_train = pd.merge(tabular_df_means, train_df, on='id')\n",
    "\n",
    "# Split train into train/test to test our model (coz we don't have correct answer in our test dataset - its empty and supposed to filled by us and sent for review)\n",
    "df_train, df_test = train_test_split(df_train, test_size=0.2) \n",
    "\n",
    "y = df_train['target']\n",
    "X = df_train.drop(['period', 'id', 'target'], axis=1).fillna(method='bfill')\n",
    "\n",
    "model = LogisticRegression(random_state=0, solver='newton-cg', multi_class='multinomial').fit(X, y)\n",
    "print('Logistic Regr Means Score: ', model.score(X, y))\n",
    "\n",
    "# Same thing, but for columns with all periods\n",
    "df_train_all = pd.merge(tabular_df_all, train_df, on='id')\n",
    "\n",
    "df_train_all, df_test_all = train_test_split(df_train_all, test_size=0.2)\n",
    "\n",
    "y_all = df_train_all['target']\n",
    "X_all = df_train_all.drop(['id', 'target'], axis=1).fillna(method='bfill')\n",
    "\n",
    "model_all = LogisticRegression(random_state=0, solver='newton-cg', multi_class='multinomial').fit(X_all, y_all)\n",
    "print('Logistic Regr All-periods Score: ', model_all.score(X_all, y_all))"
   ]
  },
  {
   "cell_type": "code",
   "execution_count": 29,
   "metadata": {},
   "outputs": [],
   "source": [
    "# Prediction for means of periods\n",
    "\n",
    "X_pred = df_test.drop(['period', 'id', 'target'], axis=1).fillna(method='bfill')\n",
    "\n",
    "res = model.predict_proba(X_pred)[:,1]\n",
    "\n",
    "# Predictions for all periods included\n",
    "\n",
    "X_pred_all = df_test_all.drop(['id', 'target'], axis=1).fillna(method='bfill')\n",
    "\n",
    "res_all = model_all.predict_proba(X_pred_all)[:,1]"
   ]
  },
  {
   "cell_type": "code",
   "execution_count": 30,
   "metadata": {},
   "outputs": [
    {
     "output_type": "stream",
     "name": "stdout",
     "text": [
      "ROC AUC score for logistic regression (means): 0.6901677788970033\nROC AUC score for logistic regression (all periods): 0.646475\n"
     ]
    }
   ],
   "source": [
    "# Calc ROC AUC score for Logistic Regression (means of periods)\n",
    "y_true = df_test['target']\n",
    "y_scores = res\n",
    "print(f'ROC AUC score for logistic regression (means): {roc_auc_score(y_true, y_scores)}')\n",
    "\n",
    "# Calc ROC AUC score for Logistic Regression (all periods included)\n",
    "y_true_all = df_test_all['target']\n",
    "y_scores_all = res_all\n",
    "\n",
    "print(f'ROC AUC score for logistic regression (all periods): {roc_auc_score(y_true_all, y_scores_all)}')"
   ]
  },
  {
   "source": [
    "## SVM classifier"
   ],
   "cell_type": "markdown",
   "metadata": {}
  },
  {
   "cell_type": "code",
   "execution_count": 31,
   "metadata": {},
   "outputs": [],
   "source": [
    "# SVM classifier (means of periods)\n",
    "X_svm = df_train.drop(['period', 'id', 'target'], axis=1).fillna(method='bfill')\n",
    "y_svm = df_train['target']\n",
    "\n",
    "# normalize data\n",
    "X_svm = scaler.fit_transform(X_svm)\n",
    "X_pred = scaler.fit_transform(X_pred)\n",
    "\n",
    "model_SVC = SVC(kernel = 'rbf', random_state = 3).fit(X_svm, y_svm)\n",
    "\n",
    "y_pred_svm = model_SVC.decision_function(X_pred)\n",
    "\n",
    "# SVM classifier (all periods)\n",
    "X_svm_all = df_train_all.drop(['id', 'target'], axis=1).fillna(method='bfill')\n",
    "y_svm_all = df_train_all['target']\n",
    "\n",
    "# normalize data\n",
    "X_svm_all = scaler.fit_transform(X_svm_all)\n",
    "X_pred_all = scaler.fit_transform(X_pred_all)\n",
    "\n",
    "model_SVC_all = SVC(kernel = 'rbf', random_state = 3).fit(X_svm_all, y_svm_all)\n",
    "\n",
    "y_pred_svm_all = model_SVC_all.decision_function(X_pred_all)"
   ]
  },
  {
   "source": [
    "## Neural Network classifier"
   ],
   "cell_type": "markdown",
   "metadata": {}
  },
  {
   "cell_type": "code",
   "execution_count": 152,
   "metadata": {},
   "outputs": [],
   "source": [
    "# Set and normalize data variables for neural net\n",
    "\n",
    "nn_y_all = df_train_all['target']\n",
    "nn_X_all = df_train_all.drop(['id', 'target'], axis=1).fillna(method='bfill')\n",
    "nn_X_all = scaler.fit_transform(nn_X_all)\n",
    "\n",
    "nn_y_true_all = df_test_all['target']\n",
    "nn_X_pred_all = df_test_all.drop(['id', 'target'], axis=1).fillna(method='bfill')\n",
    "nn_X_pred_all = scaler.fit_transform(nn_X_pred_all)"
   ]
  },
  {
   "cell_type": "code",
   "execution_count": 153,
   "metadata": {},
   "outputs": [
    {
     "output_type": "execute_result",
     "data": {
      "text/plain": [
       "(817, 601)"
      ]
     },
     "metadata": {},
     "execution_count": 153
    }
   ],
   "source": [
    "nn_X_pred_all.shape"
   ]
  },
  {
   "cell_type": "code",
   "execution_count": 168,
   "metadata": {},
   "outputs": [
    {
     "output_type": "stream",
     "name": "stdout",
     "text": [
      "Epoch 1/10\n",
      "409/409 - 2s - loss: 0.6468 - accuracy: 0.7141 - val_loss: 0.6063 - val_accuracy: 0.7625\n",
      "Epoch 2/10\n",
      "409/409 - 1s - loss: 0.6299 - accuracy: 0.7260 - val_loss: 0.5934 - val_accuracy: 0.7638\n",
      "Epoch 3/10\n",
      "409/409 - 1s - loss: 0.6195 - accuracy: 0.7273 - val_loss: 0.5844 - val_accuracy: 0.7638\n",
      "Epoch 4/10\n",
      "409/409 - 1s - loss: 0.6111 - accuracy: 0.7282 - val_loss: 0.5776 - val_accuracy: 0.7638\n",
      "Epoch 5/10\n",
      "409/409 - 1s - loss: 0.6040 - accuracy: 0.7285 - val_loss: 0.5722 - val_accuracy: 0.7638\n",
      "Epoch 6/10\n",
      "409/409 - 1s - loss: 0.5980 - accuracy: 0.7285 - val_loss: 0.5680 - val_accuracy: 0.7638\n",
      "Epoch 7/10\n",
      "409/409 - 1s - loss: 0.5924 - accuracy: 0.7297 - val_loss: 0.5650 - val_accuracy: 0.7650\n",
      "Epoch 8/10\n",
      "409/409 - 1s - loss: 0.5878 - accuracy: 0.7303 - val_loss: 0.5614 - val_accuracy: 0.7625\n",
      "Epoch 9/10\n",
      "409/409 - 1s - loss: 0.5835 - accuracy: 0.7313 - val_loss: 0.5583 - val_accuracy: 0.7625\n",
      "Epoch 10/10\n",
      "409/409 - 1s - loss: 0.5795 - accuracy: 0.7309 - val_loss: 0.5565 - val_accuracy: 0.7650\n"
     ]
    }
   ],
   "source": [
    "def create_nn_model():\n",
    "    model = Sequential()\n",
    "    # 601 feature inputs (attributes/features of abonents/customers)\n",
    "    model.add(Dense(500, input_dim=601, kernel_initializer='normal',activation='relu'))\n",
    "    \n",
    "    # Hidden layer \n",
    "    model.add(Dense(250, kernel_initializer='normal', activation='relu'))\n",
    "    \n",
    "    # Output layer with a binary classification (a driver or not a driver)\n",
    "    model.add(Dense(1, kernel_initializer='normal', activation='sigmoid'))\n",
    "\n",
    "    # Set optimizer\n",
    "    opt = tf.keras.optimizers.SGD(learning_rate=0.0003)\n",
    "\n",
    "    # Compile model\n",
    "    model.compile(loss='binary_crossentropy', optimizer=opt, metrics=['accuracy'])\n",
    "    return model\n",
    "\n",
    "\n",
    "# Put Keras model in an estimator that we can use with scikit_learn with number of inputs of 601\n",
    "estimator = KerasClassifier(build_fn=create_nn_model, epochs=10, verbose=0)\n",
    "\n",
    "\n",
    "nn_model_all = estimator.fit(nn_X_all, nn_y_all,\n",
    "                    batch_size=8,\n",
    "                    epochs=10,\n",
    "                    verbose=2,\n",
    "                    validation_data=(nn_X_pred_all, nn_y_true_all))\n"
   ]
  },
  {
   "cell_type": "code",
   "execution_count": 181,
   "metadata": {},
   "outputs": [
    {
     "output_type": "stream",
     "name": "stdout",
     "text": [
      "26/26 - 0s\n"
     ]
    }
   ],
   "source": [
    "# Prediction\n",
    "y_pred_nn_all = estimator.predict(nn_X_pred_all, verbose=2)"
   ]
  },
  {
   "cell_type": "code",
   "execution_count": 188,
   "metadata": {},
   "outputs": [
    {
     "output_type": "execute_result",
     "data": {
      "text/plain": [
       "array([[0],\n",
       "       [0],\n",
       "       [0],\n",
       "       [0],\n",
       "       [0],\n",
       "       [0],\n",
       "       [0],\n",
       "       [0],\n",
       "       [0],\n",
       "       [0],\n",
       "       [0],\n",
       "       [0],\n",
       "       [0],\n",
       "       [0],\n",
       "       [0],\n",
       "       [0],\n",
       "       [0],\n",
       "       [0],\n",
       "       [0],\n",
       "       [0],\n",
       "       [0],\n",
       "       [0],\n",
       "       [0],\n",
       "       [0],\n",
       "       [0],\n",
       "       [0],\n",
       "       [0],\n",
       "       [0],\n",
       "       [0],\n",
       "       [0],\n",
       "       [0],\n",
       "       [0],\n",
       "       [0],\n",
       "       [0],\n",
       "       [0],\n",
       "       [0],\n",
       "       [0],\n",
       "       [0],\n",
       "       [0],\n",
       "       [0]])"
      ]
     },
     "metadata": {},
     "execution_count": 188
    }
   ],
   "source": [
    "y_pred_nn_all[0:40]"
   ]
  },
  {
   "cell_type": "code",
   "execution_count": 192,
   "metadata": {},
   "outputs": [
    {
     "output_type": "execute_result",
     "data": {
      "text/plain": [
       "array([[ 0.04050804, -0.04189433, -0.05332227, ..., -0.12058083,\n",
       "        -0.02903658,  0.03864619],\n",
       "       [ 0.04050804, -0.03524357, -0.05096323, ..., -0.18247801,\n",
       "        -0.15617811, -0.61210473],\n",
       "       [ 0.04050804, -0.04189433, -0.05332227, ..., -0.08410324,\n",
       "        -0.03678827, -0.17409931],\n",
       "       ...,\n",
       "       [ 0.04050804, -0.04189433, -0.05332227, ..., -0.18247801,\n",
       "        -0.15617811, -0.48696033],\n",
       "       [ 0.04050804, -0.04189433, -0.05332227, ...,  0.03322151,\n",
       "        -0.109345  ,  4.2810416 ],\n",
       "       [ 0.04050804, -0.04189433, -0.05332227, ..., -0.17709431,\n",
       "        -0.1545055 , -0.36181592]])"
      ]
     },
     "metadata": {},
     "execution_count": 192
    }
   ],
   "source": [
    "nn_X_pred_all"
   ]
  },
  {
   "cell_type": "code",
   "execution_count": 176,
   "metadata": {},
   "outputs": [
    {
     "output_type": "execute_result",
     "data": {
      "text/plain": [
       "(817, 1)"
      ]
     },
     "metadata": {},
     "execution_count": 176
    }
   ],
   "source": [
    "y_pred_nn_all.shape"
   ]
  },
  {
   "source": [
    "## Models evaluation and building ROC graph"
   ],
   "cell_type": "markdown",
   "metadata": {}
  },
  {
   "cell_type": "code",
   "execution_count": 183,
   "metadata": {},
   "outputs": [],
   "source": [
    "# Calc ROC and AUC for Logistic Regr (means of periods)\n",
    "logistic_fpr, logistic_tpr, threshold = roc_curve(y_true, y_scores)\n",
    "auc_logistic = auc(logistic_fpr, logistic_tpr)\n",
    "\n",
    "# Calc ROC and AUC for Logistic Regr (all periods used/stacked)\n",
    "logistic_fpr_all, logistic_tpr_all, threshold_all = roc_curve(y_true_all, y_scores_all)\n",
    "auc_logistic_all = auc(logistic_fpr_all, logistic_tpr_all)\n",
    "\n",
    "\n",
    "# Calc ROC and AUC for SVM (means of periods)\n",
    "svm_fpr, svm_tpr, threshold_svm = roc_curve(y_true, y_pred_svm)\n",
    "auc_svm = auc(svm_fpr, svm_tpr)\n",
    "\n",
    "# Calc ROC and AUC for SVM (all periods used/stacked)\n",
    "svm_fpr_all, svm_tpr_all, threshold_svm_all = roc_curve(y_true_all, y_pred_svm_all)\n",
    "auc_svm_all = auc(svm_fpr_all, svm_tpr_all)\n",
    "\n",
    "# Calc ROC and AUC for NN (all periods used/stacked)\n",
    "nn_all_fpr, nn_all_tpr, threshold_NN = roc_curve(y_true_all, y_pred_nn_all)\n",
    "auc_nn_all = auc(nn_all_fpr, nn_all_tpr)"
   ]
  },
  {
   "cell_type": "code",
   "execution_count": 184,
   "metadata": {},
   "outputs": [
    {
     "output_type": "execute_result",
     "data": {
      "text/plain": [
       "0.5036083333333333"
      ]
     },
     "metadata": {},
     "execution_count": 184
    }
   ],
   "source": [
    "auc_nn_all"
   ]
  },
  {
   "cell_type": "code",
   "execution_count": 185,
   "metadata": {},
   "outputs": [
    {
     "output_type": "display_data",
     "data": {
      "text/plain": "<Figure size 576x576 with 1 Axes>",
      "image/svg+xml": "<?xml version=\"1.0\" encoding=\"utf-8\" standalone=\"no\"?>\n<!DOCTYPE svg PUBLIC \"-//W3C//DTD SVG 1.1//EN\"\n  \"http://www.w3.org/Graphics/SVG/1.1/DTD/svg11.dtd\">\n<!-- Created with matplotlib (https://matplotlib.org/) -->\n<svg height=\"494.754375pt\" version=\"1.1\" viewBox=\"0 0 505.332812 494.754375\" width=\"505.332812pt\" xmlns=\"http://www.w3.org/2000/svg\" xmlns:xlink=\"http://www.w3.org/1999/xlink\">\n <metadata>\n  <rdf:RDF xmlns:cc=\"http://creativecommons.org/ns#\" xmlns:dc=\"http://purl.org/dc/elements/1.1/\" xmlns:rdf=\"http://www.w3.org/1999/02/22-rdf-syntax-ns#\">\n   <cc:Work>\n    <dc:type rdf:resource=\"http://purl.org/dc/dcmitype/StillImage\"/>\n    <dc:date>2021-03-16T23:26:49.024532</dc:date>\n    <dc:format>image/svg+xml</dc:format>\n    <dc:creator>\n     <cc:Agent>\n      <dc:title>Matplotlib v3.3.2, https://matplotlib.org/</dc:title>\n     </cc:Agent>\n    </dc:creator>\n   </cc:Work>\n  </rdf:RDF>\n </metadata>\n <defs>\n  <style type=\"text/css\">*{stroke-linecap:butt;stroke-linejoin:round;}</style>\n </defs>\n <g id=\"figure_1\">\n  <g id=\"patch_1\">\n   <path d=\"M 0 494.754375 \nL 505.332812 494.754375 \nL 505.332812 0 \nL 0 0 \nz\n\" style=\"fill:none;\"/>\n  </g>\n  <g id=\"axes_1\">\n   <g id=\"patch_2\">\n    <path d=\"M 43.78125 457.198125 \nL 490.18125 457.198125 \nL 490.18125 22.318125 \nL 43.78125 22.318125 \nz\n\" style=\"fill:#ffffff;\"/>\n   </g>\n   <g id=\"matplotlib.axis_1\">\n    <g id=\"xtick_1\">\n     <g id=\"line2d_1\">\n      <path clip-path=\"url(#pc1d4e296dc)\" d=\"M 43.78125 457.198125 \nL 43.78125 22.318125 \n\" style=\"fill:none;stroke:#b0b0b0;stroke-linecap:square;stroke-width:0.8;\"/>\n     </g>\n     <g id=\"line2d_2\">\n      <defs>\n       <path d=\"M 0 0 \nL 0 3.5 \n\" id=\"m7b98596ade\" style=\"stroke:#000000;stroke-width:0.8;\"/>\n      </defs>\n      <g>\n       <use style=\"stroke:#000000;stroke-width:0.8;\" x=\"43.78125\" xlink:href=\"#m7b98596ade\" y=\"457.198125\"/>\n      </g>\n     </g>\n     <g id=\"text_1\">\n      <!-- 0.0 -->\n      <g transform=\"translate(35.829688 471.796562)scale(0.1 -0.1)\">\n       <defs>\n        <path d=\"M 31.78125 66.40625 \nQ 24.171875 66.40625 20.328125 58.90625 \nQ 16.5 51.421875 16.5 36.375 \nQ 16.5 21.390625 20.328125 13.890625 \nQ 24.171875 6.390625 31.78125 6.390625 \nQ 39.453125 6.390625 43.28125 13.890625 \nQ 47.125 21.390625 47.125 36.375 \nQ 47.125 51.421875 43.28125 58.90625 \nQ 39.453125 66.40625 31.78125 66.40625 \nz\nM 31.78125 74.21875 \nQ 44.046875 74.21875 50.515625 64.515625 \nQ 56.984375 54.828125 56.984375 36.375 \nQ 56.984375 17.96875 50.515625 8.265625 \nQ 44.046875 -1.421875 31.78125 -1.421875 \nQ 19.53125 -1.421875 13.0625 8.265625 \nQ 6.59375 17.96875 6.59375 36.375 \nQ 6.59375 54.828125 13.0625 64.515625 \nQ 19.53125 74.21875 31.78125 74.21875 \nz\n\" id=\"DejaVuSans-48\"/>\n        <path d=\"M 10.6875 12.40625 \nL 21 12.40625 \nL 21 0 \nL 10.6875 0 \nz\n\" id=\"DejaVuSans-46\"/>\n       </defs>\n       <use xlink:href=\"#DejaVuSans-48\"/>\n       <use x=\"63.623047\" xlink:href=\"#DejaVuSans-46\"/>\n       <use x=\"95.410156\" xlink:href=\"#DejaVuSans-48\"/>\n      </g>\n     </g>\n    </g>\n    <g id=\"xtick_2\">\n     <g id=\"line2d_3\">\n      <path clip-path=\"url(#pc1d4e296dc)\" d=\"M 133.06125 457.198125 \nL 133.06125 22.318125 \n\" style=\"fill:none;stroke:#b0b0b0;stroke-linecap:square;stroke-width:0.8;\"/>\n     </g>\n     <g id=\"line2d_4\">\n      <g>\n       <use style=\"stroke:#000000;stroke-width:0.8;\" x=\"133.06125\" xlink:href=\"#m7b98596ade\" y=\"457.198125\"/>\n      </g>\n     </g>\n     <g id=\"text_2\">\n      <!-- 0.2 -->\n      <g transform=\"translate(125.109688 471.796562)scale(0.1 -0.1)\">\n       <defs>\n        <path d=\"M 19.1875 8.296875 \nL 53.609375 8.296875 \nL 53.609375 0 \nL 7.328125 0 \nL 7.328125 8.296875 \nQ 12.9375 14.109375 22.625 23.890625 \nQ 32.328125 33.6875 34.8125 36.53125 \nQ 39.546875 41.84375 41.421875 45.53125 \nQ 43.3125 49.21875 43.3125 52.78125 \nQ 43.3125 58.59375 39.234375 62.25 \nQ 35.15625 65.921875 28.609375 65.921875 \nQ 23.96875 65.921875 18.8125 64.3125 \nQ 13.671875 62.703125 7.8125 59.421875 \nL 7.8125 69.390625 \nQ 13.765625 71.78125 18.9375 73 \nQ 24.125 74.21875 28.421875 74.21875 \nQ 39.75 74.21875 46.484375 68.546875 \nQ 53.21875 62.890625 53.21875 53.421875 \nQ 53.21875 48.921875 51.53125 44.890625 \nQ 49.859375 40.875 45.40625 35.40625 \nQ 44.1875 33.984375 37.640625 27.21875 \nQ 31.109375 20.453125 19.1875 8.296875 \nz\n\" id=\"DejaVuSans-50\"/>\n       </defs>\n       <use xlink:href=\"#DejaVuSans-48\"/>\n       <use x=\"63.623047\" xlink:href=\"#DejaVuSans-46\"/>\n       <use x=\"95.410156\" xlink:href=\"#DejaVuSans-50\"/>\n      </g>\n     </g>\n    </g>\n    <g id=\"xtick_3\">\n     <g id=\"line2d_5\">\n      <path clip-path=\"url(#pc1d4e296dc)\" d=\"M 222.34125 457.198125 \nL 222.34125 22.318125 \n\" style=\"fill:none;stroke:#b0b0b0;stroke-linecap:square;stroke-width:0.8;\"/>\n     </g>\n     <g id=\"line2d_6\">\n      <g>\n       <use style=\"stroke:#000000;stroke-width:0.8;\" x=\"222.34125\" xlink:href=\"#m7b98596ade\" y=\"457.198125\"/>\n      </g>\n     </g>\n     <g id=\"text_3\">\n      <!-- 0.4 -->\n      <g transform=\"translate(214.389688 471.796562)scale(0.1 -0.1)\">\n       <defs>\n        <path d=\"M 37.796875 64.3125 \nL 12.890625 25.390625 \nL 37.796875 25.390625 \nz\nM 35.203125 72.90625 \nL 47.609375 72.90625 \nL 47.609375 25.390625 \nL 58.015625 25.390625 \nL 58.015625 17.1875 \nL 47.609375 17.1875 \nL 47.609375 0 \nL 37.796875 0 \nL 37.796875 17.1875 \nL 4.890625 17.1875 \nL 4.890625 26.703125 \nz\n\" id=\"DejaVuSans-52\"/>\n       </defs>\n       <use xlink:href=\"#DejaVuSans-48\"/>\n       <use x=\"63.623047\" xlink:href=\"#DejaVuSans-46\"/>\n       <use x=\"95.410156\" xlink:href=\"#DejaVuSans-52\"/>\n      </g>\n     </g>\n    </g>\n    <g id=\"xtick_4\">\n     <g id=\"line2d_7\">\n      <path clip-path=\"url(#pc1d4e296dc)\" d=\"M 311.62125 457.198125 \nL 311.62125 22.318125 \n\" style=\"fill:none;stroke:#b0b0b0;stroke-linecap:square;stroke-width:0.8;\"/>\n     </g>\n     <g id=\"line2d_8\">\n      <g>\n       <use style=\"stroke:#000000;stroke-width:0.8;\" x=\"311.62125\" xlink:href=\"#m7b98596ade\" y=\"457.198125\"/>\n      </g>\n     </g>\n     <g id=\"text_4\">\n      <!-- 0.6 -->\n      <g transform=\"translate(303.669688 471.796562)scale(0.1 -0.1)\">\n       <defs>\n        <path d=\"M 33.015625 40.375 \nQ 26.375 40.375 22.484375 35.828125 \nQ 18.609375 31.296875 18.609375 23.390625 \nQ 18.609375 15.53125 22.484375 10.953125 \nQ 26.375 6.390625 33.015625 6.390625 \nQ 39.65625 6.390625 43.53125 10.953125 \nQ 47.40625 15.53125 47.40625 23.390625 \nQ 47.40625 31.296875 43.53125 35.828125 \nQ 39.65625 40.375 33.015625 40.375 \nz\nM 52.59375 71.296875 \nL 52.59375 62.3125 \nQ 48.875 64.0625 45.09375 64.984375 \nQ 41.3125 65.921875 37.59375 65.921875 \nQ 27.828125 65.921875 22.671875 59.328125 \nQ 17.53125 52.734375 16.796875 39.40625 \nQ 19.671875 43.65625 24.015625 45.921875 \nQ 28.375 48.1875 33.59375 48.1875 \nQ 44.578125 48.1875 50.953125 41.515625 \nQ 57.328125 34.859375 57.328125 23.390625 \nQ 57.328125 12.15625 50.6875 5.359375 \nQ 44.046875 -1.421875 33.015625 -1.421875 \nQ 20.359375 -1.421875 13.671875 8.265625 \nQ 6.984375 17.96875 6.984375 36.375 \nQ 6.984375 53.65625 15.1875 63.9375 \nQ 23.390625 74.21875 37.203125 74.21875 \nQ 40.921875 74.21875 44.703125 73.484375 \nQ 48.484375 72.75 52.59375 71.296875 \nz\n\" id=\"DejaVuSans-54\"/>\n       </defs>\n       <use xlink:href=\"#DejaVuSans-48\"/>\n       <use x=\"63.623047\" xlink:href=\"#DejaVuSans-46\"/>\n       <use x=\"95.410156\" xlink:href=\"#DejaVuSans-54\"/>\n      </g>\n     </g>\n    </g>\n    <g id=\"xtick_5\">\n     <g id=\"line2d_9\">\n      <path clip-path=\"url(#pc1d4e296dc)\" d=\"M 400.90125 457.198125 \nL 400.90125 22.318125 \n\" style=\"fill:none;stroke:#b0b0b0;stroke-linecap:square;stroke-width:0.8;\"/>\n     </g>\n     <g id=\"line2d_10\">\n      <g>\n       <use style=\"stroke:#000000;stroke-width:0.8;\" x=\"400.90125\" xlink:href=\"#m7b98596ade\" y=\"457.198125\"/>\n      </g>\n     </g>\n     <g id=\"text_5\">\n      <!-- 0.8 -->\n      <g transform=\"translate(392.949687 471.796562)scale(0.1 -0.1)\">\n       <defs>\n        <path d=\"M 31.78125 34.625 \nQ 24.75 34.625 20.71875 30.859375 \nQ 16.703125 27.09375 16.703125 20.515625 \nQ 16.703125 13.921875 20.71875 10.15625 \nQ 24.75 6.390625 31.78125 6.390625 \nQ 38.8125 6.390625 42.859375 10.171875 \nQ 46.921875 13.96875 46.921875 20.515625 \nQ 46.921875 27.09375 42.890625 30.859375 \nQ 38.875 34.625 31.78125 34.625 \nz\nM 21.921875 38.8125 \nQ 15.578125 40.375 12.03125 44.71875 \nQ 8.5 49.078125 8.5 55.328125 \nQ 8.5 64.0625 14.71875 69.140625 \nQ 20.953125 74.21875 31.78125 74.21875 \nQ 42.671875 74.21875 48.875 69.140625 \nQ 55.078125 64.0625 55.078125 55.328125 \nQ 55.078125 49.078125 51.53125 44.71875 \nQ 48 40.375 41.703125 38.8125 \nQ 48.828125 37.15625 52.796875 32.3125 \nQ 56.78125 27.484375 56.78125 20.515625 \nQ 56.78125 9.90625 50.3125 4.234375 \nQ 43.84375 -1.421875 31.78125 -1.421875 \nQ 19.734375 -1.421875 13.25 4.234375 \nQ 6.78125 9.90625 6.78125 20.515625 \nQ 6.78125 27.484375 10.78125 32.3125 \nQ 14.796875 37.15625 21.921875 38.8125 \nz\nM 18.3125 54.390625 \nQ 18.3125 48.734375 21.84375 45.5625 \nQ 25.390625 42.390625 31.78125 42.390625 \nQ 38.140625 42.390625 41.71875 45.5625 \nQ 45.3125 48.734375 45.3125 54.390625 \nQ 45.3125 60.0625 41.71875 63.234375 \nQ 38.140625 66.40625 31.78125 66.40625 \nQ 25.390625 66.40625 21.84375 63.234375 \nQ 18.3125 60.0625 18.3125 54.390625 \nz\n\" id=\"DejaVuSans-56\"/>\n       </defs>\n       <use xlink:href=\"#DejaVuSans-48\"/>\n       <use x=\"63.623047\" xlink:href=\"#DejaVuSans-46\"/>\n       <use x=\"95.410156\" xlink:href=\"#DejaVuSans-56\"/>\n      </g>\n     </g>\n    </g>\n    <g id=\"xtick_6\">\n     <g id=\"line2d_11\">\n      <path clip-path=\"url(#pc1d4e296dc)\" d=\"M 490.18125 457.198125 \nL 490.18125 22.318125 \n\" style=\"fill:none;stroke:#b0b0b0;stroke-linecap:square;stroke-width:0.8;\"/>\n     </g>\n     <g id=\"line2d_12\">\n      <g>\n       <use style=\"stroke:#000000;stroke-width:0.8;\" x=\"490.18125\" xlink:href=\"#m7b98596ade\" y=\"457.198125\"/>\n      </g>\n     </g>\n     <g id=\"text_6\">\n      <!-- 1.0 -->\n      <g transform=\"translate(482.229687 471.796562)scale(0.1 -0.1)\">\n       <defs>\n        <path d=\"M 12.40625 8.296875 \nL 28.515625 8.296875 \nL 28.515625 63.921875 \nL 10.984375 60.40625 \nL 10.984375 69.390625 \nL 28.421875 72.90625 \nL 38.28125 72.90625 \nL 38.28125 8.296875 \nL 54.390625 8.296875 \nL 54.390625 0 \nL 12.40625 0 \nz\n\" id=\"DejaVuSans-49\"/>\n       </defs>\n       <use xlink:href=\"#DejaVuSans-49\"/>\n       <use x=\"63.623047\" xlink:href=\"#DejaVuSans-46\"/>\n       <use x=\"95.410156\" xlink:href=\"#DejaVuSans-48\"/>\n      </g>\n     </g>\n    </g>\n    <g id=\"text_7\">\n     <!-- False Positive Rate -->\n     <g transform=\"translate(220.514844 485.474687)scale(0.1 -0.1)\">\n      <defs>\n       <path d=\"M 9.8125 72.90625 \nL 51.703125 72.90625 \nL 51.703125 64.59375 \nL 19.671875 64.59375 \nL 19.671875 43.109375 \nL 48.578125 43.109375 \nL 48.578125 34.8125 \nL 19.671875 34.8125 \nL 19.671875 0 \nL 9.8125 0 \nz\n\" id=\"DejaVuSans-70\"/>\n       <path d=\"M 34.28125 27.484375 \nQ 23.390625 27.484375 19.1875 25 \nQ 14.984375 22.515625 14.984375 16.5 \nQ 14.984375 11.71875 18.140625 8.90625 \nQ 21.296875 6.109375 26.703125 6.109375 \nQ 34.1875 6.109375 38.703125 11.40625 \nQ 43.21875 16.703125 43.21875 25.484375 \nL 43.21875 27.484375 \nz\nM 52.203125 31.203125 \nL 52.203125 0 \nL 43.21875 0 \nL 43.21875 8.296875 \nQ 40.140625 3.328125 35.546875 0.953125 \nQ 30.953125 -1.421875 24.3125 -1.421875 \nQ 15.921875 -1.421875 10.953125 3.296875 \nQ 6 8.015625 6 15.921875 \nQ 6 25.140625 12.171875 29.828125 \nQ 18.359375 34.515625 30.609375 34.515625 \nL 43.21875 34.515625 \nL 43.21875 35.40625 \nQ 43.21875 41.609375 39.140625 45 \nQ 35.0625 48.390625 27.6875 48.390625 \nQ 23 48.390625 18.546875 47.265625 \nQ 14.109375 46.140625 10.015625 43.890625 \nL 10.015625 52.203125 \nQ 14.9375 54.109375 19.578125 55.046875 \nQ 24.21875 56 28.609375 56 \nQ 40.484375 56 46.34375 49.84375 \nQ 52.203125 43.703125 52.203125 31.203125 \nz\n\" id=\"DejaVuSans-97\"/>\n       <path d=\"M 9.421875 75.984375 \nL 18.40625 75.984375 \nL 18.40625 0 \nL 9.421875 0 \nz\n\" id=\"DejaVuSans-108\"/>\n       <path d=\"M 44.28125 53.078125 \nL 44.28125 44.578125 \nQ 40.484375 46.53125 36.375 47.5 \nQ 32.28125 48.484375 27.875 48.484375 \nQ 21.1875 48.484375 17.84375 46.4375 \nQ 14.5 44.390625 14.5 40.28125 \nQ 14.5 37.15625 16.890625 35.375 \nQ 19.28125 33.59375 26.515625 31.984375 \nL 29.59375 31.296875 \nQ 39.15625 29.25 43.1875 25.515625 \nQ 47.21875 21.78125 47.21875 15.09375 \nQ 47.21875 7.46875 41.1875 3.015625 \nQ 35.15625 -1.421875 24.609375 -1.421875 \nQ 20.21875 -1.421875 15.453125 -0.5625 \nQ 10.6875 0.296875 5.421875 2 \nL 5.421875 11.28125 \nQ 10.40625 8.6875 15.234375 7.390625 \nQ 20.0625 6.109375 24.8125 6.109375 \nQ 31.15625 6.109375 34.5625 8.28125 \nQ 37.984375 10.453125 37.984375 14.40625 \nQ 37.984375 18.0625 35.515625 20.015625 \nQ 33.0625 21.96875 24.703125 23.78125 \nL 21.578125 24.515625 \nQ 13.234375 26.265625 9.515625 29.90625 \nQ 5.8125 33.546875 5.8125 39.890625 \nQ 5.8125 47.609375 11.28125 51.796875 \nQ 16.75 56 26.8125 56 \nQ 31.78125 56 36.171875 55.265625 \nQ 40.578125 54.546875 44.28125 53.078125 \nz\n\" id=\"DejaVuSans-115\"/>\n       <path d=\"M 56.203125 29.59375 \nL 56.203125 25.203125 \nL 14.890625 25.203125 \nQ 15.484375 15.921875 20.484375 11.0625 \nQ 25.484375 6.203125 34.421875 6.203125 \nQ 39.59375 6.203125 44.453125 7.46875 \nQ 49.3125 8.734375 54.109375 11.28125 \nL 54.109375 2.78125 \nQ 49.265625 0.734375 44.1875 -0.34375 \nQ 39.109375 -1.421875 33.890625 -1.421875 \nQ 20.796875 -1.421875 13.15625 6.1875 \nQ 5.515625 13.8125 5.515625 26.8125 \nQ 5.515625 40.234375 12.765625 48.109375 \nQ 20.015625 56 32.328125 56 \nQ 43.359375 56 49.78125 48.890625 \nQ 56.203125 41.796875 56.203125 29.59375 \nz\nM 47.21875 32.234375 \nQ 47.125 39.59375 43.09375 43.984375 \nQ 39.0625 48.390625 32.421875 48.390625 \nQ 24.90625 48.390625 20.390625 44.140625 \nQ 15.875 39.890625 15.1875 32.171875 \nz\n\" id=\"DejaVuSans-101\"/>\n       <path id=\"DejaVuSans-32\"/>\n       <path d=\"M 19.671875 64.796875 \nL 19.671875 37.40625 \nL 32.078125 37.40625 \nQ 38.96875 37.40625 42.71875 40.96875 \nQ 46.484375 44.53125 46.484375 51.125 \nQ 46.484375 57.671875 42.71875 61.234375 \nQ 38.96875 64.796875 32.078125 64.796875 \nz\nM 9.8125 72.90625 \nL 32.078125 72.90625 \nQ 44.34375 72.90625 50.609375 67.359375 \nQ 56.890625 61.8125 56.890625 51.125 \nQ 56.890625 40.328125 50.609375 34.8125 \nQ 44.34375 29.296875 32.078125 29.296875 \nL 19.671875 29.296875 \nL 19.671875 0 \nL 9.8125 0 \nz\n\" id=\"DejaVuSans-80\"/>\n       <path d=\"M 30.609375 48.390625 \nQ 23.390625 48.390625 19.1875 42.75 \nQ 14.984375 37.109375 14.984375 27.296875 \nQ 14.984375 17.484375 19.15625 11.84375 \nQ 23.34375 6.203125 30.609375 6.203125 \nQ 37.796875 6.203125 41.984375 11.859375 \nQ 46.1875 17.53125 46.1875 27.296875 \nQ 46.1875 37.015625 41.984375 42.703125 \nQ 37.796875 48.390625 30.609375 48.390625 \nz\nM 30.609375 56 \nQ 42.328125 56 49.015625 48.375 \nQ 55.71875 40.765625 55.71875 27.296875 \nQ 55.71875 13.875 49.015625 6.21875 \nQ 42.328125 -1.421875 30.609375 -1.421875 \nQ 18.84375 -1.421875 12.171875 6.21875 \nQ 5.515625 13.875 5.515625 27.296875 \nQ 5.515625 40.765625 12.171875 48.375 \nQ 18.84375 56 30.609375 56 \nz\n\" id=\"DejaVuSans-111\"/>\n       <path d=\"M 9.421875 54.6875 \nL 18.40625 54.6875 \nL 18.40625 0 \nL 9.421875 0 \nz\nM 9.421875 75.984375 \nL 18.40625 75.984375 \nL 18.40625 64.59375 \nL 9.421875 64.59375 \nz\n\" id=\"DejaVuSans-105\"/>\n       <path d=\"M 18.3125 70.21875 \nL 18.3125 54.6875 \nL 36.8125 54.6875 \nL 36.8125 47.703125 \nL 18.3125 47.703125 \nL 18.3125 18.015625 \nQ 18.3125 11.328125 20.140625 9.421875 \nQ 21.96875 7.515625 27.59375 7.515625 \nL 36.8125 7.515625 \nL 36.8125 0 \nL 27.59375 0 \nQ 17.1875 0 13.234375 3.875 \nQ 9.28125 7.765625 9.28125 18.015625 \nL 9.28125 47.703125 \nL 2.6875 47.703125 \nL 2.6875 54.6875 \nL 9.28125 54.6875 \nL 9.28125 70.21875 \nz\n\" id=\"DejaVuSans-116\"/>\n       <path d=\"M 2.984375 54.6875 \nL 12.5 54.6875 \nL 29.59375 8.796875 \nL 46.6875 54.6875 \nL 56.203125 54.6875 \nL 35.6875 0 \nL 23.484375 0 \nz\n\" id=\"DejaVuSans-118\"/>\n       <path d=\"M 44.390625 34.1875 \nQ 47.5625 33.109375 50.5625 29.59375 \nQ 53.5625 26.078125 56.59375 19.921875 \nL 66.609375 0 \nL 56 0 \nL 46.6875 18.703125 \nQ 43.0625 26.03125 39.671875 28.421875 \nQ 36.28125 30.8125 30.421875 30.8125 \nL 19.671875 30.8125 \nL 19.671875 0 \nL 9.8125 0 \nL 9.8125 72.90625 \nL 32.078125 72.90625 \nQ 44.578125 72.90625 50.734375 67.671875 \nQ 56.890625 62.453125 56.890625 51.90625 \nQ 56.890625 45.015625 53.6875 40.46875 \nQ 50.484375 35.9375 44.390625 34.1875 \nz\nM 19.671875 64.796875 \nL 19.671875 38.921875 \nL 32.078125 38.921875 \nQ 39.203125 38.921875 42.84375 42.21875 \nQ 46.484375 45.515625 46.484375 51.90625 \nQ 46.484375 58.296875 42.84375 61.546875 \nQ 39.203125 64.796875 32.078125 64.796875 \nz\n\" id=\"DejaVuSans-82\"/>\n      </defs>\n      <use xlink:href=\"#DejaVuSans-70\"/>\n      <use x=\"48.394531\" xlink:href=\"#DejaVuSans-97\"/>\n      <use x=\"109.673828\" xlink:href=\"#DejaVuSans-108\"/>\n      <use x=\"137.457031\" xlink:href=\"#DejaVuSans-115\"/>\n      <use x=\"189.556641\" xlink:href=\"#DejaVuSans-101\"/>\n      <use x=\"251.080078\" xlink:href=\"#DejaVuSans-32\"/>\n      <use x=\"282.867188\" xlink:href=\"#DejaVuSans-80\"/>\n      <use x=\"339.544922\" xlink:href=\"#DejaVuSans-111\"/>\n      <use x=\"400.726562\" xlink:href=\"#DejaVuSans-115\"/>\n      <use x=\"452.826172\" xlink:href=\"#DejaVuSans-105\"/>\n      <use x=\"480.609375\" xlink:href=\"#DejaVuSans-116\"/>\n      <use x=\"519.818359\" xlink:href=\"#DejaVuSans-105\"/>\n      <use x=\"547.601562\" xlink:href=\"#DejaVuSans-118\"/>\n      <use x=\"606.78125\" xlink:href=\"#DejaVuSans-101\"/>\n      <use x=\"668.304688\" xlink:href=\"#DejaVuSans-32\"/>\n      <use x=\"700.091797\" xlink:href=\"#DejaVuSans-82\"/>\n      <use x=\"767.324219\" xlink:href=\"#DejaVuSans-97\"/>\n      <use x=\"828.603516\" xlink:href=\"#DejaVuSans-116\"/>\n      <use x=\"867.8125\" xlink:href=\"#DejaVuSans-101\"/>\n     </g>\n    </g>\n   </g>\n   <g id=\"matplotlib.axis_2\">\n    <g id=\"ytick_1\">\n     <g id=\"line2d_13\">\n      <path clip-path=\"url(#pc1d4e296dc)\" d=\"M 43.78125 457.198125 \nL 490.18125 457.198125 \n\" style=\"fill:none;stroke:#b0b0b0;stroke-linecap:square;stroke-width:0.8;\"/>\n     </g>\n     <g id=\"line2d_14\">\n      <defs>\n       <path d=\"M 0 0 \nL -3.5 0 \n\" id=\"m941351c9bf\" style=\"stroke:#000000;stroke-width:0.8;\"/>\n      </defs>\n      <g>\n       <use style=\"stroke:#000000;stroke-width:0.8;\" x=\"43.78125\" xlink:href=\"#m941351c9bf\" y=\"457.198125\"/>\n      </g>\n     </g>\n     <g id=\"text_8\">\n      <!-- 0.0 -->\n      <g transform=\"translate(20.878125 460.997344)scale(0.1 -0.1)\">\n       <use xlink:href=\"#DejaVuSans-48\"/>\n       <use x=\"63.623047\" xlink:href=\"#DejaVuSans-46\"/>\n       <use x=\"95.410156\" xlink:href=\"#DejaVuSans-48\"/>\n      </g>\n     </g>\n    </g>\n    <g id=\"ytick_2\">\n     <g id=\"line2d_15\">\n      <path clip-path=\"url(#pc1d4e296dc)\" d=\"M 43.78125 370.222125 \nL 490.18125 370.222125 \n\" style=\"fill:none;stroke:#b0b0b0;stroke-linecap:square;stroke-width:0.8;\"/>\n     </g>\n     <g id=\"line2d_16\">\n      <g>\n       <use style=\"stroke:#000000;stroke-width:0.8;\" x=\"43.78125\" xlink:href=\"#m941351c9bf\" y=\"370.222125\"/>\n      </g>\n     </g>\n     <g id=\"text_9\">\n      <!-- 0.2 -->\n      <g transform=\"translate(20.878125 374.021344)scale(0.1 -0.1)\">\n       <use xlink:href=\"#DejaVuSans-48\"/>\n       <use x=\"63.623047\" xlink:href=\"#DejaVuSans-46\"/>\n       <use x=\"95.410156\" xlink:href=\"#DejaVuSans-50\"/>\n      </g>\n     </g>\n    </g>\n    <g id=\"ytick_3\">\n     <g id=\"line2d_17\">\n      <path clip-path=\"url(#pc1d4e296dc)\" d=\"M 43.78125 283.246125 \nL 490.18125 283.246125 \n\" style=\"fill:none;stroke:#b0b0b0;stroke-linecap:square;stroke-width:0.8;\"/>\n     </g>\n     <g id=\"line2d_18\">\n      <g>\n       <use style=\"stroke:#000000;stroke-width:0.8;\" x=\"43.78125\" xlink:href=\"#m941351c9bf\" y=\"283.246125\"/>\n      </g>\n     </g>\n     <g id=\"text_10\">\n      <!-- 0.4 -->\n      <g transform=\"translate(20.878125 287.045344)scale(0.1 -0.1)\">\n       <use xlink:href=\"#DejaVuSans-48\"/>\n       <use x=\"63.623047\" xlink:href=\"#DejaVuSans-46\"/>\n       <use x=\"95.410156\" xlink:href=\"#DejaVuSans-52\"/>\n      </g>\n     </g>\n    </g>\n    <g id=\"ytick_4\">\n     <g id=\"line2d_19\">\n      <path clip-path=\"url(#pc1d4e296dc)\" d=\"M 43.78125 196.270125 \nL 490.18125 196.270125 \n\" style=\"fill:none;stroke:#b0b0b0;stroke-linecap:square;stroke-width:0.8;\"/>\n     </g>\n     <g id=\"line2d_20\">\n      <g>\n       <use style=\"stroke:#000000;stroke-width:0.8;\" x=\"43.78125\" xlink:href=\"#m941351c9bf\" y=\"196.270125\"/>\n      </g>\n     </g>\n     <g id=\"text_11\">\n      <!-- 0.6 -->\n      <g transform=\"translate(20.878125 200.069344)scale(0.1 -0.1)\">\n       <use xlink:href=\"#DejaVuSans-48\"/>\n       <use x=\"63.623047\" xlink:href=\"#DejaVuSans-46\"/>\n       <use x=\"95.410156\" xlink:href=\"#DejaVuSans-54\"/>\n      </g>\n     </g>\n    </g>\n    <g id=\"ytick_5\">\n     <g id=\"line2d_21\">\n      <path clip-path=\"url(#pc1d4e296dc)\" d=\"M 43.78125 109.294125 \nL 490.18125 109.294125 \n\" style=\"fill:none;stroke:#b0b0b0;stroke-linecap:square;stroke-width:0.8;\"/>\n     </g>\n     <g id=\"line2d_22\">\n      <g>\n       <use style=\"stroke:#000000;stroke-width:0.8;\" x=\"43.78125\" xlink:href=\"#m941351c9bf\" y=\"109.294125\"/>\n      </g>\n     </g>\n     <g id=\"text_12\">\n      <!-- 0.8 -->\n      <g transform=\"translate(20.878125 113.093344)scale(0.1 -0.1)\">\n       <use xlink:href=\"#DejaVuSans-48\"/>\n       <use x=\"63.623047\" xlink:href=\"#DejaVuSans-46\"/>\n       <use x=\"95.410156\" xlink:href=\"#DejaVuSans-56\"/>\n      </g>\n     </g>\n    </g>\n    <g id=\"ytick_6\">\n     <g id=\"line2d_23\">\n      <path clip-path=\"url(#pc1d4e296dc)\" d=\"M 43.78125 22.318125 \nL 490.18125 22.318125 \n\" style=\"fill:none;stroke:#b0b0b0;stroke-linecap:square;stroke-width:0.8;\"/>\n     </g>\n     <g id=\"line2d_24\">\n      <g>\n       <use style=\"stroke:#000000;stroke-width:0.8;\" x=\"43.78125\" xlink:href=\"#m941351c9bf\" y=\"22.318125\"/>\n      </g>\n     </g>\n     <g id=\"text_13\">\n      <!-- 1.0 -->\n      <g transform=\"translate(20.878125 26.117344)scale(0.1 -0.1)\">\n       <use xlink:href=\"#DejaVuSans-49\"/>\n       <use x=\"63.623047\" xlink:href=\"#DejaVuSans-46\"/>\n       <use x=\"95.410156\" xlink:href=\"#DejaVuSans-48\"/>\n      </g>\n     </g>\n    </g>\n    <g id=\"text_14\">\n     <!-- True Positive Rate -->\n     <g transform=\"translate(14.798438 284.287812)rotate(-90)scale(0.1 -0.1)\">\n      <defs>\n       <path d=\"M -0.296875 72.90625 \nL 61.375 72.90625 \nL 61.375 64.59375 \nL 35.5 64.59375 \nL 35.5 0 \nL 25.59375 0 \nL 25.59375 64.59375 \nL -0.296875 64.59375 \nz\n\" id=\"DejaVuSans-84\"/>\n       <path d=\"M 41.109375 46.296875 \nQ 39.59375 47.171875 37.8125 47.578125 \nQ 36.03125 48 33.890625 48 \nQ 26.265625 48 22.1875 43.046875 \nQ 18.109375 38.09375 18.109375 28.8125 \nL 18.109375 0 \nL 9.078125 0 \nL 9.078125 54.6875 \nL 18.109375 54.6875 \nL 18.109375 46.1875 \nQ 20.953125 51.171875 25.484375 53.578125 \nQ 30.03125 56 36.53125 56 \nQ 37.453125 56 38.578125 55.875 \nQ 39.703125 55.765625 41.0625 55.515625 \nz\n\" id=\"DejaVuSans-114\"/>\n       <path d=\"M 8.5 21.578125 \nL 8.5 54.6875 \nL 17.484375 54.6875 \nL 17.484375 21.921875 \nQ 17.484375 14.15625 20.5 10.265625 \nQ 23.53125 6.390625 29.59375 6.390625 \nQ 36.859375 6.390625 41.078125 11.03125 \nQ 45.3125 15.671875 45.3125 23.6875 \nL 45.3125 54.6875 \nL 54.296875 54.6875 \nL 54.296875 0 \nL 45.3125 0 \nL 45.3125 8.40625 \nQ 42.046875 3.421875 37.71875 1 \nQ 33.40625 -1.421875 27.6875 -1.421875 \nQ 18.265625 -1.421875 13.375 4.4375 \nQ 8.5 10.296875 8.5 21.578125 \nz\nM 31.109375 56 \nz\n\" id=\"DejaVuSans-117\"/>\n      </defs>\n      <use xlink:href=\"#DejaVuSans-84\"/>\n      <use x=\"46.333984\" xlink:href=\"#DejaVuSans-114\"/>\n      <use x=\"87.447266\" xlink:href=\"#DejaVuSans-117\"/>\n      <use x=\"150.826172\" xlink:href=\"#DejaVuSans-101\"/>\n      <use x=\"212.349609\" xlink:href=\"#DejaVuSans-32\"/>\n      <use x=\"244.136719\" xlink:href=\"#DejaVuSans-80\"/>\n      <use x=\"300.814453\" xlink:href=\"#DejaVuSans-111\"/>\n      <use x=\"361.996094\" xlink:href=\"#DejaVuSans-115\"/>\n      <use x=\"414.095703\" xlink:href=\"#DejaVuSans-105\"/>\n      <use x=\"441.878906\" xlink:href=\"#DejaVuSans-116\"/>\n      <use x=\"481.087891\" xlink:href=\"#DejaVuSans-105\"/>\n      <use x=\"508.871094\" xlink:href=\"#DejaVuSans-118\"/>\n      <use x=\"568.050781\" xlink:href=\"#DejaVuSans-101\"/>\n      <use x=\"629.574219\" xlink:href=\"#DejaVuSans-32\"/>\n      <use x=\"661.361328\" xlink:href=\"#DejaVuSans-82\"/>\n      <use x=\"728.59375\" xlink:href=\"#DejaVuSans-97\"/>\n      <use x=\"789.873047\" xlink:href=\"#DejaVuSans-116\"/>\n      <use x=\"829.082031\" xlink:href=\"#DejaVuSans-101\"/>\n     </g>\n    </g>\n   </g>\n   <g id=\"line2d_25\">\n    <path clip-path=\"url(#pc1d4e296dc)\" d=\"M 43.78125 457.198125 \nL 44.515461 457.198125 \nL 44.515461 455.117359 \nL 45.249671 455.117359 \nL 45.249671 450.955828 \nL 47.452303 450.955828 \nL 47.452303 448.875063 \nL 48.186513 448.875063 \nL 48.186513 442.632766 \nL 48.920724 442.632766 \nL 48.920724 438.471235 \nL 51.857566 438.471235 \nL 51.857566 428.067407 \nL 52.591776 428.067407 \nL 52.591776 423.905876 \nL 54.060197 423.905876 \nL 54.060197 421.825111 \nL 56.262829 421.825111 \nL 56.262829 413.502048 \nL 56.997039 413.502048 \nL 56.997039 411.421283 \nL 58.465461 411.421283 \nL 58.465461 409.340517 \nL 59.199671 409.340517 \nL 59.199671 405.178986 \nL 59.933882 405.178986 \nL 59.933882 403.098221 \nL 60.668092 403.098221 \nL 60.668092 401.017455 \nL 61.402303 401.017455 \nL 61.402303 398.93669 \nL 62.870724 398.93669 \nL 62.870724 396.855924 \nL 63.604934 396.855924 \nL 63.604934 394.775158 \nL 65.073355 394.775158 \nL 65.073355 392.694393 \nL 69.478618 392.694393 \nL 69.478618 386.452096 \nL 70.947039 386.452096 \nL 70.947039 384.371331 \nL 73.883882 384.371331 \nL 73.883882 378.129034 \nL 79.023355 378.129034 \nL 79.023355 376.048269 \nL 79.757566 376.048269 \nL 79.757566 373.967503 \nL 82.694408 373.967503 \nL 82.694408 371.886737 \nL 83.428618 371.886737 \nL 83.428618 367.725206 \nL 84.162829 367.725206 \nL 84.162829 363.563675 \nL 87.099671 363.563675 \nL 87.099671 361.48291 \nL 87.833882 361.48291 \nL 87.833882 359.402144 \nL 88.568092 359.402144 \nL 88.568092 357.321379 \nL 89.302303 357.321379 \nL 89.302303 355.240613 \nL 92.239145 355.240613 \nL 92.239145 351.079082 \nL 92.973355 351.079082 \nL 92.973355 346.917551 \nL 93.707566 346.917551 \nL 93.707566 340.675254 \nL 94.441776 340.675254 \nL 94.441776 336.513723 \nL 98.112829 336.513723 \nL 98.112829 332.352192 \nL 98.847039 332.352192 \nL 98.847039 330.271426 \nL 99.58125 330.271426 \nL 99.58125 326.109895 \nL 100.315461 326.109895 \nL 100.315461 313.625302 \nL 101.049671 313.625302 \nL 101.049671 309.463771 \nL 102.518092 309.463771 \nL 102.518092 305.30224 \nL 104.720724 305.30224 \nL 104.720724 301.140709 \nL 106.189145 301.140709 \nL 106.189145 296.979178 \nL 107.657566 296.979178 \nL 107.657566 292.817647 \nL 108.391776 292.817647 \nL 108.391776 290.736881 \nL 112.062829 290.736881 \nL 112.062829 280.333053 \nL 113.53125 280.333053 \nL 113.53125 278.252288 \nL 114.999671 278.252288 \nL 114.999671 276.171522 \nL 118.670724 276.171522 \nL 118.670724 274.090757 \nL 122.341776 274.090757 \nL 122.341776 272.009991 \nL 123.810197 272.009991 \nL 123.810197 269.929225 \nL 124.544408 269.929225 \nL 124.544408 265.767694 \nL 127.48125 265.767694 \nL 127.48125 259.525398 \nL 128.215461 259.525398 \nL 128.215461 253.283101 \nL 130.418092 253.283101 \nL 130.418092 249.12157 \nL 135.557566 249.12157 \nL 135.557566 242.879273 \nL 137.025987 242.879273 \nL 137.025987 240.798508 \nL 142.165461 240.798508 \nL 142.165461 238.717742 \nL 142.899671 238.717742 \nL 142.899671 232.475446 \nL 143.633882 232.475446 \nL 143.633882 230.39468 \nL 144.368092 230.39468 \nL 144.368092 224.152383 \nL 145.836513 224.152383 \nL 145.836513 222.071618 \nL 151.710197 222.071618 \nL 151.710197 219.990852 \nL 153.178618 219.990852 \nL 153.178618 217.910087 \nL 153.912829 217.910087 \nL 153.912829 213.748556 \nL 154.647039 213.748556 \nL 154.647039 211.66779 \nL 167.862829 211.66779 \nL 167.862829 209.587025 \nL 169.33125 209.587025 \nL 169.33125 207.506259 \nL 170.799671 207.506259 \nL 170.799671 205.425493 \nL 171.533882 205.425493 \nL 171.533882 203.344728 \nL 172.268092 203.344728 \nL 172.268092 201.263962 \nL 175.939145 201.263962 \nL 175.939145 195.021666 \nL 178.875987 195.021666 \nL 178.875987 192.9409 \nL 180.344408 192.9409 \nL 180.344408 188.779369 \nL 181.078618 188.779369 \nL 181.078618 182.537072 \nL 186.218092 182.537072 \nL 186.218092 180.456307 \nL 192.091776 180.456307 \nL 192.091776 178.375541 \nL 195.028618 178.375541 \nL 195.028618 176.294776 \nL 195.762829 176.294776 \nL 195.762829 174.21401 \nL 198.699671 174.21401 \nL 198.699671 172.133245 \nL 199.433882 172.133245 \nL 199.433882 167.971714 \nL 200.902303 167.971714 \nL 200.902303 165.890948 \nL 203.104934 165.890948 \nL 203.104934 163.810182 \nL 205.307566 163.810182 \nL 205.307566 161.729417 \nL 208.978618 161.729417 \nL 208.978618 159.648651 \nL 210.447039 159.648651 \nL 210.447039 157.567886 \nL 214.118092 157.567886 \nL 214.118092 155.48712 \nL 215.586513 155.48712 \nL 215.586513 153.406355 \nL 218.523355 153.406355 \nL 218.523355 151.325589 \nL 219.991776 151.325589 \nL 219.991776 147.164058 \nL 220.725987 147.164058 \nL 220.725987 145.083292 \nL 225.13125 145.083292 \nL 225.13125 143.002527 \nL 226.599671 143.002527 \nL 226.599671 138.840996 \nL 235.410197 138.840996 \nL 235.410197 136.76023 \nL 236.878618 136.76023 \nL 236.878618 134.679465 \nL 237.612829 134.679465 \nL 237.612829 132.598699 \nL 241.283882 132.598699 \nL 241.283882 130.517934 \nL 244.220724 130.517934 \nL 244.220724 128.437168 \nL 247.891776 128.437168 \nL 247.891776 124.275637 \nL 248.625987 124.275637 \nL 248.625987 122.194871 \nL 250.828618 122.194871 \nL 250.828618 120.114106 \nL 266.247039 120.114106 \nL 266.247039 118.03334 \nL 268.449671 118.03334 \nL 268.449671 115.952575 \nL 271.386513 115.952575 \nL 271.386513 113.871809 \nL 274.323355 113.871809 \nL 274.323355 111.791044 \nL 291.944408 111.791044 \nL 291.944408 109.710278 \nL 296.349671 109.710278 \nL 296.349671 107.629513 \nL 297.083882 107.629513 \nL 297.083882 105.548747 \nL 297.818092 105.548747 \nL 297.818092 103.467981 \nL 299.286513 103.467981 \nL 299.286513 101.387216 \nL 300.754934 101.387216 \nL 300.754934 99.30645 \nL 302.957566 99.30645 \nL 302.957566 97.225685 \nL 312.502303 97.225685 \nL 312.502303 95.144919 \nL 324.983882 95.144919 \nL 324.983882 93.064154 \nL 325.718092 93.064154 \nL 325.718092 90.983388 \nL 347.010197 90.983388 \nL 347.010197 88.902623 \nL 352.883882 88.902623 \nL 352.883882 84.741092 \nL 355.086513 84.741092 \nL 355.086513 82.660326 \nL 361.694408 82.660326 \nL 361.694408 80.57956 \nL 363.897039 80.57956 \nL 363.897039 78.498795 \nL 369.036513 78.498795 \nL 369.036513 76.418029 \nL 375.644408 76.418029 \nL 375.644408 74.337264 \nL 379.315461 74.337264 \nL 379.315461 70.175733 \nL 380.049671 70.175733 \nL 380.049671 68.094967 \nL 385.189145 68.094967 \nL 385.189145 66.014202 \nL 390.328618 66.014202 \nL 390.328618 63.933436 \nL 399.139145 63.933436 \nL 399.139145 61.85267 \nL 403.544408 61.85267 \nL 403.544408 57.691139 \nL 405.012829 57.691139 \nL 405.012829 55.610374 \nL 410.152303 55.610374 \nL 410.152303 51.448843 \nL 415.291776 51.448843 \nL 415.291776 49.368077 \nL 437.318092 49.368077 \nL 437.318092 47.287312 \nL 445.394408 47.287312 \nL 445.394408 45.206546 \nL 449.065461 45.206546 \nL 449.065461 43.125781 \nL 449.799671 43.125781 \nL 449.799671 41.045015 \nL 454.939145 41.045015 \nL 454.939145 38.964249 \nL 456.407566 38.964249 \nL 456.407566 36.883484 \nL 462.28125 36.883484 \nL 462.28125 32.721953 \nL 471.825987 32.721953 \nL 471.825987 30.641187 \nL 474.762829 30.641187 \nL 474.762829 28.560422 \nL 479.902303 28.560422 \nL 479.902303 26.479656 \nL 487.244408 26.479656 \nL 487.244408 24.398891 \nL 490.18125 24.398891 \nL 490.18125 22.318125 \nL 490.18125 22.318125 \n\" style=\"fill:none;stroke:#ff0000;stroke-linecap:square;stroke-width:1.5;\"/>\n   </g>\n   <g id=\"line2d_26\">\n    <path clip-path=\"url(#pc1d4e296dc)\" d=\"M 43.78125 457.198125 \nL 43.78125 455.117359 \nL 45.983882 455.117359 \nL 45.983882 446.794297 \nL 48.186513 446.794297 \nL 48.186513 444.713532 \nL 51.123355 444.713532 \nL 51.123355 436.390469 \nL 51.857566 436.390469 \nL 51.857566 430.148173 \nL 52.591776 430.148173 \nL 52.591776 421.825111 \nL 55.528618 421.825111 \nL 55.528618 419.744345 \nL 57.73125 419.744345 \nL 57.73125 411.421283 \nL 58.465461 411.421283 \nL 58.465461 409.340517 \nL 59.933882 409.340517 \nL 59.933882 407.259752 \nL 61.402303 407.259752 \nL 61.402303 403.098221 \nL 62.136513 403.098221 \nL 62.136513 396.855924 \nL 62.870724 396.855924 \nL 62.870724 392.694393 \nL 63.604934 392.694393 \nL 63.604934 386.452096 \nL 65.807566 386.452096 \nL 65.807566 384.371331 \nL 68.010197 384.371331 \nL 68.010197 376.048269 \nL 70.947039 376.048269 \nL 70.947039 373.967503 \nL 71.68125 373.967503 \nL 71.68125 369.805972 \nL 74.618092 369.805972 \nL 74.618092 365.644441 \nL 75.352303 365.644441 \nL 75.352303 361.48291 \nL 81.960197 361.48291 \nL 81.960197 359.402144 \nL 82.694408 359.402144 \nL 82.694408 357.321379 \nL 83.428618 357.321379 \nL 83.428618 355.240613 \nL 84.162829 355.240613 \nL 84.162829 348.998316 \nL 85.63125 348.998316 \nL 85.63125 346.917551 \nL 87.099671 346.917551 \nL 87.099671 344.836785 \nL 90.036513 344.836785 \nL 90.036513 342.75602 \nL 92.239145 342.75602 \nL 92.239145 338.594489 \nL 92.973355 338.594489 \nL 92.973355 336.513723 \nL 93.707566 336.513723 \nL 93.707566 334.432958 \nL 94.441776 334.432958 \nL 94.441776 328.190661 \nL 95.175987 328.190661 \nL 95.175987 319.867599 \nL 101.049671 319.867599 \nL 101.049671 313.625302 \nL 102.518092 313.625302 \nL 102.518092 305.30224 \nL 103.252303 305.30224 \nL 103.252303 303.221474 \nL 107.657566 303.221474 \nL 107.657566 301.140709 \nL 115.733882 301.140709 \nL 115.733882 296.979178 \nL 120.139145 296.979178 \nL 120.139145 294.898412 \nL 120.873355 294.898412 \nL 120.873355 292.817647 \nL 121.607566 292.817647 \nL 121.607566 288.656115 \nL 122.341776 288.656115 \nL 122.341776 282.413819 \nL 126.747039 282.413819 \nL 126.747039 278.252288 \nL 127.48125 278.252288 \nL 127.48125 274.090757 \nL 128.215461 274.090757 \nL 128.215461 269.929225 \nL 128.949671 269.929225 \nL 128.949671 267.84846 \nL 131.152303 267.84846 \nL 131.152303 265.767694 \nL 133.354934 265.767694 \nL 133.354934 263.686929 \nL 134.089145 263.686929 \nL 134.089145 261.606163 \nL 137.760197 261.606163 \nL 137.760197 259.525398 \nL 142.165461 259.525398 \nL 142.165461 257.444632 \nL 142.899671 257.444632 \nL 142.899671 255.363867 \nL 145.836513 255.363867 \nL 145.836513 253.283101 \nL 148.773355 253.283101 \nL 148.773355 251.202336 \nL 150.975987 251.202336 \nL 150.975987 249.12157 \nL 156.115461 249.12157 \nL 156.115461 244.960039 \nL 157.583882 244.960039 \nL 157.583882 242.879273 \nL 159.786513 242.879273 \nL 159.786513 240.798508 \nL 162.723355 240.798508 \nL 162.723355 236.636977 \nL 163.457566 236.636977 \nL 163.457566 234.556211 \nL 164.191776 234.556211 \nL 164.191776 232.475446 \nL 166.394408 232.475446 \nL 166.394408 228.313914 \nL 169.33125 228.313914 \nL 169.33125 219.990852 \nL 170.065461 219.990852 \nL 170.065461 215.829321 \nL 171.533882 215.829321 \nL 171.533882 213.748556 \nL 172.268092 213.748556 \nL 172.268092 211.66779 \nL 173.736513 211.66779 \nL 173.736513 209.587025 \nL 177.407566 209.587025 \nL 177.407566 207.506259 \nL 179.610197 207.506259 \nL 179.610197 205.425493 \nL 185.483882 205.425493 \nL 185.483882 199.183197 \nL 186.218092 199.183197 \nL 186.218092 197.102431 \nL 189.889145 197.102431 \nL 189.889145 192.9409 \nL 192.091776 192.9409 \nL 192.091776 190.860135 \nL 196.497039 190.860135 \nL 196.497039 188.779369 \nL 199.433882 188.779369 \nL 199.433882 186.698603 \nL 200.168092 186.698603 \nL 200.168092 184.617838 \nL 201.636513 184.617838 \nL 201.636513 182.537072 \nL 203.839145 182.537072 \nL 203.839145 180.456307 \nL 205.307566 180.456307 \nL 205.307566 178.375541 \nL 208.244408 178.375541 \nL 208.244408 176.294776 \nL 212.649671 176.294776 \nL 212.649671 174.21401 \nL 220.725987 174.21401 \nL 220.725987 172.133245 \nL 224.397039 172.133245 \nL 224.397039 170.052479 \nL 225.865461 170.052479 \nL 225.865461 165.890948 \nL 231.739145 165.890948 \nL 231.739145 163.810182 \nL 233.207566 163.810182 \nL 233.207566 161.729417 \nL 236.878618 161.729417 \nL 236.878618 159.648651 \nL 239.08125 159.648651 \nL 239.08125 157.567886 \nL 239.815461 157.567886 \nL 239.815461 155.48712 \nL 244.220724 155.48712 \nL 244.220724 153.406355 \nL 245.689145 153.406355 \nL 245.689145 151.325589 \nL 255.233882 151.325589 \nL 255.233882 149.244824 \nL 263.310197 149.244824 \nL 263.310197 147.164058 \nL 265.512829 147.164058 \nL 265.512829 145.083292 \nL 269.183882 145.083292 \nL 269.183882 140.921761 \nL 275.057566 140.921761 \nL 275.057566 136.76023 \nL 280.93125 136.76023 \nL 280.93125 130.517934 \nL 281.665461 130.517934 \nL 281.665461 128.437168 \nL 282.399671 128.437168 \nL 282.399671 126.356403 \nL 288.273355 126.356403 \nL 288.273355 124.275637 \nL 292.678618 124.275637 \nL 292.678618 122.194871 \nL 293.412829 122.194871 \nL 293.412829 118.03334 \nL 298.552303 118.03334 \nL 298.552303 115.952575 \nL 299.286513 115.952575 \nL 299.286513 113.871809 \nL 309.565461 113.871809 \nL 309.565461 109.710278 \nL 317.641776 109.710278 \nL 317.641776 107.629513 \nL 319.844408 107.629513 \nL 319.844408 105.548747 \nL 322.78125 105.548747 \nL 322.78125 103.467981 \nL 323.515461 103.467981 \nL 323.515461 101.387216 \nL 324.249671 101.387216 \nL 324.249671 99.30645 \nL 326.452303 99.30645 \nL 326.452303 97.225685 \nL 328.654934 97.225685 \nL 328.654934 95.144919 \nL 335.262829 95.144919 \nL 335.262829 93.064154 \nL 344.807566 93.064154 \nL 344.807566 90.983388 \nL 345.541776 90.983388 \nL 345.541776 86.821857 \nL 347.744408 86.821857 \nL 347.744408 84.741092 \nL 355.820724 84.741092 \nL 355.820724 82.660326 \nL 360.960197 82.660326 \nL 360.960197 80.57956 \nL 363.162829 80.57956 \nL 363.162829 78.498795 \nL 366.099671 78.498795 \nL 366.099671 76.418029 \nL 376.378618 76.418029 \nL 376.378618 74.337264 \nL 385.923355 74.337264 \nL 385.923355 72.256498 \nL 393.265461 72.256498 \nL 393.265461 70.175733 \nL 402.810197 70.175733 \nL 402.810197 68.094967 \nL 410.152303 68.094967 \nL 410.152303 66.014202 \nL 410.886513 66.014202 \nL 410.886513 63.933436 \nL 417.494408 63.933436 \nL 417.494408 61.85267 \nL 420.43125 61.85267 \nL 420.43125 59.771905 \nL 422.633882 59.771905 \nL 422.633882 57.691139 \nL 430.710197 57.691139 \nL 430.710197 55.610374 \nL 433.647039 55.610374 \nL 433.647039 53.529608 \nL 435.115461 53.529608 \nL 435.115461 51.448843 \nL 435.849671 51.448843 \nL 435.849671 49.368077 \nL 441.723355 49.368077 \nL 441.723355 47.287312 \nL 442.457566 47.287312 \nL 442.457566 43.125781 \nL 443.925987 43.125781 \nL 443.925987 41.045015 \nL 447.597039 41.045015 \nL 447.597039 34.802718 \nL 449.065461 34.802718 \nL 449.065461 32.721953 \nL 455.673355 32.721953 \nL 455.673355 30.641187 \nL 476.23125 30.641187 \nL 476.23125 28.560422 \nL 481.370724 28.560422 \nL 481.370724 26.479656 \nL 482.839145 26.479656 \nL 482.839145 24.398891 \nL 487.978618 24.398891 \nL 487.978618 22.318125 \nL 490.18125 22.318125 \nL 490.18125 22.318125 \n\" style=\"fill:none;stroke:#008000;stroke-linecap:square;stroke-width:1.5;\"/>\n   </g>\n   <g id=\"line2d_27\">\n    <path clip-path=\"url(#pc1d4e296dc)\" d=\"M 43.78125 457.198125 \nL 47.35245 452.668125 \nL 49.49517 452.668125 \nL 49.49517 450.403125 \nL 50.20941 450.403125 \nL 50.20941 448.138125 \nL 51.63789 448.138125 \nL 51.63789 445.873125 \nL 53.06637 445.873125 \nL 53.06637 443.608125 \nL 54.49485 443.608125 \nL 54.49485 439.078125 \nL 55.20909 439.078125 \nL 55.20909 434.548125 \nL 55.92333 434.548125 \nL 55.92333 432.283125 \nL 56.63757 432.283125 \nL 56.63757 427.753125 \nL 58.06605 427.753125 \nL 58.06605 423.223125 \nL 60.20877 423.223125 \nL 60.20877 416.428125 \nL 62.35149 416.428125 \nL 62.35149 405.103125 \nL 64.49421 405.103125 \nL 64.49421 400.573125 \nL 67.35117 400.573125 \nL 67.35117 398.308125 \nL 68.06541 398.308125 \nL 68.06541 396.043125 \nL 68.77965 396.043125 \nL 68.77965 393.778125 \nL 69.49389 393.778125 \nL 69.49389 391.513125 \nL 74.49357 391.513125 \nL 74.49357 389.248125 \nL 75.92205 389.248125 \nL 75.92205 386.983125 \nL 78.77901 386.983125 \nL 78.77901 382.453125 \nL 79.49325 382.453125 \nL 79.49325 377.923125 \nL 80.92173 377.923125 \nL 80.92173 371.128125 \nL 81.63597 371.128125 \nL 81.63597 368.863125 \nL 83.77869 368.863125 \nL 83.77869 364.333125 \nL 84.49293 364.333125 \nL 84.49293 350.743125 \nL 85.20717 350.743125 \nL 85.20717 337.153125 \nL 88.77837 337.153125 \nL 88.77837 334.888125 \nL 90.20685 334.888125 \nL 90.20685 330.358125 \nL 90.92109 330.358125 \nL 90.92109 328.093125 \nL 96.63501 328.093125 \nL 96.63501 325.828125 \nL 99.49197 325.828125 \nL 99.49197 319.033125 \nL 103.06317 319.033125 \nL 103.06317 316.768125 \nL 105.92013 316.768125 \nL 105.92013 312.238125 \nL 108.77709 312.238125 \nL 108.77709 309.973125 \nL 110.91981 309.973125 \nL 110.91981 307.708125 \nL 111.63405 307.708125 \nL 111.63405 305.443125 \nL 113.06253 305.443125 \nL 113.06253 303.178125 \nL 118.77645 303.178125 \nL 118.77645 300.913125 \nL 120.20493 300.913125 \nL 120.20493 298.648125 \nL 123.77613 298.648125 \nL 123.77613 296.383125 \nL 125.20461 296.383125 \nL 125.20461 294.118125 \nL 125.91885 294.118125 \nL 125.91885 289.588125 \nL 127.34733 289.588125 \nL 127.34733 287.323125 \nL 128.77581 287.323125 \nL 128.77581 285.058125 \nL 130.20429 285.058125 \nL 130.20429 280.528125 \nL 130.91853 280.528125 \nL 130.91853 278.263125 \nL 132.34701 278.263125 \nL 132.34701 275.998125 \nL 133.77549 275.998125 \nL 133.77549 273.733125 \nL 136.63245 273.733125 \nL 136.63245 271.468125 \nL 139.48941 271.468125 \nL 139.48941 269.203125 \nL 140.91789 269.203125 \nL 140.91789 266.938125 \nL 142.34637 266.938125 \nL 142.34637 264.673125 \nL 143.77485 264.673125 \nL 143.77485 257.878125 \nL 146.63181 257.878125 \nL 146.63181 255.613125 \nL 147.34605 255.613125 \nL 147.34605 253.348125 \nL 148.06029 253.348125 \nL 148.06029 251.083125 \nL 151.63149 251.083125 \nL 151.63149 248.818125 \nL 156.63117 248.818125 \nL 156.63117 246.553125 \nL 158.77389 246.553125 \nL 158.77389 244.288125 \nL 165.20205 244.288125 \nL 165.20205 242.023125 \nL 169.48749 242.023125 \nL 169.48749 239.758125 \nL 170.91597 239.758125 \nL 170.91597 237.493125 \nL 173.05869 237.493125 \nL 173.05869 232.963125 \nL 179.48685 232.963125 \nL 179.48685 230.698125 \nL 183.05805 230.698125 \nL 183.05805 228.433125 \nL 183.77229 228.433125 \nL 183.77229 226.168125 \nL 184.48653 226.168125 \nL 184.48653 221.638125 \nL 185.20077 221.638125 \nL 185.20077 219.373125 \nL 186.62925 219.373125 \nL 186.62925 214.843125 \nL 188.77197 214.843125 \nL 188.77197 212.578125 \nL 190.20045 212.578125 \nL 190.20045 210.313125 \nL 192.34317 210.313125 \nL 192.34317 208.048125 \nL 193.05741 208.048125 \nL 193.05741 203.518125 \nL 194.48589 203.518125 \nL 194.48589 201.253125 \nL 195.20013 201.253125 \nL 195.20013 198.988125 \nL 195.91437 198.988125 \nL 195.91437 194.458125 \nL 196.62861 194.458125 \nL 196.62861 192.193125 \nL 198.77133 192.193125 \nL 198.77133 189.928125 \nL 200.19981 189.928125 \nL 200.19981 187.663125 \nL 211.62765 187.663125 \nL 211.62765 185.398125 \nL 212.34189 185.398125 \nL 212.34189 183.133125 \nL 217.34157 183.133125 \nL 217.34157 180.868125 \nL 218.05581 180.868125 \nL 218.05581 176.338125 \nL 220.91277 176.338125 \nL 220.91277 171.808125 \nL 232.34061 171.808125 \nL 232.34061 169.543125 \nL 235.19757 169.543125 \nL 235.19757 167.278125 \nL 235.91181 167.278125 \nL 235.91181 165.013125 \nL 239.48301 165.013125 \nL 239.48301 162.748125 \nL 240.91149 162.748125 \nL 240.91149 160.483125 \nL 243.76845 160.483125 \nL 243.76845 158.218125 \nL 244.48269 158.218125 \nL 244.48269 155.953125 \nL 255.91053 155.953125 \nL 255.91053 153.688125 \nL 259.48173 153.688125 \nL 259.48173 151.423125 \nL 260.91021 151.423125 \nL 260.91021 149.158125 \nL 261.62445 149.158125 \nL 261.62445 146.893125 \nL 264.48141 146.893125 \nL 264.48141 144.628125 \nL 268.76685 144.628125 \nL 268.76685 142.363125 \nL 269.48109 142.363125 \nL 269.48109 140.098125 \nL 270.90957 140.098125 \nL 270.90957 135.568125 \nL 274.48077 135.568125 \nL 274.48077 133.303125 \nL 288.05133 133.303125 \nL 288.05133 131.038125 \nL 298.05069 131.038125 \nL 298.05069 128.773125 \nL 317.33517 128.773125 \nL 317.33517 119.713125 \nL 318.04941 119.713125 \nL 318.04941 117.448125 \nL 319.47789 117.448125 \nL 319.47789 115.183125 \nL 327.33453 115.183125 \nL 327.33453 112.918125 \nL 336.61965 112.918125 \nL 336.61965 110.653125 \nL 342.33357 110.653125 \nL 342.33357 108.388125 \nL 351.61869 108.388125 \nL 351.61869 106.123125 \nL 354.47565 106.123125 \nL 354.47565 103.858125 \nL 356.61837 103.858125 \nL 356.61837 101.593125 \nL 358.76109 101.593125 \nL 358.76109 99.328125 \nL 359.47533 99.328125 \nL 359.47533 97.063125 \nL 362.33229 97.063125 \nL 362.33229 94.798125 \nL 379.47405 94.798125 \nL 379.47405 90.268125 \nL 380.90253 90.268125 \nL 380.90253 88.003125 \nL 384.47373 88.003125 \nL 384.47373 85.738125 \nL 390.90189 85.738125 \nL 390.90189 83.473125 \nL 393.04461 83.473125 \nL 393.04461 81.208125 \nL 395.90157 81.208125 \nL 395.90157 76.678125 \nL 400.90125 76.678125 \nL 400.90125 74.413125 \nL 402.32973 74.413125 \nL 402.32973 72.148125 \nL 409.47213 72.148125 \nL 409.47213 69.883125 \nL 410.18637 69.883125 \nL 410.18637 67.618125 \nL 420.18573 67.618125 \nL 420.18573 65.353125 \nL 434.47053 65.353125 \nL 434.47053 63.088125 \nL 438.75597 63.088125 \nL 438.75597 60.823125 \nL 444.46989 60.823125 \nL 444.46989 58.558125 \nL 445.18413 58.558125 \nL 445.18413 56.293125 \nL 448.75533 56.293125 \nL 448.75533 49.498125 \nL 449.46957 49.498125 \nL 449.46957 42.703125 \nL 453.04077 42.703125 \nL 453.04077 40.438125 \nL 461.61165 40.438125 \nL 461.61165 35.908125 \nL 463.04013 35.908125 \nL 463.04013 33.643125 \nL 465.18285 33.643125 \nL 465.18285 31.378125 \nL 472.32525 31.378125 \nL 472.32525 29.113125 \nL 473.75373 29.113125 \nL 473.75373 26.848125 \nL 479.46765 26.848125 \nL 479.46765 24.583125 \nL 484.46733 24.583125 \nL 484.46733 22.318125 \nL 490.18125 22.318125 \nL 490.18125 22.318125 \n\" style=\"fill:none;stroke:#ffa500;stroke-linecap:square;stroke-width:1.5;\"/>\n   </g>\n   <g id=\"line2d_28\">\n    <path clip-path=\"url(#pc1d4e296dc)\" d=\"M 43.78125 457.198125 \nL 45.20973 457.198125 \nL 45.20973 441.343125 \nL 47.35245 441.343125 \nL 47.35245 439.078125 \nL 48.06669 439.078125 \nL 48.06669 432.283125 \nL 50.92365 432.283125 \nL 50.92365 430.018125 \nL 51.63789 430.018125 \nL 51.63789 427.753125 \nL 53.06637 427.753125 \nL 53.06637 425.488125 \nL 53.78061 425.488125 \nL 53.78061 418.693125 \nL 54.49485 418.693125 \nL 54.49485 414.163125 \nL 55.20909 414.163125 \nL 55.20909 411.898125 \nL 55.92333 411.898125 \nL 55.92333 402.838125 \nL 59.49453 402.838125 \nL 59.49453 400.573125 \nL 60.20877 400.573125 \nL 60.20877 398.308125 \nL 65.92269 398.308125 \nL 65.92269 396.043125 \nL 68.77965 396.043125 \nL 68.77965 393.778125 \nL 69.49389 393.778125 \nL 69.49389 391.513125 \nL 71.63661 391.513125 \nL 71.63661 389.248125 \nL 73.06509 389.248125 \nL 73.06509 384.718125 \nL 73.77933 384.718125 \nL 73.77933 377.923125 \nL 74.49357 377.923125 \nL 74.49357 373.393125 \nL 75.20781 373.393125 \nL 75.20781 371.128125 \nL 75.92205 371.128125 \nL 75.92205 368.863125 \nL 78.06477 368.863125 \nL 78.06477 366.598125 \nL 85.20717 366.598125 \nL 85.20717 364.333125 \nL 88.77837 364.333125 \nL 88.77837 362.068125 \nL 89.49261 362.068125 \nL 89.49261 357.538125 \nL 92.34957 357.538125 \nL 92.34957 355.273125 \nL 93.06381 355.273125 \nL 93.06381 353.008125 \nL 94.49229 353.008125 \nL 94.49229 350.743125 \nL 95.92077 350.743125 \nL 95.92077 346.213125 \nL 96.63501 346.213125 \nL 96.63501 343.948125 \nL 98.77773 343.948125 \nL 98.77773 341.683125 \nL 102.34893 341.683125 \nL 102.34893 339.418125 \nL 104.49165 339.418125 \nL 104.49165 337.153125 \nL 105.20589 337.153125 \nL 105.20589 332.623125 \nL 106.63437 332.623125 \nL 106.63437 330.358125 \nL 107.34861 330.358125 \nL 107.34861 328.093125 \nL 109.49133 328.093125 \nL 109.49133 325.828125 \nL 110.20557 325.828125 \nL 110.20557 319.033125 \nL 111.63405 319.033125 \nL 111.63405 316.768125 \nL 114.49101 316.768125 \nL 114.49101 314.503125 \nL 117.34797 314.503125 \nL 117.34797 309.973125 \nL 118.77645 309.973125 \nL 118.77645 307.708125 \nL 120.20493 307.708125 \nL 120.20493 305.443125 \nL 120.91917 305.443125 \nL 120.91917 300.913125 \nL 124.49037 300.913125 \nL 124.49037 291.853125 \nL 125.91885 291.853125 \nL 125.91885 289.588125 \nL 127.34733 289.588125 \nL 127.34733 285.058125 \nL 130.20429 285.058125 \nL 130.20429 280.528125 \nL 130.91853 280.528125 \nL 130.91853 278.263125 \nL 133.06125 278.263125 \nL 133.06125 275.998125 \nL 133.77549 275.998125 \nL 133.77549 273.733125 \nL 135.91821 273.733125 \nL 135.91821 271.468125 \nL 137.34669 271.468125 \nL 137.34669 264.673125 \nL 138.06093 264.673125 \nL 138.06093 262.408125 \nL 142.34637 262.408125 \nL 142.34637 260.143125 \nL 148.06029 260.143125 \nL 148.06029 257.878125 \nL 150.91725 257.878125 \nL 150.91725 251.083125 \nL 153.05997 251.083125 \nL 153.05997 242.023125 \nL 153.77421 242.023125 \nL 153.77421 239.758125 \nL 157.34541 239.758125 \nL 157.34541 237.493125 \nL 159.48813 237.493125 \nL 159.48813 235.228125 \nL 166.63053 235.228125 \nL 166.63053 230.698125 \nL 167.34477 230.698125 \nL 167.34477 228.433125 \nL 168.05901 228.433125 \nL 168.05901 226.168125 \nL 168.77325 226.168125 \nL 168.77325 223.903125 \nL 170.20173 223.903125 \nL 170.20173 219.373125 \nL 171.63021 219.373125 \nL 171.63021 214.843125 \nL 173.77293 214.843125 \nL 173.77293 212.578125 \nL 175.20141 212.578125 \nL 175.20141 210.313125 \nL 180.20109 210.313125 \nL 180.20109 205.783125 \nL 187.34349 205.783125 \nL 187.34349 203.518125 \nL 190.91469 203.518125 \nL 190.91469 201.253125 \nL 191.62893 201.253125 \nL 191.62893 198.988125 \nL 195.20013 198.988125 \nL 195.20013 196.723125 \nL 199.48557 196.723125 \nL 199.48557 194.458125 \nL 200.19981 194.458125 \nL 200.19981 192.193125 \nL 200.91405 192.193125 \nL 200.91405 189.928125 \nL 203.05677 189.928125 \nL 203.05677 187.663125 \nL 204.48525 187.663125 \nL 204.48525 180.868125 \nL 206.62797 180.868125 \nL 206.62797 178.603125 \nL 208.77069 178.603125 \nL 208.77069 176.338125 \nL 210.91341 176.338125 \nL 210.91341 174.073125 \nL 211.62765 174.073125 \nL 211.62765 171.808125 \nL 215.19885 171.808125 \nL 215.19885 167.278125 \nL 218.05581 167.278125 \nL 218.05581 165.013125 \nL 221.62701 165.013125 \nL 221.62701 162.748125 \nL 227.34093 162.748125 \nL 227.34093 160.483125 \nL 237.34029 160.483125 \nL 237.34029 158.218125 \nL 238.76877 158.218125 \nL 238.76877 153.688125 \nL 240.19725 153.688125 \nL 240.19725 149.158125 \nL 243.05421 149.158125 \nL 243.05421 142.363125 \nL 245.91117 142.363125 \nL 245.91117 137.833125 \nL 246.62541 137.833125 \nL 246.62541 135.568125 \nL 250.19661 135.568125 \nL 250.19661 128.773125 \nL 255.19629 128.773125 \nL 255.19629 126.508125 \nL 260.91021 126.508125 \nL 260.91021 124.243125 \nL 265.19565 124.243125 \nL 265.19565 121.978125 \nL 270.90957 121.978125 \nL 270.90957 119.713125 \nL 272.33805 119.713125 \nL 272.33805 117.448125 \nL 274.48077 117.448125 \nL 274.48077 115.183125 \nL 278.76621 115.183125 \nL 278.76621 108.388125 \nL 280.19469 108.388125 \nL 280.19469 106.123125 \nL 285.90861 106.123125 \nL 285.90861 103.858125 \nL 288.76557 103.858125 \nL 288.76557 101.593125 \nL 297.33645 101.593125 \nL 297.33645 99.328125 \nL 299.47917 99.328125 \nL 299.47917 97.063125 \nL 305.90733 97.063125 \nL 305.90733 94.798125 \nL 309.47853 94.798125 \nL 309.47853 90.268125 \nL 313.76397 90.268125 \nL 313.76397 88.003125 \nL 316.62093 88.003125 \nL 316.62093 85.738125 \nL 318.76365 85.738125 \nL 318.76365 83.473125 \nL 320.90637 83.473125 \nL 320.90637 81.208125 \nL 323.76333 81.208125 \nL 323.76333 76.678125 \nL 328.76301 76.678125 \nL 328.76301 74.413125 \nL 331.61997 74.413125 \nL 331.61997 72.148125 \nL 334.47693 72.148125 \nL 334.47693 69.883125 \nL 345.90477 69.883125 \nL 345.90477 67.618125 \nL 353.04717 67.618125 \nL 353.04717 65.353125 \nL 355.90413 65.353125 \nL 355.90413 63.088125 \nL 371.61741 63.088125 \nL 371.61741 60.823125 \nL 372.33165 60.823125 \nL 372.33165 58.558125 \nL 388.75917 58.558125 \nL 388.75917 56.293125 \nL 396.61581 56.293125 \nL 396.61581 54.028125 \nL 400.18701 54.028125 \nL 400.18701 51.763125 \nL 404.47245 51.763125 \nL 404.47245 49.498125 \nL 407.32941 49.498125 \nL 407.32941 47.233125 \nL 422.32845 47.233125 \nL 422.32845 44.968125 \nL 427.32813 44.968125 \nL 427.32813 42.703125 \nL 440.18445 42.703125 \nL 440.18445 38.173125 \nL 445.89837 38.173125 \nL 445.89837 35.908125 \nL 447.32685 35.908125 \nL 447.32685 33.643125 \nL 450.89805 33.643125 \nL 450.89805 31.378125 \nL 460.89741 31.378125 \nL 460.89741 26.848125 \nL 483.03885 26.848125 \nL 483.03885 22.318125 \nL 490.18125 22.318125 \nL 490.18125 22.318125 \n\" style=\"fill:none;stroke:#00ffff;stroke-linecap:square;stroke-width:1.5;\"/>\n   </g>\n   <g id=\"line2d_29\">\n    <path clip-path=\"url(#pc1d4e296dc)\" d=\"M 43.78125 457.198125 \nL 45.20973 452.668125 \nL 490.18125 22.318125 \n\" style=\"fill:none;stroke:#000000;stroke-linecap:square;stroke-width:1.5;\"/>\n   </g>\n   <g id=\"line2d_30\">\n    <path clip-path=\"url(#pc1d4e296dc)\" d=\"M 43.78125 457.198125 \nL 490.18125 22.318125 \n\" style=\"fill:none;stroke:#0000ff;stroke-dasharray:5.55,2.4;stroke-dashoffset:0;stroke-width:1.5;\"/>\n   </g>\n   <g id=\"patch_3\">\n    <path d=\"M 43.78125 457.198125 \nL 43.78125 22.318125 \n\" style=\"fill:none;stroke:#000000;stroke-linecap:square;stroke-linejoin:miter;stroke-width:0.8;\"/>\n   </g>\n   <g id=\"patch_4\">\n    <path d=\"M 490.18125 457.198125 \nL 490.18125 22.318125 \n\" style=\"fill:none;stroke:#000000;stroke-linecap:square;stroke-linejoin:miter;stroke-width:0.8;\"/>\n   </g>\n   <g id=\"patch_5\">\n    <path d=\"M 43.78125 457.198125 \nL 490.18125 457.198125 \n\" style=\"fill:none;stroke:#000000;stroke-linecap:square;stroke-linejoin:miter;stroke-width:0.8;\"/>\n   </g>\n   <g id=\"patch_6\">\n    <path d=\"M 43.78125 22.318125 \nL 490.18125 22.318125 \n\" style=\"fill:none;stroke:#000000;stroke-linecap:square;stroke-linejoin:miter;stroke-width:0.8;\"/>\n   </g>\n   <g id=\"text_15\">\n    <!-- Classification models comparison -->\n    <g transform=\"translate(166.625625 16.318125)scale(0.12 -0.12)\">\n     <defs>\n      <path d=\"M 64.40625 67.28125 \nL 64.40625 56.890625 \nQ 59.421875 61.53125 53.78125 63.8125 \nQ 48.140625 66.109375 41.796875 66.109375 \nQ 29.296875 66.109375 22.65625 58.46875 \nQ 16.015625 50.828125 16.015625 36.375 \nQ 16.015625 21.96875 22.65625 14.328125 \nQ 29.296875 6.6875 41.796875 6.6875 \nQ 48.140625 6.6875 53.78125 8.984375 \nQ 59.421875 11.28125 64.40625 15.921875 \nL 64.40625 5.609375 \nQ 59.234375 2.09375 53.4375 0.328125 \nQ 47.65625 -1.421875 41.21875 -1.421875 \nQ 24.65625 -1.421875 15.125 8.703125 \nQ 5.609375 18.84375 5.609375 36.375 \nQ 5.609375 53.953125 15.125 64.078125 \nQ 24.65625 74.21875 41.21875 74.21875 \nQ 47.75 74.21875 53.53125 72.484375 \nQ 59.328125 70.75 64.40625 67.28125 \nz\n\" id=\"DejaVuSans-67\"/>\n      <path d=\"M 37.109375 75.984375 \nL 37.109375 68.5 \nL 28.515625 68.5 \nQ 23.6875 68.5 21.796875 66.546875 \nQ 19.921875 64.59375 19.921875 59.515625 \nL 19.921875 54.6875 \nL 34.71875 54.6875 \nL 34.71875 47.703125 \nL 19.921875 47.703125 \nL 19.921875 0 \nL 10.890625 0 \nL 10.890625 47.703125 \nL 2.296875 47.703125 \nL 2.296875 54.6875 \nL 10.890625 54.6875 \nL 10.890625 58.5 \nQ 10.890625 67.625 15.140625 71.796875 \nQ 19.390625 75.984375 28.609375 75.984375 \nz\n\" id=\"DejaVuSans-102\"/>\n      <path d=\"M 48.78125 52.59375 \nL 48.78125 44.1875 \nQ 44.96875 46.296875 41.140625 47.34375 \nQ 37.3125 48.390625 33.40625 48.390625 \nQ 24.65625 48.390625 19.8125 42.84375 \nQ 14.984375 37.3125 14.984375 27.296875 \nQ 14.984375 17.28125 19.8125 11.734375 \nQ 24.65625 6.203125 33.40625 6.203125 \nQ 37.3125 6.203125 41.140625 7.25 \nQ 44.96875 8.296875 48.78125 10.40625 \nL 48.78125 2.09375 \nQ 45.015625 0.34375 40.984375 -0.53125 \nQ 36.96875 -1.421875 32.421875 -1.421875 \nQ 20.0625 -1.421875 12.78125 6.34375 \nQ 5.515625 14.109375 5.515625 27.296875 \nQ 5.515625 40.671875 12.859375 48.328125 \nQ 20.21875 56 33.015625 56 \nQ 37.15625 56 41.109375 55.140625 \nQ 45.0625 54.296875 48.78125 52.59375 \nz\n\" id=\"DejaVuSans-99\"/>\n      <path d=\"M 54.890625 33.015625 \nL 54.890625 0 \nL 45.90625 0 \nL 45.90625 32.71875 \nQ 45.90625 40.484375 42.875 44.328125 \nQ 39.84375 48.1875 33.796875 48.1875 \nQ 26.515625 48.1875 22.3125 43.546875 \nQ 18.109375 38.921875 18.109375 30.90625 \nL 18.109375 0 \nL 9.078125 0 \nL 9.078125 54.6875 \nL 18.109375 54.6875 \nL 18.109375 46.1875 \nQ 21.34375 51.125 25.703125 53.5625 \nQ 30.078125 56 35.796875 56 \nQ 45.21875 56 50.046875 50.171875 \nQ 54.890625 44.34375 54.890625 33.015625 \nz\n\" id=\"DejaVuSans-110\"/>\n      <path d=\"M 52 44.1875 \nQ 55.375 50.25 60.0625 53.125 \nQ 64.75 56 71.09375 56 \nQ 79.640625 56 84.28125 50.015625 \nQ 88.921875 44.046875 88.921875 33.015625 \nL 88.921875 0 \nL 79.890625 0 \nL 79.890625 32.71875 \nQ 79.890625 40.578125 77.09375 44.375 \nQ 74.3125 48.1875 68.609375 48.1875 \nQ 61.625 48.1875 57.5625 43.546875 \nQ 53.515625 38.921875 53.515625 30.90625 \nL 53.515625 0 \nL 44.484375 0 \nL 44.484375 32.71875 \nQ 44.484375 40.625 41.703125 44.40625 \nQ 38.921875 48.1875 33.109375 48.1875 \nQ 26.21875 48.1875 22.15625 43.53125 \nQ 18.109375 38.875 18.109375 30.90625 \nL 18.109375 0 \nL 9.078125 0 \nL 9.078125 54.6875 \nL 18.109375 54.6875 \nL 18.109375 46.1875 \nQ 21.1875 51.21875 25.484375 53.609375 \nQ 29.78125 56 35.6875 56 \nQ 41.65625 56 45.828125 52.96875 \nQ 50 49.953125 52 44.1875 \nz\n\" id=\"DejaVuSans-109\"/>\n      <path d=\"M 45.40625 46.390625 \nL 45.40625 75.984375 \nL 54.390625 75.984375 \nL 54.390625 0 \nL 45.40625 0 \nL 45.40625 8.203125 \nQ 42.578125 3.328125 38.25 0.953125 \nQ 33.9375 -1.421875 27.875 -1.421875 \nQ 17.96875 -1.421875 11.734375 6.484375 \nQ 5.515625 14.40625 5.515625 27.296875 \nQ 5.515625 40.1875 11.734375 48.09375 \nQ 17.96875 56 27.875 56 \nQ 33.9375 56 38.25 53.625 \nQ 42.578125 51.265625 45.40625 46.390625 \nz\nM 14.796875 27.296875 \nQ 14.796875 17.390625 18.875 11.75 \nQ 22.953125 6.109375 30.078125 6.109375 \nQ 37.203125 6.109375 41.296875 11.75 \nQ 45.40625 17.390625 45.40625 27.296875 \nQ 45.40625 37.203125 41.296875 42.84375 \nQ 37.203125 48.484375 30.078125 48.484375 \nQ 22.953125 48.484375 18.875 42.84375 \nQ 14.796875 37.203125 14.796875 27.296875 \nz\n\" id=\"DejaVuSans-100\"/>\n      <path d=\"M 18.109375 8.203125 \nL 18.109375 -20.796875 \nL 9.078125 -20.796875 \nL 9.078125 54.6875 \nL 18.109375 54.6875 \nL 18.109375 46.390625 \nQ 20.953125 51.265625 25.265625 53.625 \nQ 29.59375 56 35.59375 56 \nQ 45.5625 56 51.78125 48.09375 \nQ 58.015625 40.1875 58.015625 27.296875 \nQ 58.015625 14.40625 51.78125 6.484375 \nQ 45.5625 -1.421875 35.59375 -1.421875 \nQ 29.59375 -1.421875 25.265625 0.953125 \nQ 20.953125 3.328125 18.109375 8.203125 \nz\nM 48.6875 27.296875 \nQ 48.6875 37.203125 44.609375 42.84375 \nQ 40.53125 48.484375 33.40625 48.484375 \nQ 26.265625 48.484375 22.1875 42.84375 \nQ 18.109375 37.203125 18.109375 27.296875 \nQ 18.109375 17.390625 22.1875 11.75 \nQ 26.265625 6.109375 33.40625 6.109375 \nQ 40.53125 6.109375 44.609375 11.75 \nQ 48.6875 17.390625 48.6875 27.296875 \nz\n\" id=\"DejaVuSans-112\"/>\n     </defs>\n     <use xlink:href=\"#DejaVuSans-67\"/>\n     <use x=\"69.824219\" xlink:href=\"#DejaVuSans-108\"/>\n     <use x=\"97.607422\" xlink:href=\"#DejaVuSans-97\"/>\n     <use x=\"158.886719\" xlink:href=\"#DejaVuSans-115\"/>\n     <use x=\"210.986328\" xlink:href=\"#DejaVuSans-115\"/>\n     <use x=\"263.085938\" xlink:href=\"#DejaVuSans-105\"/>\n     <use x=\"290.869141\" xlink:href=\"#DejaVuSans-102\"/>\n     <use x=\"326.074219\" xlink:href=\"#DejaVuSans-105\"/>\n     <use x=\"353.857422\" xlink:href=\"#DejaVuSans-99\"/>\n     <use x=\"408.837891\" xlink:href=\"#DejaVuSans-97\"/>\n     <use x=\"470.117188\" xlink:href=\"#DejaVuSans-116\"/>\n     <use x=\"509.326172\" xlink:href=\"#DejaVuSans-105\"/>\n     <use x=\"537.109375\" xlink:href=\"#DejaVuSans-111\"/>\n     <use x=\"598.291016\" xlink:href=\"#DejaVuSans-110\"/>\n     <use x=\"661.669922\" xlink:href=\"#DejaVuSans-32\"/>\n     <use x=\"693.457031\" xlink:href=\"#DejaVuSans-109\"/>\n     <use x=\"790.869141\" xlink:href=\"#DejaVuSans-111\"/>\n     <use x=\"852.050781\" xlink:href=\"#DejaVuSans-100\"/>\n     <use x=\"915.527344\" xlink:href=\"#DejaVuSans-101\"/>\n     <use x=\"977.050781\" xlink:href=\"#DejaVuSans-108\"/>\n     <use x=\"1004.833984\" xlink:href=\"#DejaVuSans-115\"/>\n     <use x=\"1056.933594\" xlink:href=\"#DejaVuSans-32\"/>\n     <use x=\"1088.720703\" xlink:href=\"#DejaVuSans-99\"/>\n     <use x=\"1143.701172\" xlink:href=\"#DejaVuSans-111\"/>\n     <use x=\"1204.882812\" xlink:href=\"#DejaVuSans-109\"/>\n     <use x=\"1302.294922\" xlink:href=\"#DejaVuSans-112\"/>\n     <use x=\"1365.771484\" xlink:href=\"#DejaVuSans-97\"/>\n     <use x=\"1427.050781\" xlink:href=\"#DejaVuSans-114\"/>\n     <use x=\"1468.164062\" xlink:href=\"#DejaVuSans-105\"/>\n     <use x=\"1495.947266\" xlink:href=\"#DejaVuSans-115\"/>\n     <use x=\"1548.046875\" xlink:href=\"#DejaVuSans-111\"/>\n     <use x=\"1609.228516\" xlink:href=\"#DejaVuSans-110\"/>\n    </g>\n   </g>\n   <g id=\"legend_1\">\n    <g id=\"patch_7\">\n     <path d=\"M 132.690625 452.198125 \nL 483.18125 452.198125 \nQ 485.18125 452.198125 485.18125 450.198125 \nL 485.18125 377.8075 \nQ 485.18125 375.8075 483.18125 375.8075 \nL 132.690625 375.8075 \nQ 130.690625 375.8075 130.690625 377.8075 \nL 130.690625 450.198125 \nQ 130.690625 452.198125 132.690625 452.198125 \nz\n\" style=\"fill:#ffffff;opacity:0.8;stroke:#cccccc;stroke-linejoin:miter;\"/>\n    </g>\n    <g id=\"line2d_31\">\n     <path d=\"M 134.690625 383.905937 \nL 154.690625 383.905937 \n\" style=\"fill:none;stroke:#ff0000;stroke-linecap:square;stroke-width:1.5;\"/>\n    </g>\n    <g id=\"line2d_32\"/>\n    <g id=\"text_16\">\n     <!-- Logistic Regression Model ROC curve (means) (area = 0.69) -->\n     <g transform=\"translate(162.690625 387.405937)scale(0.1 -0.1)\">\n      <defs>\n       <path d=\"M 9.8125 72.90625 \nL 19.671875 72.90625 \nL 19.671875 8.296875 \nL 55.171875 8.296875 \nL 55.171875 0 \nL 9.8125 0 \nz\n\" id=\"DejaVuSans-76\"/>\n       <path d=\"M 45.40625 27.984375 \nQ 45.40625 37.75 41.375 43.109375 \nQ 37.359375 48.484375 30.078125 48.484375 \nQ 22.859375 48.484375 18.828125 43.109375 \nQ 14.796875 37.75 14.796875 27.984375 \nQ 14.796875 18.265625 18.828125 12.890625 \nQ 22.859375 7.515625 30.078125 7.515625 \nQ 37.359375 7.515625 41.375 12.890625 \nQ 45.40625 18.265625 45.40625 27.984375 \nz\nM 54.390625 6.78125 \nQ 54.390625 -7.171875 48.1875 -13.984375 \nQ 42 -20.796875 29.203125 -20.796875 \nQ 24.46875 -20.796875 20.265625 -20.09375 \nQ 16.0625 -19.390625 12.109375 -17.921875 \nL 12.109375 -9.1875 \nQ 16.0625 -11.328125 19.921875 -12.34375 \nQ 23.78125 -13.375 27.78125 -13.375 \nQ 36.625 -13.375 41.015625 -8.765625 \nQ 45.40625 -4.15625 45.40625 5.171875 \nL 45.40625 9.625 \nQ 42.625 4.78125 38.28125 2.390625 \nQ 33.9375 0 27.875 0 \nQ 17.828125 0 11.671875 7.65625 \nQ 5.515625 15.328125 5.515625 27.984375 \nQ 5.515625 40.671875 11.671875 48.328125 \nQ 17.828125 56 27.875 56 \nQ 33.9375 56 38.28125 53.609375 \nQ 42.625 51.21875 45.40625 46.390625 \nL 45.40625 54.6875 \nL 54.390625 54.6875 \nz\n\" id=\"DejaVuSans-103\"/>\n       <path d=\"M 9.8125 72.90625 \nL 24.515625 72.90625 \nL 43.109375 23.296875 \nL 61.8125 72.90625 \nL 76.515625 72.90625 \nL 76.515625 0 \nL 66.890625 0 \nL 66.890625 64.015625 \nL 48.09375 14.015625 \nL 38.1875 14.015625 \nL 19.390625 64.015625 \nL 19.390625 0 \nL 9.8125 0 \nz\n\" id=\"DejaVuSans-77\"/>\n       <path d=\"M 39.40625 66.21875 \nQ 28.65625 66.21875 22.328125 58.203125 \nQ 16.015625 50.203125 16.015625 36.375 \nQ 16.015625 22.609375 22.328125 14.59375 \nQ 28.65625 6.59375 39.40625 6.59375 \nQ 50.140625 6.59375 56.421875 14.59375 \nQ 62.703125 22.609375 62.703125 36.375 \nQ 62.703125 50.203125 56.421875 58.203125 \nQ 50.140625 66.21875 39.40625 66.21875 \nz\nM 39.40625 74.21875 \nQ 54.734375 74.21875 63.90625 63.9375 \nQ 73.09375 53.65625 73.09375 36.375 \nQ 73.09375 19.140625 63.90625 8.859375 \nQ 54.734375 -1.421875 39.40625 -1.421875 \nQ 24.03125 -1.421875 14.8125 8.828125 \nQ 5.609375 19.09375 5.609375 36.375 \nQ 5.609375 53.65625 14.8125 63.9375 \nQ 24.03125 74.21875 39.40625 74.21875 \nz\n\" id=\"DejaVuSans-79\"/>\n       <path d=\"M 31 75.875 \nQ 24.46875 64.65625 21.28125 53.65625 \nQ 18.109375 42.671875 18.109375 31.390625 \nQ 18.109375 20.125 21.3125 9.0625 \nQ 24.515625 -2 31 -13.1875 \nL 23.1875 -13.1875 \nQ 15.875 -1.703125 12.234375 9.375 \nQ 8.59375 20.453125 8.59375 31.390625 \nQ 8.59375 42.28125 12.203125 53.3125 \nQ 15.828125 64.359375 23.1875 75.875 \nz\n\" id=\"DejaVuSans-40\"/>\n       <path d=\"M 8.015625 75.875 \nL 15.828125 75.875 \nQ 23.140625 64.359375 26.78125 53.3125 \nQ 30.421875 42.28125 30.421875 31.390625 \nQ 30.421875 20.453125 26.78125 9.375 \nQ 23.140625 -1.703125 15.828125 -13.1875 \nL 8.015625 -13.1875 \nQ 14.5 -2 17.703125 9.0625 \nQ 20.90625 20.125 20.90625 31.390625 \nQ 20.90625 42.671875 17.703125 53.65625 \nQ 14.5 64.65625 8.015625 75.875 \nz\n\" id=\"DejaVuSans-41\"/>\n       <path d=\"M 10.59375 45.40625 \nL 73.1875 45.40625 \nL 73.1875 37.203125 \nL 10.59375 37.203125 \nz\nM 10.59375 25.484375 \nL 73.1875 25.484375 \nL 73.1875 17.1875 \nL 10.59375 17.1875 \nz\n\" id=\"DejaVuSans-61\"/>\n       <path d=\"M 10.984375 1.515625 \nL 10.984375 10.5 \nQ 14.703125 8.734375 18.5 7.8125 \nQ 22.3125 6.890625 25.984375 6.890625 \nQ 35.75 6.890625 40.890625 13.453125 \nQ 46.046875 20.015625 46.78125 33.40625 \nQ 43.953125 29.203125 39.59375 26.953125 \nQ 35.25 24.703125 29.984375 24.703125 \nQ 19.046875 24.703125 12.671875 31.3125 \nQ 6.296875 37.9375 6.296875 49.421875 \nQ 6.296875 60.640625 12.9375 67.421875 \nQ 19.578125 74.21875 30.609375 74.21875 \nQ 43.265625 74.21875 49.921875 64.515625 \nQ 56.59375 54.828125 56.59375 36.375 \nQ 56.59375 19.140625 48.40625 8.859375 \nQ 40.234375 -1.421875 26.421875 -1.421875 \nQ 22.703125 -1.421875 18.890625 -0.6875 \nQ 15.09375 0.046875 10.984375 1.515625 \nz\nM 30.609375 32.421875 \nQ 37.25 32.421875 41.125 36.953125 \nQ 45.015625 41.5 45.015625 49.421875 \nQ 45.015625 57.28125 41.125 61.84375 \nQ 37.25 66.40625 30.609375 66.40625 \nQ 23.96875 66.40625 20.09375 61.84375 \nQ 16.21875 57.28125 16.21875 49.421875 \nQ 16.21875 41.5 20.09375 36.953125 \nQ 23.96875 32.421875 30.609375 32.421875 \nz\n\" id=\"DejaVuSans-57\"/>\n      </defs>\n      <use xlink:href=\"#DejaVuSans-76\"/>\n      <use x=\"53.962891\" xlink:href=\"#DejaVuSans-111\"/>\n      <use x=\"115.144531\" xlink:href=\"#DejaVuSans-103\"/>\n      <use x=\"178.621094\" xlink:href=\"#DejaVuSans-105\"/>\n      <use x=\"206.404297\" xlink:href=\"#DejaVuSans-115\"/>\n      <use x=\"258.503906\" xlink:href=\"#DejaVuSans-116\"/>\n      <use x=\"297.712891\" xlink:href=\"#DejaVuSans-105\"/>\n      <use x=\"325.496094\" xlink:href=\"#DejaVuSans-99\"/>\n      <use x=\"380.476562\" xlink:href=\"#DejaVuSans-32\"/>\n      <use x=\"412.263672\" xlink:href=\"#DejaVuSans-82\"/>\n      <use x=\"477.246094\" xlink:href=\"#DejaVuSans-101\"/>\n      <use x=\"538.769531\" xlink:href=\"#DejaVuSans-103\"/>\n      <use x=\"602.246094\" xlink:href=\"#DejaVuSans-114\"/>\n      <use x=\"641.109375\" xlink:href=\"#DejaVuSans-101\"/>\n      <use x=\"702.632812\" xlink:href=\"#DejaVuSans-115\"/>\n      <use x=\"754.732422\" xlink:href=\"#DejaVuSans-115\"/>\n      <use x=\"806.832031\" xlink:href=\"#DejaVuSans-105\"/>\n      <use x=\"834.615234\" xlink:href=\"#DejaVuSans-111\"/>\n      <use x=\"895.796875\" xlink:href=\"#DejaVuSans-110\"/>\n      <use x=\"959.175781\" xlink:href=\"#DejaVuSans-32\"/>\n      <use x=\"990.962891\" xlink:href=\"#DejaVuSans-77\"/>\n      <use x=\"1077.242188\" xlink:href=\"#DejaVuSans-111\"/>\n      <use x=\"1138.423828\" xlink:href=\"#DejaVuSans-100\"/>\n      <use x=\"1201.900391\" xlink:href=\"#DejaVuSans-101\"/>\n      <use x=\"1263.423828\" xlink:href=\"#DejaVuSans-108\"/>\n      <use x=\"1291.207031\" xlink:href=\"#DejaVuSans-32\"/>\n      <use x=\"1322.994141\" xlink:href=\"#DejaVuSans-82\"/>\n      <use x=\"1392.476562\" xlink:href=\"#DejaVuSans-79\"/>\n      <use x=\"1471.1875\" xlink:href=\"#DejaVuSans-67\"/>\n      <use x=\"1541.011719\" xlink:href=\"#DejaVuSans-32\"/>\n      <use x=\"1572.798828\" xlink:href=\"#DejaVuSans-99\"/>\n      <use x=\"1627.779297\" xlink:href=\"#DejaVuSans-117\"/>\n      <use x=\"1691.158203\" xlink:href=\"#DejaVuSans-114\"/>\n      <use x=\"1732.271484\" xlink:href=\"#DejaVuSans-118\"/>\n      <use x=\"1791.451172\" xlink:href=\"#DejaVuSans-101\"/>\n      <use x=\"1852.974609\" xlink:href=\"#DejaVuSans-32\"/>\n      <use x=\"1884.761719\" xlink:href=\"#DejaVuSans-40\"/>\n      <use x=\"1923.775391\" xlink:href=\"#DejaVuSans-109\"/>\n      <use x=\"2021.1875\" xlink:href=\"#DejaVuSans-101\"/>\n      <use x=\"2082.710938\" xlink:href=\"#DejaVuSans-97\"/>\n      <use x=\"2143.990234\" xlink:href=\"#DejaVuSans-110\"/>\n      <use x=\"2207.369141\" xlink:href=\"#DejaVuSans-115\"/>\n      <use x=\"2259.46875\" xlink:href=\"#DejaVuSans-41\"/>\n      <use x=\"2298.482422\" xlink:href=\"#DejaVuSans-32\"/>\n      <use x=\"2330.269531\" xlink:href=\"#DejaVuSans-40\"/>\n      <use x=\"2369.283203\" xlink:href=\"#DejaVuSans-97\"/>\n      <use x=\"2430.5625\" xlink:href=\"#DejaVuSans-114\"/>\n      <use x=\"2469.425781\" xlink:href=\"#DejaVuSans-101\"/>\n      <use x=\"2530.949219\" xlink:href=\"#DejaVuSans-97\"/>\n      <use x=\"2592.228516\" xlink:href=\"#DejaVuSans-32\"/>\n      <use x=\"2624.015625\" xlink:href=\"#DejaVuSans-61\"/>\n      <use x=\"2707.804688\" xlink:href=\"#DejaVuSans-32\"/>\n      <use x=\"2739.591797\" xlink:href=\"#DejaVuSans-48\"/>\n      <use x=\"2803.214844\" xlink:href=\"#DejaVuSans-46\"/>\n      <use x=\"2835.001953\" xlink:href=\"#DejaVuSans-54\"/>\n      <use x=\"2898.625\" xlink:href=\"#DejaVuSans-57\"/>\n      <use x=\"2962.248047\" xlink:href=\"#DejaVuSans-41\"/>\n     </g>\n    </g>\n    <g id=\"line2d_33\">\n     <path d=\"M 134.690625 398.584062 \nL 154.690625 398.584062 \n\" style=\"fill:none;stroke:#008000;stroke-linecap:square;stroke-width:1.5;\"/>\n    </g>\n    <g id=\"line2d_34\"/>\n    <g id=\"text_17\">\n     <!-- SVM Model ROC curve (means) (area = 0.67) -->\n     <g transform=\"translate(162.690625 402.084062)scale(0.1 -0.1)\">\n      <defs>\n       <path d=\"M 53.515625 70.515625 \nL 53.515625 60.890625 \nQ 47.90625 63.578125 42.921875 64.890625 \nQ 37.9375 66.21875 33.296875 66.21875 \nQ 25.25 66.21875 20.875 63.09375 \nQ 16.5 59.96875 16.5 54.203125 \nQ 16.5 49.359375 19.40625 46.890625 \nQ 22.3125 44.4375 30.421875 42.921875 \nL 36.375 41.703125 \nQ 47.40625 39.59375 52.65625 34.296875 \nQ 57.90625 29 57.90625 20.125 \nQ 57.90625 9.515625 50.796875 4.046875 \nQ 43.703125 -1.421875 29.984375 -1.421875 \nQ 24.8125 -1.421875 18.96875 -0.25 \nQ 13.140625 0.921875 6.890625 3.21875 \nL 6.890625 13.375 \nQ 12.890625 10.015625 18.65625 8.296875 \nQ 24.421875 6.59375 29.984375 6.59375 \nQ 38.421875 6.59375 43.015625 9.90625 \nQ 47.609375 13.234375 47.609375 19.390625 \nQ 47.609375 24.75 44.3125 27.78125 \nQ 41.015625 30.8125 33.5 32.328125 \nL 27.484375 33.5 \nQ 16.453125 35.6875 11.515625 40.375 \nQ 6.59375 45.0625 6.59375 53.421875 \nQ 6.59375 63.09375 13.40625 68.65625 \nQ 20.21875 74.21875 32.171875 74.21875 \nQ 37.3125 74.21875 42.625 73.28125 \nQ 47.953125 72.359375 53.515625 70.515625 \nz\n\" id=\"DejaVuSans-83\"/>\n       <path d=\"M 28.609375 0 \nL 0.78125 72.90625 \nL 11.078125 72.90625 \nL 34.1875 11.53125 \nL 57.328125 72.90625 \nL 67.578125 72.90625 \nL 39.796875 0 \nz\n\" id=\"DejaVuSans-86\"/>\n       <path d=\"M 8.203125 72.90625 \nL 55.078125 72.90625 \nL 55.078125 68.703125 \nL 28.609375 0 \nL 18.3125 0 \nL 43.21875 64.59375 \nL 8.203125 64.59375 \nz\n\" id=\"DejaVuSans-55\"/>\n      </defs>\n      <use xlink:href=\"#DejaVuSans-83\"/>\n      <use x=\"63.476562\" xlink:href=\"#DejaVuSans-86\"/>\n      <use x=\"131.884766\" xlink:href=\"#DejaVuSans-77\"/>\n      <use x=\"218.164062\" xlink:href=\"#DejaVuSans-32\"/>\n      <use x=\"249.951172\" xlink:href=\"#DejaVuSans-77\"/>\n      <use x=\"336.230469\" xlink:href=\"#DejaVuSans-111\"/>\n      <use x=\"397.412109\" xlink:href=\"#DejaVuSans-100\"/>\n      <use x=\"460.888672\" xlink:href=\"#DejaVuSans-101\"/>\n      <use x=\"522.412109\" xlink:href=\"#DejaVuSans-108\"/>\n      <use x=\"550.195312\" xlink:href=\"#DejaVuSans-32\"/>\n      <use x=\"581.982422\" xlink:href=\"#DejaVuSans-82\"/>\n      <use x=\"651.464844\" xlink:href=\"#DejaVuSans-79\"/>\n      <use x=\"730.175781\" xlink:href=\"#DejaVuSans-67\"/>\n      <use x=\"800\" xlink:href=\"#DejaVuSans-32\"/>\n      <use x=\"831.787109\" xlink:href=\"#DejaVuSans-99\"/>\n      <use x=\"886.767578\" xlink:href=\"#DejaVuSans-117\"/>\n      <use x=\"950.146484\" xlink:href=\"#DejaVuSans-114\"/>\n      <use x=\"991.259766\" xlink:href=\"#DejaVuSans-118\"/>\n      <use x=\"1050.439453\" xlink:href=\"#DejaVuSans-101\"/>\n      <use x=\"1111.962891\" xlink:href=\"#DejaVuSans-32\"/>\n      <use x=\"1143.75\" xlink:href=\"#DejaVuSans-40\"/>\n      <use x=\"1182.763672\" xlink:href=\"#DejaVuSans-109\"/>\n      <use x=\"1280.175781\" xlink:href=\"#DejaVuSans-101\"/>\n      <use x=\"1341.699219\" xlink:href=\"#DejaVuSans-97\"/>\n      <use x=\"1402.978516\" xlink:href=\"#DejaVuSans-110\"/>\n      <use x=\"1466.357422\" xlink:href=\"#DejaVuSans-115\"/>\n      <use x=\"1518.457031\" xlink:href=\"#DejaVuSans-41\"/>\n      <use x=\"1557.470703\" xlink:href=\"#DejaVuSans-32\"/>\n      <use x=\"1589.257812\" xlink:href=\"#DejaVuSans-40\"/>\n      <use x=\"1628.271484\" xlink:href=\"#DejaVuSans-97\"/>\n      <use x=\"1689.550781\" xlink:href=\"#DejaVuSans-114\"/>\n      <use x=\"1728.414062\" xlink:href=\"#DejaVuSans-101\"/>\n      <use x=\"1789.9375\" xlink:href=\"#DejaVuSans-97\"/>\n      <use x=\"1851.216797\" xlink:href=\"#DejaVuSans-32\"/>\n      <use x=\"1883.003906\" xlink:href=\"#DejaVuSans-61\"/>\n      <use x=\"1966.792969\" xlink:href=\"#DejaVuSans-32\"/>\n      <use x=\"1998.580078\" xlink:href=\"#DejaVuSans-48\"/>\n      <use x=\"2062.203125\" xlink:href=\"#DejaVuSans-46\"/>\n      <use x=\"2093.990234\" xlink:href=\"#DejaVuSans-54\"/>\n      <use x=\"2157.613281\" xlink:href=\"#DejaVuSans-55\"/>\n      <use x=\"2221.236328\" xlink:href=\"#DejaVuSans-41\"/>\n     </g>\n    </g>\n    <g id=\"line2d_35\">\n     <path d=\"M 134.690625 413.262187 \nL 154.690625 413.262187 \n\" style=\"fill:none;stroke:#ffa500;stroke-linecap:square;stroke-width:1.5;\"/>\n    </g>\n    <g id=\"line2d_36\"/>\n    <g id=\"text_18\">\n     <!-- Logistic Regression Model ROC curve (all periods) (area = 0.65) -->\n     <g transform=\"translate(162.690625 416.762187)scale(0.1 -0.1)\">\n      <defs>\n       <path d=\"M 10.796875 72.90625 \nL 49.515625 72.90625 \nL 49.515625 64.59375 \nL 19.828125 64.59375 \nL 19.828125 46.734375 \nQ 21.96875 47.46875 24.109375 47.828125 \nQ 26.265625 48.1875 28.421875 48.1875 \nQ 40.625 48.1875 47.75 41.5 \nQ 54.890625 34.8125 54.890625 23.390625 \nQ 54.890625 11.625 47.5625 5.09375 \nQ 40.234375 -1.421875 26.90625 -1.421875 \nQ 22.3125 -1.421875 17.546875 -0.640625 \nQ 12.796875 0.140625 7.71875 1.703125 \nL 7.71875 11.625 \nQ 12.109375 9.234375 16.796875 8.0625 \nQ 21.484375 6.890625 26.703125 6.890625 \nQ 35.15625 6.890625 40.078125 11.328125 \nQ 45.015625 15.765625 45.015625 23.390625 \nQ 45.015625 31 40.078125 35.4375 \nQ 35.15625 39.890625 26.703125 39.890625 \nQ 22.75 39.890625 18.8125 39.015625 \nQ 14.890625 38.140625 10.796875 36.28125 \nz\n\" id=\"DejaVuSans-53\"/>\n      </defs>\n      <use xlink:href=\"#DejaVuSans-76\"/>\n      <use x=\"53.962891\" xlink:href=\"#DejaVuSans-111\"/>\n      <use x=\"115.144531\" xlink:href=\"#DejaVuSans-103\"/>\n      <use x=\"178.621094\" xlink:href=\"#DejaVuSans-105\"/>\n      <use x=\"206.404297\" xlink:href=\"#DejaVuSans-115\"/>\n      <use x=\"258.503906\" xlink:href=\"#DejaVuSans-116\"/>\n      <use x=\"297.712891\" xlink:href=\"#DejaVuSans-105\"/>\n      <use x=\"325.496094\" xlink:href=\"#DejaVuSans-99\"/>\n      <use x=\"380.476562\" xlink:href=\"#DejaVuSans-32\"/>\n      <use x=\"412.263672\" xlink:href=\"#DejaVuSans-82\"/>\n      <use x=\"477.246094\" xlink:href=\"#DejaVuSans-101\"/>\n      <use x=\"538.769531\" xlink:href=\"#DejaVuSans-103\"/>\n      <use x=\"602.246094\" xlink:href=\"#DejaVuSans-114\"/>\n      <use x=\"641.109375\" xlink:href=\"#DejaVuSans-101\"/>\n      <use x=\"702.632812\" xlink:href=\"#DejaVuSans-115\"/>\n      <use x=\"754.732422\" xlink:href=\"#DejaVuSans-115\"/>\n      <use x=\"806.832031\" xlink:href=\"#DejaVuSans-105\"/>\n      <use x=\"834.615234\" xlink:href=\"#DejaVuSans-111\"/>\n      <use x=\"895.796875\" xlink:href=\"#DejaVuSans-110\"/>\n      <use x=\"959.175781\" xlink:href=\"#DejaVuSans-32\"/>\n      <use x=\"990.962891\" xlink:href=\"#DejaVuSans-77\"/>\n      <use x=\"1077.242188\" xlink:href=\"#DejaVuSans-111\"/>\n      <use x=\"1138.423828\" xlink:href=\"#DejaVuSans-100\"/>\n      <use x=\"1201.900391\" xlink:href=\"#DejaVuSans-101\"/>\n      <use x=\"1263.423828\" xlink:href=\"#DejaVuSans-108\"/>\n      <use x=\"1291.207031\" xlink:href=\"#DejaVuSans-32\"/>\n      <use x=\"1322.994141\" xlink:href=\"#DejaVuSans-82\"/>\n      <use x=\"1392.476562\" xlink:href=\"#DejaVuSans-79\"/>\n      <use x=\"1471.1875\" xlink:href=\"#DejaVuSans-67\"/>\n      <use x=\"1541.011719\" xlink:href=\"#DejaVuSans-32\"/>\n      <use x=\"1572.798828\" xlink:href=\"#DejaVuSans-99\"/>\n      <use x=\"1627.779297\" xlink:href=\"#DejaVuSans-117\"/>\n      <use x=\"1691.158203\" xlink:href=\"#DejaVuSans-114\"/>\n      <use x=\"1732.271484\" xlink:href=\"#DejaVuSans-118\"/>\n      <use x=\"1791.451172\" xlink:href=\"#DejaVuSans-101\"/>\n      <use x=\"1852.974609\" xlink:href=\"#DejaVuSans-32\"/>\n      <use x=\"1884.761719\" xlink:href=\"#DejaVuSans-40\"/>\n      <use x=\"1923.775391\" xlink:href=\"#DejaVuSans-97\"/>\n      <use x=\"1985.054688\" xlink:href=\"#DejaVuSans-108\"/>\n      <use x=\"2012.837891\" xlink:href=\"#DejaVuSans-108\"/>\n      <use x=\"2040.621094\" xlink:href=\"#DejaVuSans-32\"/>\n      <use x=\"2072.408203\" xlink:href=\"#DejaVuSans-112\"/>\n      <use x=\"2135.884766\" xlink:href=\"#DejaVuSans-101\"/>\n      <use x=\"2197.408203\" xlink:href=\"#DejaVuSans-114\"/>\n      <use x=\"2238.521484\" xlink:href=\"#DejaVuSans-105\"/>\n      <use x=\"2266.304688\" xlink:href=\"#DejaVuSans-111\"/>\n      <use x=\"2327.486328\" xlink:href=\"#DejaVuSans-100\"/>\n      <use x=\"2390.962891\" xlink:href=\"#DejaVuSans-115\"/>\n      <use x=\"2443.0625\" xlink:href=\"#DejaVuSans-41\"/>\n      <use x=\"2482.076172\" xlink:href=\"#DejaVuSans-32\"/>\n      <use x=\"2513.863281\" xlink:href=\"#DejaVuSans-40\"/>\n      <use x=\"2552.876953\" xlink:href=\"#DejaVuSans-97\"/>\n      <use x=\"2614.15625\" xlink:href=\"#DejaVuSans-114\"/>\n      <use x=\"2653.019531\" xlink:href=\"#DejaVuSans-101\"/>\n      <use x=\"2714.542969\" xlink:href=\"#DejaVuSans-97\"/>\n      <use x=\"2775.822266\" xlink:href=\"#DejaVuSans-32\"/>\n      <use x=\"2807.609375\" xlink:href=\"#DejaVuSans-61\"/>\n      <use x=\"2891.398438\" xlink:href=\"#DejaVuSans-32\"/>\n      <use x=\"2923.185547\" xlink:href=\"#DejaVuSans-48\"/>\n      <use x=\"2986.808594\" xlink:href=\"#DejaVuSans-46\"/>\n      <use x=\"3018.595703\" xlink:href=\"#DejaVuSans-54\"/>\n      <use x=\"3082.21875\" xlink:href=\"#DejaVuSans-53\"/>\n      <use x=\"3145.841797\" xlink:href=\"#DejaVuSans-41\"/>\n     </g>\n    </g>\n    <g id=\"line2d_37\">\n     <path d=\"M 134.690625 427.940312 \nL 154.690625 427.940312 \n\" style=\"fill:none;stroke:#00ffff;stroke-linecap:square;stroke-width:1.5;\"/>\n    </g>\n    <g id=\"line2d_38\"/>\n    <g id=\"text_19\">\n     <!-- SVM Model ROC curve (all periods) (area = 0.68) -->\n     <g transform=\"translate(162.690625 431.440312)scale(0.1 -0.1)\">\n      <use xlink:href=\"#DejaVuSans-83\"/>\n      <use x=\"63.476562\" xlink:href=\"#DejaVuSans-86\"/>\n      <use x=\"131.884766\" xlink:href=\"#DejaVuSans-77\"/>\n      <use x=\"218.164062\" xlink:href=\"#DejaVuSans-32\"/>\n      <use x=\"249.951172\" xlink:href=\"#DejaVuSans-77\"/>\n      <use x=\"336.230469\" xlink:href=\"#DejaVuSans-111\"/>\n      <use x=\"397.412109\" xlink:href=\"#DejaVuSans-100\"/>\n      <use x=\"460.888672\" xlink:href=\"#DejaVuSans-101\"/>\n      <use x=\"522.412109\" xlink:href=\"#DejaVuSans-108\"/>\n      <use x=\"550.195312\" xlink:href=\"#DejaVuSans-32\"/>\n      <use x=\"581.982422\" xlink:href=\"#DejaVuSans-82\"/>\n      <use x=\"651.464844\" xlink:href=\"#DejaVuSans-79\"/>\n      <use x=\"730.175781\" xlink:href=\"#DejaVuSans-67\"/>\n      <use x=\"800\" xlink:href=\"#DejaVuSans-32\"/>\n      <use x=\"831.787109\" xlink:href=\"#DejaVuSans-99\"/>\n      <use x=\"886.767578\" xlink:href=\"#DejaVuSans-117\"/>\n      <use x=\"950.146484\" xlink:href=\"#DejaVuSans-114\"/>\n      <use x=\"991.259766\" xlink:href=\"#DejaVuSans-118\"/>\n      <use x=\"1050.439453\" xlink:href=\"#DejaVuSans-101\"/>\n      <use x=\"1111.962891\" xlink:href=\"#DejaVuSans-32\"/>\n      <use x=\"1143.75\" xlink:href=\"#DejaVuSans-40\"/>\n      <use x=\"1182.763672\" xlink:href=\"#DejaVuSans-97\"/>\n      <use x=\"1244.042969\" xlink:href=\"#DejaVuSans-108\"/>\n      <use x=\"1271.826172\" xlink:href=\"#DejaVuSans-108\"/>\n      <use x=\"1299.609375\" xlink:href=\"#DejaVuSans-32\"/>\n      <use x=\"1331.396484\" xlink:href=\"#DejaVuSans-112\"/>\n      <use x=\"1394.873047\" xlink:href=\"#DejaVuSans-101\"/>\n      <use x=\"1456.396484\" xlink:href=\"#DejaVuSans-114\"/>\n      <use x=\"1497.509766\" xlink:href=\"#DejaVuSans-105\"/>\n      <use x=\"1525.292969\" xlink:href=\"#DejaVuSans-111\"/>\n      <use x=\"1586.474609\" xlink:href=\"#DejaVuSans-100\"/>\n      <use x=\"1649.951172\" xlink:href=\"#DejaVuSans-115\"/>\n      <use x=\"1702.050781\" xlink:href=\"#DejaVuSans-41\"/>\n      <use x=\"1741.064453\" xlink:href=\"#DejaVuSans-32\"/>\n      <use x=\"1772.851562\" xlink:href=\"#DejaVuSans-40\"/>\n      <use x=\"1811.865234\" xlink:href=\"#DejaVuSans-97\"/>\n      <use x=\"1873.144531\" xlink:href=\"#DejaVuSans-114\"/>\n      <use x=\"1912.007812\" xlink:href=\"#DejaVuSans-101\"/>\n      <use x=\"1973.53125\" xlink:href=\"#DejaVuSans-97\"/>\n      <use x=\"2034.810547\" xlink:href=\"#DejaVuSans-32\"/>\n      <use x=\"2066.597656\" xlink:href=\"#DejaVuSans-61\"/>\n      <use x=\"2150.386719\" xlink:href=\"#DejaVuSans-32\"/>\n      <use x=\"2182.173828\" xlink:href=\"#DejaVuSans-48\"/>\n      <use x=\"2245.796875\" xlink:href=\"#DejaVuSans-46\"/>\n      <use x=\"2277.583984\" xlink:href=\"#DejaVuSans-54\"/>\n      <use x=\"2341.207031\" xlink:href=\"#DejaVuSans-56\"/>\n      <use x=\"2404.830078\" xlink:href=\"#DejaVuSans-41\"/>\n     </g>\n    </g>\n    <g id=\"line2d_39\">\n     <path d=\"M 134.690625 442.618437 \nL 154.690625 442.618437 \n\" style=\"fill:none;stroke:#000000;stroke-linecap:square;stroke-width:1.5;\"/>\n    </g>\n    <g id=\"line2d_40\"/>\n    <g id=\"text_20\">\n     <!-- NN ROC curve (all periods) (area = 0.50) -->\n     <g transform=\"translate(162.690625 446.118437)scale(0.1 -0.1)\">\n      <defs>\n       <path d=\"M 9.8125 72.90625 \nL 23.09375 72.90625 \nL 55.421875 11.921875 \nL 55.421875 72.90625 \nL 64.984375 72.90625 \nL 64.984375 0 \nL 51.703125 0 \nL 19.390625 60.984375 \nL 19.390625 0 \nL 9.8125 0 \nz\n\" id=\"DejaVuSans-78\"/>\n      </defs>\n      <use xlink:href=\"#DejaVuSans-78\"/>\n      <use x=\"74.804688\" xlink:href=\"#DejaVuSans-78\"/>\n      <use x=\"149.609375\" xlink:href=\"#DejaVuSans-32\"/>\n      <use x=\"181.396484\" xlink:href=\"#DejaVuSans-82\"/>\n      <use x=\"250.878906\" xlink:href=\"#DejaVuSans-79\"/>\n      <use x=\"329.589844\" xlink:href=\"#DejaVuSans-67\"/>\n      <use x=\"399.414062\" xlink:href=\"#DejaVuSans-32\"/>\n      <use x=\"431.201172\" xlink:href=\"#DejaVuSans-99\"/>\n      <use x=\"486.181641\" xlink:href=\"#DejaVuSans-117\"/>\n      <use x=\"549.560547\" xlink:href=\"#DejaVuSans-114\"/>\n      <use x=\"590.673828\" xlink:href=\"#DejaVuSans-118\"/>\n      <use x=\"649.853516\" xlink:href=\"#DejaVuSans-101\"/>\n      <use x=\"711.376953\" xlink:href=\"#DejaVuSans-32\"/>\n      <use x=\"743.164062\" xlink:href=\"#DejaVuSans-40\"/>\n      <use x=\"782.177734\" xlink:href=\"#DejaVuSans-97\"/>\n      <use x=\"843.457031\" xlink:href=\"#DejaVuSans-108\"/>\n      <use x=\"871.240234\" xlink:href=\"#DejaVuSans-108\"/>\n      <use x=\"899.023438\" xlink:href=\"#DejaVuSans-32\"/>\n      <use x=\"930.810547\" xlink:href=\"#DejaVuSans-112\"/>\n      <use x=\"994.287109\" xlink:href=\"#DejaVuSans-101\"/>\n      <use x=\"1055.810547\" xlink:href=\"#DejaVuSans-114\"/>\n      <use x=\"1096.923828\" xlink:href=\"#DejaVuSans-105\"/>\n      <use x=\"1124.707031\" xlink:href=\"#DejaVuSans-111\"/>\n      <use x=\"1185.888672\" xlink:href=\"#DejaVuSans-100\"/>\n      <use x=\"1249.365234\" xlink:href=\"#DejaVuSans-115\"/>\n      <use x=\"1301.464844\" xlink:href=\"#DejaVuSans-41\"/>\n      <use x=\"1340.478516\" xlink:href=\"#DejaVuSans-32\"/>\n      <use x=\"1372.265625\" xlink:href=\"#DejaVuSans-40\"/>\n      <use x=\"1411.279297\" xlink:href=\"#DejaVuSans-97\"/>\n      <use x=\"1472.558594\" xlink:href=\"#DejaVuSans-114\"/>\n      <use x=\"1511.421875\" xlink:href=\"#DejaVuSans-101\"/>\n      <use x=\"1572.945312\" xlink:href=\"#DejaVuSans-97\"/>\n      <use x=\"1634.224609\" xlink:href=\"#DejaVuSans-32\"/>\n      <use x=\"1666.011719\" xlink:href=\"#DejaVuSans-61\"/>\n      <use x=\"1749.800781\" xlink:href=\"#DejaVuSans-32\"/>\n      <use x=\"1781.587891\" xlink:href=\"#DejaVuSans-48\"/>\n      <use x=\"1845.210938\" xlink:href=\"#DejaVuSans-46\"/>\n      <use x=\"1876.998047\" xlink:href=\"#DejaVuSans-53\"/>\n      <use x=\"1940.621094\" xlink:href=\"#DejaVuSans-48\"/>\n      <use x=\"2004.244141\" xlink:href=\"#DejaVuSans-41\"/>\n     </g>\n    </g>\n   </g>\n  </g>\n </g>\n <defs>\n  <clipPath id=\"pc1d4e296dc\">\n   <rect height=\"434.88\" width=\"446.4\" x=\"43.78125\" y=\"22.318125\"/>\n  </clipPath>\n </defs>\n</svg>\n",
      "image/png": "[encoded data removed]"
     },
     "metadata": {
      "needs_background": "light"
     }
    }
   ],
   "source": [
    "plt.figure(figsize=(8, 8))\n",
    "plt.plot(logistic_fpr, logistic_tpr, color='red', label='Logistic Regression Model ROC curve (means) (area = %0.2f)' % auc_logistic)\n",
    "plt.plot(svm_fpr, svm_tpr, color='green', label='SVM Model ROC curve (means) (area = %0.2f)' % auc_svm)\n",
    "\n",
    "plt.plot(logistic_fpr_all, logistic_tpr_all,color='orange', label='Logistic Regression Model ROC curve (all periods) (area = %0.2f)' % auc_logistic_all)\n",
    "plt.plot(svm_fpr_all, svm_tpr_all,color='cyan', label='SVM Model ROC curve (all periods) (area = %0.2f)' % auc_svm_all)\n",
    "\n",
    "plt.plot(nn_all_fpr, nn_all_tpr,color='black', label='NN ROC curve (all periods) (area = %0.2f)' % auc_nn_all)\n",
    "\n",
    "plt.plot([0, 1], [0, 1], linestyle='dashed', color='blue')\n",
    "plt.xlabel('False Positive Rate')\n",
    "plt.ylabel('True Positive Rate')\n",
    "plt.title('Classification models comparison')\n",
    "plt.xlim([0.0, 1.0])\n",
    "plt.ylim([0.0, 1.0])\n",
    "plt.grid(True)\n",
    "plt.legend(loc=\"lower right\")\n",
    "plt.show()"
   ]
  },
  {
   "source": [
    "# Final results and export"
   ],
   "cell_type": "markdown",
   "metadata": {}
  },
  {
   "source": [
    "As we can see, the best model is Logistic Regression based on mean values of 12 periods data. So we will use it to submit final results."
   ],
   "cell_type": "markdown",
   "metadata": {}
  },
  {
   "cell_type": "code",
   "execution_count": 19,
   "metadata": {},
   "outputs": [
    {
     "output_type": "stream",
     "name": "stdout",
     "text": [
      "Logistic Regr Means Score:  0.7548971596474046\n"
     ]
    }
   ],
   "source": [
    "df_train = pd.merge(tabular_df_means, train_df, on='id')\n",
    "y_fin = df_train['target']\n",
    "X_fin = df_train.drop(['period', 'id', 'target'], axis=1).fillna(method='bfill')\n",
    "\n",
    "model = LogisticRegression(random_state=0, solver='newton-cg', multi_class='multinomial').fit(X_fin, y_fin)\n",
    "print('Logistic Regr Means Score: ', model.score(X_fin, y_fin))"
   ]
  },
  {
   "cell_type": "code",
   "execution_count": 20,
   "metadata": {},
   "outputs": [],
   "source": [
    "test_df_n = pd.merge(tabular_df_means, test_df, on='id')\n",
    "\n",
    "X_pred = test_df_n.drop(['period', 'id', 'score'], axis=1).fillna(method='bfill')\n",
    "\n",
    "result = model.predict_proba(X_pred)[:,1]\n",
    "test_df['score'] = result.round(6)"
   ]
  },
  {
   "cell_type": "code",
   "execution_count": 21,
   "metadata": {},
   "outputs": [],
   "source": [
    "# Export results to file\n",
    "test_df.to_csv('HaidaTarasLR_test.txt', sep=',', index=False)"
   ]
  }
 ]
}