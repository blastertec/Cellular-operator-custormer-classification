{
 "metadata": {
  "language_info": {
   "codemirror_mode": {
    "name": "ipython",
    "version": 3
   },
   "file_extension": ".py",
   "mimetype": "text/x-python",
   "name": "python",
   "nbconvert_exporter": "python",
   "pygments_lexer": "ipython3",
   "version": "3.7.5-final"
  },
  "orig_nbformat": 2,
  "kernelspec": {
   "name": "Python 3.7.5 64-bit",
   "display_name": "Python 3.7.5 64-bit",
   "metadata": {
    "interpreter": {
     "hash": "5ba6ea905650b72b58bcbbeb6a9cbf1251095ac92316d4bf70606757d3aac9bd"
    }
   }
  }
 },
 "nbformat": 4,
 "nbformat_minor": 2,
 "cells": [
  {
   "cell_type": "code",
   "execution_count": 43,
   "metadata": {},
   "outputs": [],
   "source": [
    "from sklearn.datasets import load_iris\n",
    "from sklearn.decomposition import PCA\n",
    "import pylab as pylab\n",
    "from itertools import cycle\n",
    "import pandas as pd\n",
    "import numpy as np\n",
    "\n",
    "iris = load_iris()\n",
    "\n",
    "numSamples, numFeatures = iris.data.shape"
   ]
  },
  {
   "cell_type": "code",
   "execution_count": 38,
   "metadata": {},
   "outputs": [
    {
     "output_type": "execute_result",
     "data": {
      "text/plain": [
       "(150, 4)"
      ]
     },
     "metadata": {},
     "execution_count": 38
    }
   ],
   "source": [
    "iris.data.shape"
   ]
  },
  {
   "cell_type": "code",
   "execution_count": 67,
   "metadata": {},
   "outputs": [],
   "source": [
    "X = iris.data\n",
    "n_components = 2\n",
    "pca = PCA(n_components=n_components).fit(X)\n",
    "X_pca = pca.transform(X)"
   ]
  },
  {
   "cell_type": "code",
   "execution_count": 39,
   "metadata": {},
   "outputs": [
    {
     "output_type": "execute_result",
     "data": {
      "text/plain": [
       "(150, 2)"
      ]
     },
     "metadata": {},
     "execution_count": 39
    }
   ],
   "source": [
    "X_pca.shape"
   ]
  },
  {
   "cell_type": "code",
   "execution_count": 72,
   "metadata": {},
   "outputs": [],
   "source": [
    "X_df_pca = pd.DataFrame(X_pca, columns=['component_%i' % i for i in range(n_components)])"
   ]
  },
  {
   "cell_type": "code",
   "execution_count": 73,
   "metadata": {},
   "outputs": [
    {
     "output_type": "execute_result",
     "data": {
      "text/plain": [
       "     component_0  component_1\n",
       "0      -2.684126     0.319397\n",
       "1      -2.714142    -0.177001\n",
       "2      -2.888991    -0.144949\n",
       "3      -2.745343    -0.318299\n",
       "4      -2.728717     0.326755\n",
       "..           ...          ...\n",
       "145     1.944110     0.187532\n",
       "146     1.527167    -0.375317\n",
       "147     1.764346     0.078859\n",
       "148     1.900942     0.116628\n",
       "149     1.390189    -0.282661\n",
       "\n",
       "[150 rows x 2 columns]"
      ],
      "text/html": "<div>\n<style scoped>\n    .dataframe tbody tr th:only-of-type {\n        vertical-align: middle;\n    }\n\n    .dataframe tbody tr th {\n        vertical-align: top;\n    }\n\n    .dataframe thead th {\n        text-align: right;\n    }\n</style>\n<table border=\"1\" class=\"dataframe\">\n  <thead>\n    <tr style=\"text-align: right;\">\n      <th></th>\n      <th>component_0</th>\n      <th>component_1</th>\n    </tr>\n  </thead>\n  <tbody>\n    <tr>\n      <th>0</th>\n      <td>-2.684126</td>\n      <td>0.319397</td>\n    </tr>\n    <tr>\n      <th>1</th>\n      <td>-2.714142</td>\n      <td>-0.177001</td>\n    </tr>\n    <tr>\n      <th>2</th>\n      <td>-2.888991</td>\n      <td>-0.144949</td>\n    </tr>\n    <tr>\n      <th>3</th>\n      <td>-2.745343</td>\n      <td>-0.318299</td>\n    </tr>\n    <tr>\n      <th>4</th>\n      <td>-2.728717</td>\n      <td>0.326755</td>\n    </tr>\n    <tr>\n      <th>...</th>\n      <td>...</td>\n      <td>...</td>\n    </tr>\n    <tr>\n      <th>145</th>\n      <td>1.944110</td>\n      <td>0.187532</td>\n    </tr>\n    <tr>\n      <th>146</th>\n      <td>1.527167</td>\n      <td>-0.375317</td>\n    </tr>\n    <tr>\n      <th>147</th>\n      <td>1.764346</td>\n      <td>0.078859</td>\n    </tr>\n    <tr>\n      <th>148</th>\n      <td>1.900942</td>\n      <td>0.116628</td>\n    </tr>\n    <tr>\n      <th>149</th>\n      <td>1.390189</td>\n      <td>-0.282661</td>\n    </tr>\n  </tbody>\n</table>\n<p>150 rows × 2 columns</p>\n</div>"
     },
     "metadata": {},
     "execution_count": 73
    }
   ],
   "source": [
    "X_df_pca"
   ]
  },
  {
   "source": [
    "## FROM STACKOVERFLOW"
   ],
   "cell_type": "markdown",
   "metadata": {}
  },
  {
   "cell_type": "code",
   "execution_count": 80,
   "metadata": {},
   "outputs": [],
   "source": [
    "df = pd.DataFrame(data=np.random.normal(0, 1, (20, 10)))"
   ]
  },
  {
   "cell_type": "code",
   "execution_count": 81,
   "metadata": {},
   "outputs": [
    {
     "output_type": "execute_result",
     "data": {
      "text/plain": [
       "          0         1         2         3         4         5         6  \\\n",
       "0  1.374453  2.060524  2.285198  0.193884 -0.007645  0.458283  0.701156   \n",
       "1 -0.330275 -0.340715  0.125470 -0.097152 -1.207508 -0.269022  0.784052   \n",
       "2  0.196314  0.302984  0.240294  0.123521 -0.504844  0.489043  1.349775   \n",
       "\n",
       "          7         8         9  \n",
       "0  0.173639 -0.469687  0.217847  \n",
       "1  0.441271  0.082489 -0.390948  \n",
       "2  0.853349 -0.657275  0.908059  "
      ],
      "text/html": "<div>\n<style scoped>\n    .dataframe tbody tr th:only-of-type {\n        vertical-align: middle;\n    }\n\n    .dataframe tbody tr th {\n        vertical-align: top;\n    }\n\n    .dataframe thead th {\n        text-align: right;\n    }\n</style>\n<table border=\"1\" class=\"dataframe\">\n  <thead>\n    <tr style=\"text-align: right;\">\n      <th></th>\n      <th>0</th>\n      <th>1</th>\n      <th>2</th>\n      <th>3</th>\n      <th>4</th>\n      <th>5</th>\n      <th>6</th>\n      <th>7</th>\n      <th>8</th>\n      <th>9</th>\n    </tr>\n  </thead>\n  <tbody>\n    <tr>\n      <th>0</th>\n      <td>1.374453</td>\n      <td>2.060524</td>\n      <td>2.285198</td>\n      <td>0.193884</td>\n      <td>-0.007645</td>\n      <td>0.458283</td>\n      <td>0.701156</td>\n      <td>0.173639</td>\n      <td>-0.469687</td>\n      <td>0.217847</td>\n    </tr>\n    <tr>\n      <th>1</th>\n      <td>-0.330275</td>\n      <td>-0.340715</td>\n      <td>0.125470</td>\n      <td>-0.097152</td>\n      <td>-1.207508</td>\n      <td>-0.269022</td>\n      <td>0.784052</td>\n      <td>0.441271</td>\n      <td>0.082489</td>\n      <td>-0.390948</td>\n    </tr>\n    <tr>\n      <th>2</th>\n      <td>0.196314</td>\n      <td>0.302984</td>\n      <td>0.240294</td>\n      <td>0.123521</td>\n      <td>-0.504844</td>\n      <td>0.489043</td>\n      <td>1.349775</td>\n      <td>0.853349</td>\n      <td>-0.657275</td>\n      <td>0.908059</td>\n    </tr>\n  </tbody>\n</table>\n</div>"
     },
     "metadata": {},
     "execution_count": 81
    }
   ],
   "source": [
    "df.head(3)"
   ]
  },
  {
   "cell_type": "code",
   "execution_count": 85,
   "metadata": {},
   "outputs": [],
   "source": [
    "pca = PCA(n_components=5)\n",
    "pca.fit(df)\n",
    "\n",
    "n_components = 5\n",
    "transformed_df = pd.DataFrame(pca.transform(df), columns=['PCA%i' % i for i in range(n_components)], index=df.index)"
   ]
  },
  {
   "cell_type": "code",
   "execution_count": 86,
   "metadata": {},
   "outputs": [
    {
     "output_type": "execute_result",
     "data": {
      "text/plain": [
       "        PCA0      PCA1      PCA2      PCA3      PCA4\n",
       "0  -1.734363  0.159757 -2.092182 -0.568010  0.434189\n",
       "1  -0.111821 -1.057832  0.295140 -0.002365 -0.646544\n",
       "2  -0.103000 -0.454875 -1.397657  0.472654 -1.242679\n",
       "3   0.206907 -0.428210  1.627775  0.196773 -0.258151\n",
       "4  -0.988748  2.103042 -0.520643  2.007350  1.966495\n",
       "5   0.250695 -1.633566  1.498178 -0.970475  0.939075\n",
       "6  -0.271243  3.258270  1.276895 -0.137193 -1.126627\n",
       "7   0.151996  1.275526 -1.152752 -0.822955 -0.714667\n",
       "8   1.405816 -0.486130  1.461479 -2.202406  0.595750\n",
       "9  -1.483372 -0.287323 -1.212198 -0.667920  0.202023\n",
       "10 -1.110589 -1.588070 -1.329434 -0.707119  0.497388\n",
       "11  4.172908 -0.830281  0.734504  1.251472  0.901295\n",
       "12  0.406338  0.812505  0.050670  0.195595 -1.031616\n",
       "13  1.950834  1.003931 -1.619373 -0.538268  0.065257\n",
       "14 -3.522145 -0.625506  1.428263  0.332384 -1.299925\n",
       "15 -1.094517 -0.622519 -0.057802 -1.883808  1.181878\n",
       "16 -0.479960 -1.993942 -1.035717  2.850096  0.246861\n",
       "17  2.185521 -1.321278  0.027451  0.400426 -1.799147\n",
       "18 -1.550395  0.787564  2.678920  1.026466  0.747267\n",
       "19  1.719138  1.928938 -0.661518 -0.232695  0.341877"
      ],
      "text/html": "<div>\n<style scoped>\n    .dataframe tbody tr th:only-of-type {\n        vertical-align: middle;\n    }\n\n    .dataframe tbody tr th {\n        vertical-align: top;\n    }\n\n    .dataframe thead th {\n        text-align: right;\n    }\n</style>\n<table border=\"1\" class=\"dataframe\">\n  <thead>\n    <tr style=\"text-align: right;\">\n      <th></th>\n      <th>PCA0</th>\n      <th>PCA1</th>\n      <th>PCA2</th>\n      <th>PCA3</th>\n      <th>PCA4</th>\n    </tr>\n  </thead>\n  <tbody>\n    <tr>\n      <th>0</th>\n      <td>-1.734363</td>\n      <td>0.159757</td>\n      <td>-2.092182</td>\n      <td>-0.568010</td>\n      <td>0.434189</td>\n    </tr>\n    <tr>\n      <th>1</th>\n      <td>-0.111821</td>\n      <td>-1.057832</td>\n      <td>0.295140</td>\n      <td>-0.002365</td>\n      <td>-0.646544</td>\n    </tr>\n    <tr>\n      <th>2</th>\n      <td>-0.103000</td>\n      <td>-0.454875</td>\n      <td>-1.397657</td>\n      <td>0.472654</td>\n      <td>-1.242679</td>\n    </tr>\n    <tr>\n      <th>3</th>\n      <td>0.206907</td>\n      <td>-0.428210</td>\n      <td>1.627775</td>\n      <td>0.196773</td>\n      <td>-0.258151</td>\n    </tr>\n    <tr>\n      <th>4</th>\n      <td>-0.988748</td>\n      <td>2.103042</td>\n      <td>-0.520643</td>\n      <td>2.007350</td>\n      <td>1.966495</td>\n    </tr>\n    <tr>\n      <th>5</th>\n      <td>0.250695</td>\n      <td>-1.633566</td>\n      <td>1.498178</td>\n      <td>-0.970475</td>\n      <td>0.939075</td>\n    </tr>\n    <tr>\n      <th>6</th>\n      <td>-0.271243</td>\n      <td>3.258270</td>\n      <td>1.276895</td>\n      <td>-0.137193</td>\n      <td>-1.126627</td>\n    </tr>\n    <tr>\n      <th>7</th>\n      <td>0.151996</td>\n      <td>1.275526</td>\n      <td>-1.152752</td>\n      <td>-0.822955</td>\n      <td>-0.714667</td>\n    </tr>\n    <tr>\n      <th>8</th>\n      <td>1.405816</td>\n      <td>-0.486130</td>\n      <td>1.461479</td>\n      <td>-2.202406</td>\n      <td>0.595750</td>\n    </tr>\n    <tr>\n      <th>9</th>\n      <td>-1.483372</td>\n      <td>-0.287323</td>\n      <td>-1.212198</td>\n      <td>-0.667920</td>\n      <td>0.202023</td>\n    </tr>\n    <tr>\n      <th>10</th>\n      <td>-1.110589</td>\n      <td>-1.588070</td>\n      <td>-1.329434</td>\n      <td>-0.707119</td>\n      <td>0.497388</td>\n    </tr>\n    <tr>\n      <th>11</th>\n      <td>4.172908</td>\n      <td>-0.830281</td>\n      <td>0.734504</td>\n      <td>1.251472</td>\n      <td>0.901295</td>\n    </tr>\n    <tr>\n      <th>12</th>\n      <td>0.406338</td>\n      <td>0.812505</td>\n      <td>0.050670</td>\n      <td>0.195595</td>\n      <td>-1.031616</td>\n    </tr>\n    <tr>\n      <th>13</th>\n      <td>1.950834</td>\n      <td>1.003931</td>\n      <td>-1.619373</td>\n      <td>-0.538268</td>\n      <td>0.065257</td>\n    </tr>\n    <tr>\n      <th>14</th>\n      <td>-3.522145</td>\n      <td>-0.625506</td>\n      <td>1.428263</td>\n      <td>0.332384</td>\n      <td>-1.299925</td>\n    </tr>\n    <tr>\n      <th>15</th>\n      <td>-1.094517</td>\n      <td>-0.622519</td>\n      <td>-0.057802</td>\n      <td>-1.883808</td>\n      <td>1.181878</td>\n    </tr>\n    <tr>\n      <th>16</th>\n      <td>-0.479960</td>\n      <td>-1.993942</td>\n      <td>-1.035717</td>\n      <td>2.850096</td>\n      <td>0.246861</td>\n    </tr>\n    <tr>\n      <th>17</th>\n      <td>2.185521</td>\n      <td>-1.321278</td>\n      <td>0.027451</td>\n      <td>0.400426</td>\n      <td>-1.799147</td>\n    </tr>\n    <tr>\n      <th>18</th>\n      <td>-1.550395</td>\n      <td>0.787564</td>\n      <td>2.678920</td>\n      <td>1.026466</td>\n      <td>0.747267</td>\n    </tr>\n    <tr>\n      <th>19</th>\n      <td>1.719138</td>\n      <td>1.928938</td>\n      <td>-0.661518</td>\n      <td>-0.232695</td>\n      <td>0.341877</td>\n    </tr>\n  </tbody>\n</table>\n</div>"
     },
     "metadata": {},
     "execution_count": 86
    }
   ],
   "source": [
    "transformed_df"
   ]
  },
  {
   "cell_type": "code",
   "execution_count": 88,
   "metadata": {},
   "outputs": [
    {
     "output_type": "stream",
     "name": "stdout",
     "text": [
      "[0.27063717 0.18170119 0.16644684 0.13288682 0.09023833]\n0.8419103531318367\n"
     ]
    }
   ],
   "source": [
    "print(pca.explained_variance_ratio_)\n",
    "print(sum(pca.explained_variance_ratio_))"
   ]
  }
 ]
}