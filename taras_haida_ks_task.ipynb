{
 "metadata": {
  "language_info": {
   "codemirror_mode": {
    "name": "ipython",
    "version": 3
   },
   "file_extension": ".py",
   "mimetype": "text/x-python",
   "name": "python",
   "nbconvert_exporter": "python",
   "pygments_lexer": "ipython3",
   "version": "3.7.5-final"
  },
  "orig_nbformat": 2,
  "kernelspec": {
   "name": "Python 3.7.5 64-bit",
   "display_name": "Python 3.7.5 64-bit",
   "metadata": {
    "interpreter": {
     "hash": "5ba6ea905650b72b58bcbbeb6a9cbf1251095ac92316d4bf70606757d3aac9bd"
    }
   }
  }
 },
 "nbformat": 4,
 "nbformat_minor": 2,
 "cells": [
  {
   "source": [
    "## Import of libraries"
   ],
   "cell_type": "markdown",
   "metadata": {}
  },
  {
   "cell_type": "code",
   "execution_count": 58,
   "metadata": {},
   "outputs": [],
   "source": [
    "import pandas as pd\n",
    "import numpy as np\n",
    "from sklearn.linear_model import LogisticRegression\n",
    "from sklearn.linear_model import LinearRegression"
   ]
  },
  {
   "source": [
    "## Import of CSV data"
   ],
   "cell_type": "markdown",
   "metadata": {}
  },
  {
   "cell_type": "code",
   "execution_count": 59,
   "metadata": {},
   "outputs": [
    {
     "output_type": "execute_result",
     "data": {
      "text/plain": [
       "   id  period  feature_0  feature_1  feature_2  feature_3  feature_4  \\\n",
       "0   0       1      110.0       55.0   0.432017        0.0     176.78   \n",
       "1   0       2      110.0      110.0   0.397517        0.0     315.42   \n",
       "2   0       3      110.0       55.0   0.359440        0.0     354.55   \n",
       "\n",
       "   feature_5  feature_6  feature_7  ...  feature_40  feature_41  feature_42  \\\n",
       "0        0.0   0.323712        NaN  ...        0.00           0         0.0   \n",
       "1        0.0   0.316798        NaN  ...        0.00           0         0.0   \n",
       "2        0.0   0.339188        NaN  ...        0.07           0         0.0   \n",
       "\n",
       "   feature_43  feature_44  feature_45  feature_46  feature_47  feature_48  \\\n",
       "0         0.0        55.0         2.0    0.526552       145.0      133.28   \n",
       "1         0.0       110.0         1.0    0.481063       130.0      229.97   \n",
       "2         0.0        55.0         1.0    0.509598       180.0      231.78   \n",
       "\n",
       "   feature_49  \n",
       "0         0.0  \n",
       "1         0.0  \n",
       "2         0.0  \n",
       "\n",
       "[3 rows x 52 columns]"
      ],
      "text/html": "<div>\n<style scoped>\n    .dataframe tbody tr th:only-of-type {\n        vertical-align: middle;\n    }\n\n    .dataframe tbody tr th {\n        vertical-align: top;\n    }\n\n    .dataframe thead th {\n        text-align: right;\n    }\n</style>\n<table border=\"1\" class=\"dataframe\">\n  <thead>\n    <tr style=\"text-align: right;\">\n      <th></th>\n      <th>id</th>\n      <th>period</th>\n      <th>feature_0</th>\n      <th>feature_1</th>\n      <th>feature_2</th>\n      <th>feature_3</th>\n      <th>feature_4</th>\n      <th>feature_5</th>\n      <th>feature_6</th>\n      <th>feature_7</th>\n      <th>...</th>\n      <th>feature_40</th>\n      <th>feature_41</th>\n      <th>feature_42</th>\n      <th>feature_43</th>\n      <th>feature_44</th>\n      <th>feature_45</th>\n      <th>feature_46</th>\n      <th>feature_47</th>\n      <th>feature_48</th>\n      <th>feature_49</th>\n    </tr>\n  </thead>\n  <tbody>\n    <tr>\n      <th>0</th>\n      <td>0</td>\n      <td>1</td>\n      <td>110.0</td>\n      <td>55.0</td>\n      <td>0.432017</td>\n      <td>0.0</td>\n      <td>176.78</td>\n      <td>0.0</td>\n      <td>0.323712</td>\n      <td>NaN</td>\n      <td>...</td>\n      <td>0.00</td>\n      <td>0</td>\n      <td>0.0</td>\n      <td>0.0</td>\n      <td>55.0</td>\n      <td>2.0</td>\n      <td>0.526552</td>\n      <td>145.0</td>\n      <td>133.28</td>\n      <td>0.0</td>\n    </tr>\n    <tr>\n      <th>1</th>\n      <td>0</td>\n      <td>2</td>\n      <td>110.0</td>\n      <td>110.0</td>\n      <td>0.397517</td>\n      <td>0.0</td>\n      <td>315.42</td>\n      <td>0.0</td>\n      <td>0.316798</td>\n      <td>NaN</td>\n      <td>...</td>\n      <td>0.00</td>\n      <td>0</td>\n      <td>0.0</td>\n      <td>0.0</td>\n      <td>110.0</td>\n      <td>1.0</td>\n      <td>0.481063</td>\n      <td>130.0</td>\n      <td>229.97</td>\n      <td>0.0</td>\n    </tr>\n    <tr>\n      <th>2</th>\n      <td>0</td>\n      <td>3</td>\n      <td>110.0</td>\n      <td>55.0</td>\n      <td>0.359440</td>\n      <td>0.0</td>\n      <td>354.55</td>\n      <td>0.0</td>\n      <td>0.339188</td>\n      <td>NaN</td>\n      <td>...</td>\n      <td>0.07</td>\n      <td>0</td>\n      <td>0.0</td>\n      <td>0.0</td>\n      <td>55.0</td>\n      <td>1.0</td>\n      <td>0.509598</td>\n      <td>180.0</td>\n      <td>231.78</td>\n      <td>0.0</td>\n    </tr>\n  </tbody>\n</table>\n<p>3 rows × 52 columns</p>\n</div>"
     },
     "metadata": {},
     "execution_count": 59
    }
   ],
   "source": [
    "hashed_df = pd.read_csv('hashed_feature.csv')\n",
    "tabular_df = pd.read_csv('tabular_data.csv')\n",
    "train_df = pd.read_csv('train.csv')\n",
    "test_df = pd.read_csv('test.csv')\n",
    "tabular_df.head(3)"
   ]
  },
  {
   "source": [
    "## Simplest solution to deal with NaN "
   ],
   "cell_type": "markdown",
   "metadata": {}
  },
  {
   "cell_type": "code",
   "execution_count": 64,
   "metadata": {},
   "outputs": [],
   "source": [
    "tabular_df = tabular_df.fillna(axis='columns', method='bfill')\n",
    "\n",
    "# find mean values among all 12 periods for each 'id'\n",
    "tabular_df_means = tabular_df.groupby([tabular_df['id']]).mean()\n",
    "tabular_df_means.reset_index(level=0, inplace=True)\n",
    "tabular_df_means = tabular_df_means.drop(['period'], axis=1)"
   ]
  },
  {
   "cell_type": "code",
   "execution_count": 65,
   "metadata": {},
   "outputs": [
    {
     "output_type": "execute_result",
     "data": {
      "text/plain": [
       "        id   feature_0   feature_1   feature_2    feature_3    feature_4  \\\n",
       "0        0  110.000000   60.916667    0.238880   293.635812   430.134167   \n",
       "1        1  110.000000  135.541667    0.060443  6940.579852  1119.352500   \n",
       "2        2  110.166667    0.597500    0.574959     0.141369     4.168333   \n",
       "3        3   28.199112   16.324112  357.412960   379.234397    19.188810   \n",
       "4        4  110.000000  126.000000    0.133693  2568.283478   460.332500   \n",
       "...    ...         ...         ...         ...          ...          ...   \n",
       "5101  5101  110.000000   94.166667    0.292280   180.142899  1218.388333   \n",
       "5102  5102  110.000000   80.675000    0.755737     0.000000   215.499167   \n",
       "5103  5103  110.250000   22.568333    0.801533     0.000000   145.231667   \n",
       "5104  5104  110.000000   86.230833    0.068594   988.894377    72.641667   \n",
       "5105  5105  110.000000   76.458333    0.000000     0.000000    83.882500   \n",
       "\n",
       "      feature_5  feature_6    feature_7   feature_8  ...  feature_40  \\\n",
       "0      0.000000   0.445332   147.666667  147.666667  ...    0.425000   \n",
       "1      0.000000   0.350638  1199.843333  114.500000  ...    1.636667   \n",
       "2      0.000000   0.875014    10.166667   10.166667  ...    0.456667   \n",
       "3      0.285477  21.883435    41.372977   27.035477  ...    0.170000   \n",
       "4      0.000000   1.006855   522.449167  227.583333  ...    3.381667   \n",
       "...         ...        ...          ...         ...  ...         ...   \n",
       "5101  98.211165   0.465432  1430.785833  142.916667  ...    0.269167   \n",
       "5102   0.000000   0.772686   144.782500    1.800833  ...    0.862500   \n",
       "5103   0.000000   0.851162    64.091667   19.166667  ...    2.669167   \n",
       "5104   0.000000   0.548337    73.720000   65.250000  ...    0.547500   \n",
       "5105   0.000000   0.084327   253.014167   33.833333  ...    0.835000   \n",
       "\n",
       "      feature_41   feature_42  feature_43  feature_44  feature_45  feature_46  \\\n",
       "0            0.0    11.535962    0.000000   59.875000    0.750000    8.965738   \n",
       "1            0.0  3385.043551    0.083333  125.000000    6.750000   15.637394   \n",
       "2            0.0     0.000082    0.000000    0.597500    0.000000    0.345516   \n",
       "3            0.0     0.163807    0.666667   51.376667    1.000000    0.690459   \n",
       "4            0.0   162.972195    0.166667  103.733333   36.333333   17.000910   \n",
       "...          ...          ...         ...         ...         ...         ...   \n",
       "5101         0.0    35.789269    0.000000   91.667500   12.083333  167.250000   \n",
       "5102         0.0     0.000000    0.416667   74.583333    8.500000    4.832806   \n",
       "5103         0.0     0.000000    0.333333   20.833333    5.583333    1.239719   \n",
       "5104         0.0   190.904901    0.416667   85.314167    4.333333    8.487934   \n",
       "5105         0.0     0.000000    0.000000   67.833333    0.166667    2.985461   \n",
       "\n",
       "      feature_47  feature_48  feature_49  \n",
       "0     142.833333  315.011667    0.250000  \n",
       "1     135.916667  204.334131  204.334131  \n",
       "2      10.083333    2.470000    0.000000  \n",
       "3     106.000000   55.316667    6.666667  \n",
       "4     190.333333  208.911004  208.911004  \n",
       "...          ...         ...         ...  \n",
       "5101  167.250000  858.400833    6.500000  \n",
       "5102  102.416667  187.505833    1.666667  \n",
       "5103   17.250000    7.666667    7.666667  \n",
       "5104   60.916667   49.870833    4.583333  \n",
       "5105   43.666667   58.860833    0.000000  \n",
       "\n",
       "[5106 rows x 43 columns]"
      ],
      "text/html": "<div>\n<style scoped>\n    .dataframe tbody tr th:only-of-type {\n        vertical-align: middle;\n    }\n\n    .dataframe tbody tr th {\n        vertical-align: top;\n    }\n\n    .dataframe thead th {\n        text-align: right;\n    }\n</style>\n<table border=\"1\" class=\"dataframe\">\n  <thead>\n    <tr style=\"text-align: right;\">\n      <th></th>\n      <th>id</th>\n      <th>feature_0</th>\n      <th>feature_1</th>\n      <th>feature_2</th>\n      <th>feature_3</th>\n      <th>feature_4</th>\n      <th>feature_5</th>\n      <th>feature_6</th>\n      <th>feature_7</th>\n      <th>feature_8</th>\n      <th>...</th>\n      <th>feature_40</th>\n      <th>feature_41</th>\n      <th>feature_42</th>\n      <th>feature_43</th>\n      <th>feature_44</th>\n      <th>feature_45</th>\n      <th>feature_46</th>\n      <th>feature_47</th>\n      <th>feature_48</th>\n      <th>feature_49</th>\n    </tr>\n  </thead>\n  <tbody>\n    <tr>\n      <th>0</th>\n      <td>0</td>\n      <td>110.000000</td>\n      <td>60.916667</td>\n      <td>0.238880</td>\n      <td>293.635812</td>\n      <td>430.134167</td>\n      <td>0.000000</td>\n      <td>0.445332</td>\n      <td>147.666667</td>\n      <td>147.666667</td>\n      <td>...</td>\n      <td>0.425000</td>\n      <td>0.0</td>\n      <td>11.535962</td>\n      <td>0.000000</td>\n      <td>59.875000</td>\n      <td>0.750000</td>\n      <td>8.965738</td>\n      <td>142.833333</td>\n      <td>315.011667</td>\n      <td>0.250000</td>\n    </tr>\n    <tr>\n      <th>1</th>\n      <td>1</td>\n      <td>110.000000</td>\n      <td>135.541667</td>\n      <td>0.060443</td>\n      <td>6940.579852</td>\n      <td>1119.352500</td>\n      <td>0.000000</td>\n      <td>0.350638</td>\n      <td>1199.843333</td>\n      <td>114.500000</td>\n      <td>...</td>\n      <td>1.636667</td>\n      <td>0.0</td>\n      <td>3385.043551</td>\n      <td>0.083333</td>\n      <td>125.000000</td>\n      <td>6.750000</td>\n      <td>15.637394</td>\n      <td>135.916667</td>\n      <td>204.334131</td>\n      <td>204.334131</td>\n    </tr>\n    <tr>\n      <th>2</th>\n      <td>2</td>\n      <td>110.166667</td>\n      <td>0.597500</td>\n      <td>0.574959</td>\n      <td>0.141369</td>\n      <td>4.168333</td>\n      <td>0.000000</td>\n      <td>0.875014</td>\n      <td>10.166667</td>\n      <td>10.166667</td>\n      <td>...</td>\n      <td>0.456667</td>\n      <td>0.0</td>\n      <td>0.000082</td>\n      <td>0.000000</td>\n      <td>0.597500</td>\n      <td>0.000000</td>\n      <td>0.345516</td>\n      <td>10.083333</td>\n      <td>2.470000</td>\n      <td>0.000000</td>\n    </tr>\n    <tr>\n      <th>3</th>\n      <td>3</td>\n      <td>28.199112</td>\n      <td>16.324112</td>\n      <td>357.412960</td>\n      <td>379.234397</td>\n      <td>19.188810</td>\n      <td>0.285477</td>\n      <td>21.883435</td>\n      <td>41.372977</td>\n      <td>27.035477</td>\n      <td>...</td>\n      <td>0.170000</td>\n      <td>0.0</td>\n      <td>0.163807</td>\n      <td>0.666667</td>\n      <td>51.376667</td>\n      <td>1.000000</td>\n      <td>0.690459</td>\n      <td>106.000000</td>\n      <td>55.316667</td>\n      <td>6.666667</td>\n    </tr>\n    <tr>\n      <th>4</th>\n      <td>4</td>\n      <td>110.000000</td>\n      <td>126.000000</td>\n      <td>0.133693</td>\n      <td>2568.283478</td>\n      <td>460.332500</td>\n      <td>0.000000</td>\n      <td>1.006855</td>\n      <td>522.449167</td>\n      <td>227.583333</td>\n      <td>...</td>\n      <td>3.381667</td>\n      <td>0.0</td>\n      <td>162.972195</td>\n      <td>0.166667</td>\n      <td>103.733333</td>\n      <td>36.333333</td>\n      <td>17.000910</td>\n      <td>190.333333</td>\n      <td>208.911004</td>\n      <td>208.911004</td>\n    </tr>\n    <tr>\n      <th>...</th>\n      <td>...</td>\n      <td>...</td>\n      <td>...</td>\n      <td>...</td>\n      <td>...</td>\n      <td>...</td>\n      <td>...</td>\n      <td>...</td>\n      <td>...</td>\n      <td>...</td>\n      <td>...</td>\n      <td>...</td>\n      <td>...</td>\n      <td>...</td>\n      <td>...</td>\n      <td>...</td>\n      <td>...</td>\n      <td>...</td>\n      <td>...</td>\n      <td>...</td>\n      <td>...</td>\n    </tr>\n    <tr>\n      <th>5101</th>\n      <td>5101</td>\n      <td>110.000000</td>\n      <td>94.166667</td>\n      <td>0.292280</td>\n      <td>180.142899</td>\n      <td>1218.388333</td>\n      <td>98.211165</td>\n      <td>0.465432</td>\n      <td>1430.785833</td>\n      <td>142.916667</td>\n      <td>...</td>\n      <td>0.269167</td>\n      <td>0.0</td>\n      <td>35.789269</td>\n      <td>0.000000</td>\n      <td>91.667500</td>\n      <td>12.083333</td>\n      <td>167.250000</td>\n      <td>167.250000</td>\n      <td>858.400833</td>\n      <td>6.500000</td>\n    </tr>\n    <tr>\n      <th>5102</th>\n      <td>5102</td>\n      <td>110.000000</td>\n      <td>80.675000</td>\n      <td>0.755737</td>\n      <td>0.000000</td>\n      <td>215.499167</td>\n      <td>0.000000</td>\n      <td>0.772686</td>\n      <td>144.782500</td>\n      <td>1.800833</td>\n      <td>...</td>\n      <td>0.862500</td>\n      <td>0.0</td>\n      <td>0.000000</td>\n      <td>0.416667</td>\n      <td>74.583333</td>\n      <td>8.500000</td>\n      <td>4.832806</td>\n      <td>102.416667</td>\n      <td>187.505833</td>\n      <td>1.666667</td>\n    </tr>\n    <tr>\n      <th>5103</th>\n      <td>5103</td>\n      <td>110.250000</td>\n      <td>22.568333</td>\n      <td>0.801533</td>\n      <td>0.000000</td>\n      <td>145.231667</td>\n      <td>0.000000</td>\n      <td>0.851162</td>\n      <td>64.091667</td>\n      <td>19.166667</td>\n      <td>...</td>\n      <td>2.669167</td>\n      <td>0.0</td>\n      <td>0.000000</td>\n      <td>0.333333</td>\n      <td>20.833333</td>\n      <td>5.583333</td>\n      <td>1.239719</td>\n      <td>17.250000</td>\n      <td>7.666667</td>\n      <td>7.666667</td>\n    </tr>\n    <tr>\n      <th>5104</th>\n      <td>5104</td>\n      <td>110.000000</td>\n      <td>86.230833</td>\n      <td>0.068594</td>\n      <td>988.894377</td>\n      <td>72.641667</td>\n      <td>0.000000</td>\n      <td>0.548337</td>\n      <td>73.720000</td>\n      <td>65.250000</td>\n      <td>...</td>\n      <td>0.547500</td>\n      <td>0.0</td>\n      <td>190.904901</td>\n      <td>0.416667</td>\n      <td>85.314167</td>\n      <td>4.333333</td>\n      <td>8.487934</td>\n      <td>60.916667</td>\n      <td>49.870833</td>\n      <td>4.583333</td>\n    </tr>\n    <tr>\n      <th>5105</th>\n      <td>5105</td>\n      <td>110.000000</td>\n      <td>76.458333</td>\n      <td>0.000000</td>\n      <td>0.000000</td>\n      <td>83.882500</td>\n      <td>0.000000</td>\n      <td>0.084327</td>\n      <td>253.014167</td>\n      <td>33.833333</td>\n      <td>...</td>\n      <td>0.835000</td>\n      <td>0.0</td>\n      <td>0.000000</td>\n      <td>0.000000</td>\n      <td>67.833333</td>\n      <td>0.166667</td>\n      <td>2.985461</td>\n      <td>43.666667</td>\n      <td>58.860833</td>\n      <td>0.000000</td>\n    </tr>\n  </tbody>\n</table>\n<p>5106 rows × 43 columns</p>\n</div>"
     },
     "metadata": {},
     "execution_count": 65
    }
   ],
   "source": [
    "tabular_df_means"
   ]
  },
  {
   "source": [
    "## Create smaller DF based on 4 columns to test different models and check if its even possible to apply them for this task"
   ],
   "cell_type": "markdown",
   "metadata": {}
  },
  {
   "cell_type": "code",
   "execution_count": 42,
   "metadata": {},
   "outputs": [],
   "source": [
    "simp_tab_df = tabular_df[['id', 'feature_1', 'feature_2', 'feature_3', 'feature_4', 'feature_5', 'feature_6']].copy()\n",
    "simp_tab_df = simp_tab_df.convert_dtypes()"
   ]
  },
  {
   "cell_type": "code",
   "execution_count": 43,
   "metadata": {},
   "outputs": [
    {
     "output_type": "execute_result",
     "data": {
      "text/plain": [
       "    id  feature_1  feature_2    feature_3  feature_4  feature_5  feature_6\n",
       "0    0      55.00   0.432017     0.000000     176.78        0.0   0.323712\n",
       "1    0     110.00   0.397517     0.000000     315.42        0.0   0.316798\n",
       "2    0      55.00   0.359440     0.000000     354.55        0.0   0.339188\n",
       "3    0      55.00   0.285707     0.000000     229.98        0.0   0.415428\n",
       "4    0      55.00   0.101487   444.730391     307.12        0.0   0.569670\n",
       "5    0      55.00   0.083655    92.284390     277.02        0.0   0.494765\n",
       "6    0      55.00   0.107765   543.138844     690.38        0.0   0.522715\n",
       "7    0      55.00   0.097857   578.379486     619.35        0.0   0.537815\n",
       "8    0      55.75   0.179713   186.258945     539.15        0.0   0.547634\n",
       "9    0      60.00   0.129596  1099.289203     608.28        0.0   0.438465\n",
       "10   0      60.25   0.139461   579.548487     884.33        0.0   0.366063\n",
       "11   0      60.00   0.552340     0.000000     159.25        0.0   0.471734\n",
       "12   1     125.00   0.083174  5893.939371     812.20        0.0   0.417209\n",
       "13   1     125.00   0.096831  5805.264756     945.20        0.0   0.432038"
      ],
      "text/html": "<div>\n<style scoped>\n    .dataframe tbody tr th:only-of-type {\n        vertical-align: middle;\n    }\n\n    .dataframe tbody tr th {\n        vertical-align: top;\n    }\n\n    .dataframe thead th {\n        text-align: right;\n    }\n</style>\n<table border=\"1\" class=\"dataframe\">\n  <thead>\n    <tr style=\"text-align: right;\">\n      <th></th>\n      <th>id</th>\n      <th>feature_1</th>\n      <th>feature_2</th>\n      <th>feature_3</th>\n      <th>feature_4</th>\n      <th>feature_5</th>\n      <th>feature_6</th>\n    </tr>\n  </thead>\n  <tbody>\n    <tr>\n      <th>0</th>\n      <td>0</td>\n      <td>55.00</td>\n      <td>0.432017</td>\n      <td>0.000000</td>\n      <td>176.78</td>\n      <td>0.0</td>\n      <td>0.323712</td>\n    </tr>\n    <tr>\n      <th>1</th>\n      <td>0</td>\n      <td>110.00</td>\n      <td>0.397517</td>\n      <td>0.000000</td>\n      <td>315.42</td>\n      <td>0.0</td>\n      <td>0.316798</td>\n    </tr>\n    <tr>\n      <th>2</th>\n      <td>0</td>\n      <td>55.00</td>\n      <td>0.359440</td>\n      <td>0.000000</td>\n      <td>354.55</td>\n      <td>0.0</td>\n      <td>0.339188</td>\n    </tr>\n    <tr>\n      <th>3</th>\n      <td>0</td>\n      <td>55.00</td>\n      <td>0.285707</td>\n      <td>0.000000</td>\n      <td>229.98</td>\n      <td>0.0</td>\n      <td>0.415428</td>\n    </tr>\n    <tr>\n      <th>4</th>\n      <td>0</td>\n      <td>55.00</td>\n      <td>0.101487</td>\n      <td>444.730391</td>\n      <td>307.12</td>\n      <td>0.0</td>\n      <td>0.569670</td>\n    </tr>\n    <tr>\n      <th>5</th>\n      <td>0</td>\n      <td>55.00</td>\n      <td>0.083655</td>\n      <td>92.284390</td>\n      <td>277.02</td>\n      <td>0.0</td>\n      <td>0.494765</td>\n    </tr>\n    <tr>\n      <th>6</th>\n      <td>0</td>\n      <td>55.00</td>\n      <td>0.107765</td>\n      <td>543.138844</td>\n      <td>690.38</td>\n      <td>0.0</td>\n      <td>0.522715</td>\n    </tr>\n    <tr>\n      <th>7</th>\n      <td>0</td>\n      <td>55.00</td>\n      <td>0.097857</td>\n      <td>578.379486</td>\n      <td>619.35</td>\n      <td>0.0</td>\n      <td>0.537815</td>\n    </tr>\n    <tr>\n      <th>8</th>\n      <td>0</td>\n      <td>55.75</td>\n      <td>0.179713</td>\n      <td>186.258945</td>\n      <td>539.15</td>\n      <td>0.0</td>\n      <td>0.547634</td>\n    </tr>\n    <tr>\n      <th>9</th>\n      <td>0</td>\n      <td>60.00</td>\n      <td>0.129596</td>\n      <td>1099.289203</td>\n      <td>608.28</td>\n      <td>0.0</td>\n      <td>0.438465</td>\n    </tr>\n    <tr>\n      <th>10</th>\n      <td>0</td>\n      <td>60.25</td>\n      <td>0.139461</td>\n      <td>579.548487</td>\n      <td>884.33</td>\n      <td>0.0</td>\n      <td>0.366063</td>\n    </tr>\n    <tr>\n      <th>11</th>\n      <td>0</td>\n      <td>60.00</td>\n      <td>0.552340</td>\n      <td>0.000000</td>\n      <td>159.25</td>\n      <td>0.0</td>\n      <td>0.471734</td>\n    </tr>\n    <tr>\n      <th>12</th>\n      <td>1</td>\n      <td>125.00</td>\n      <td>0.083174</td>\n      <td>5893.939371</td>\n      <td>812.20</td>\n      <td>0.0</td>\n      <td>0.417209</td>\n    </tr>\n    <tr>\n      <th>13</th>\n      <td>1</td>\n      <td>125.00</td>\n      <td>0.096831</td>\n      <td>5805.264756</td>\n      <td>945.20</td>\n      <td>0.0</td>\n      <td>0.432038</td>\n    </tr>\n  </tbody>\n</table>\n</div>"
     },
     "metadata": {},
     "execution_count": 43
    }
   ],
   "source": [
    "simp_tab_df.head(14)"
   ]
  },
  {
   "source": [
    "### Finding mean values of each period and building logistic regression model"
   ],
   "cell_type": "markdown",
   "metadata": {}
  },
  {
   "cell_type": "code",
   "execution_count": 44,
   "metadata": {},
   "outputs": [],
   "source": [
    "  #tab_df_means = simp_tab_df.groupby([simp_tab_df['id']]).mean()\n",
    "  #tab_df_means.reset_index(level=0, inplace=True)\n",
    "# fill NA again to make the concept work\n",
    "# (or not)\n",
    "# tabular_df_means = tabular_df_means.fillna(axis='columns', method='bfill')\n",
    "  #tab_df_means"
   ]
  },
  {
   "cell_type": "code",
   "execution_count": 45,
   "metadata": {},
   "outputs": [
    {
     "output_type": "execute_result",
     "data": {
      "text/plain": [
       "1.0"
      ]
     },
     "metadata": {},
     "execution_count": 45
    }
   ],
   "source": [
    "df_train = pd.merge(tab_df_means, train_df, on='id')\n",
    "y = df_train['target']\n",
    "X = df_train.drop(['id'], axis=1).fillna(method='bfill')\n",
    "\n",
    "model = LogisticRegression(random_state=0, solver='newton-cg', multi_class='multinomial').fit(X, y)\n",
    "model.score(X, y)"
   ]
  },
  {
   "cell_type": "code",
   "execution_count": 46,
   "metadata": {},
   "outputs": [
    {
     "output_type": "error",
     "ename": "ValueError",
     "evalue": "X has 6 features per sample; expecting 7",
     "traceback": [
      "\u001b[1;31m---------------------------------------------------------------------------\u001b[0m",
      "\u001b[1;31mValueError\u001b[0m                                Traceback (most recent call last)",
      "\u001b[1;32m<ipython-input-46-99588c778a81>\u001b[0m in \u001b[0;36m<module>\u001b[1;34m\u001b[0m\n\u001b[0;32m      3\u001b[0m \u001b[0mX_pred\u001b[0m \u001b[1;33m=\u001b[0m \u001b[0mpred_df\u001b[0m\u001b[1;33m.\u001b[0m\u001b[0mdrop\u001b[0m\u001b[1;33m(\u001b[0m\u001b[1;33m[\u001b[0m\u001b[1;34m'id'\u001b[0m\u001b[1;33m,\u001b[0m \u001b[1;34m'score'\u001b[0m\u001b[1;33m]\u001b[0m\u001b[1;33m,\u001b[0m \u001b[0maxis\u001b[0m\u001b[1;33m=\u001b[0m\u001b[1;36m1\u001b[0m\u001b[1;33m)\u001b[0m\u001b[1;33m.\u001b[0m\u001b[0mfillna\u001b[0m\u001b[1;33m(\u001b[0m\u001b[0mmethod\u001b[0m\u001b[1;33m=\u001b[0m\u001b[1;34m'bfill'\u001b[0m\u001b[1;33m)\u001b[0m\u001b[1;33m\u001b[0m\u001b[1;33m\u001b[0m\u001b[0m\n\u001b[0;32m      4\u001b[0m \u001b[1;33m\u001b[0m\u001b[0m\n\u001b[1;32m----> 5\u001b[1;33m \u001b[0mres\u001b[0m \u001b[1;33m=\u001b[0m \u001b[0mmodel\u001b[0m\u001b[1;33m.\u001b[0m\u001b[0mpredict_proba\u001b[0m\u001b[1;33m(\u001b[0m\u001b[0mX_pred\u001b[0m\u001b[1;33m)\u001b[0m\u001b[1;33m[\u001b[0m\u001b[1;33m:\u001b[0m\u001b[1;33m,\u001b[0m\u001b[1;36m1\u001b[0m\u001b[1;33m]\u001b[0m\u001b[1;33m\u001b[0m\u001b[1;33m\u001b[0m\u001b[0m\n\u001b[0m\u001b[0;32m      6\u001b[0m \u001b[0mres\u001b[0m\u001b[1;33m.\u001b[0m\u001b[0mround\u001b[0m\u001b[1;33m(\u001b[0m\u001b[1;36m6\u001b[0m\u001b[1;33m)\u001b[0m\u001b[1;33m\u001b[0m\u001b[1;33m\u001b[0m\u001b[0m\n\u001b[0;32m      7\u001b[0m \u001b[0mtest_df\u001b[0m\u001b[1;33m.\u001b[0m\u001b[0mSCORE\u001b[0m \u001b[1;33m=\u001b[0m \u001b[0mres\u001b[0m\u001b[1;33m.\u001b[0m\u001b[0mround\u001b[0m\u001b[1;33m(\u001b[0m\u001b[1;36m6\u001b[0m\u001b[1;33m)\u001b[0m\u001b[1;33m\u001b[0m\u001b[1;33m\u001b[0m\u001b[0m\n",
      "\u001b[1;32m~\\AppData\\Local\\Programs\\Python\\Python37\\lib\\site-packages\\sklearn\\linear_model\\_logistic.py\u001b[0m in \u001b[0;36mpredict_proba\u001b[1;34m(self, X)\u001b[0m\n\u001b[0;32m   1468\u001b[0m             \u001b[1;32mreturn\u001b[0m \u001b[0msuper\u001b[0m\u001b[1;33m(\u001b[0m\u001b[1;33m)\u001b[0m\u001b[1;33m.\u001b[0m\u001b[0m_predict_proba_lr\u001b[0m\u001b[1;33m(\u001b[0m\u001b[0mX\u001b[0m\u001b[1;33m)\u001b[0m\u001b[1;33m\u001b[0m\u001b[1;33m\u001b[0m\u001b[0m\n\u001b[0;32m   1469\u001b[0m         \u001b[1;32melse\u001b[0m\u001b[1;33m:\u001b[0m\u001b[1;33m\u001b[0m\u001b[1;33m\u001b[0m\u001b[0m\n\u001b[1;32m-> 1470\u001b[1;33m             \u001b[0mdecision\u001b[0m \u001b[1;33m=\u001b[0m \u001b[0mself\u001b[0m\u001b[1;33m.\u001b[0m\u001b[0mdecision_function\u001b[0m\u001b[1;33m(\u001b[0m\u001b[0mX\u001b[0m\u001b[1;33m)\u001b[0m\u001b[1;33m\u001b[0m\u001b[1;33m\u001b[0m\u001b[0m\n\u001b[0m\u001b[0;32m   1471\u001b[0m             \u001b[1;32mif\u001b[0m \u001b[0mdecision\u001b[0m\u001b[1;33m.\u001b[0m\u001b[0mndim\u001b[0m \u001b[1;33m==\u001b[0m \u001b[1;36m1\u001b[0m\u001b[1;33m:\u001b[0m\u001b[1;33m\u001b[0m\u001b[1;33m\u001b[0m\u001b[0m\n\u001b[0;32m   1472\u001b[0m                 \u001b[1;31m# Workaround for multi_class=\"multinomial\" and binary outcomes\u001b[0m\u001b[1;33m\u001b[0m\u001b[1;33m\u001b[0m\u001b[1;33m\u001b[0m\u001b[0m\n",
      "\u001b[1;32m~\\AppData\\Local\\Programs\\Python\\Python37\\lib\\site-packages\\sklearn\\linear_model\\_base.py\u001b[0m in \u001b[0;36mdecision_function\u001b[1;34m(self, X)\u001b[0m\n\u001b[0;32m    285\u001b[0m         \u001b[1;32mif\u001b[0m \u001b[0mX\u001b[0m\u001b[1;33m.\u001b[0m\u001b[0mshape\u001b[0m\u001b[1;33m[\u001b[0m\u001b[1;36m1\u001b[0m\u001b[1;33m]\u001b[0m \u001b[1;33m!=\u001b[0m \u001b[0mn_features\u001b[0m\u001b[1;33m:\u001b[0m\u001b[1;33m\u001b[0m\u001b[1;33m\u001b[0m\u001b[0m\n\u001b[0;32m    286\u001b[0m             raise ValueError(\"X has %d features per sample; expecting %d\"\n\u001b[1;32m--> 287\u001b[1;33m                              % (X.shape[1], n_features))\n\u001b[0m\u001b[0;32m    288\u001b[0m \u001b[1;33m\u001b[0m\u001b[0m\n\u001b[0;32m    289\u001b[0m         scores = safe_sparse_dot(X, self.coef_.T,\n",
      "\u001b[1;31mValueError\u001b[0m: X has 6 features per sample; expecting 7"
     ]
    }
   ],
   "source": [
    "pred_df = pd.merge(tab_df_means, test_df, on='id')\n",
    "\n",
    "X_pred = pred_df.drop(['id', 'score'], axis=1).fillna(method='bfill')\n",
    "\n",
    "res = model.predict_proba(X_pred)[:,1]\n",
    "res.round(6)\n",
    "test_df.SCORE = res.round(6)"
   ]
  },
  {
   "cell_type": "code",
   "execution_count": 13,
   "metadata": {},
   "outputs": [
    {
     "output_type": "error",
     "ename": "NameError",
     "evalue": "name 'res' is not defined",
     "traceback": [
      "\u001b[1;31m---------------------------------------------------------------------------\u001b[0m",
      "\u001b[1;31mNameError\u001b[0m                                 Traceback (most recent call last)",
      "\u001b[1;32m<ipython-input-13-24d403a19c43>\u001b[0m in \u001b[0;36m<module>\u001b[1;34m\u001b[0m\n\u001b[0;32m      1\u001b[0m \u001b[1;31m# export results to file\u001b[0m\u001b[1;33m\u001b[0m\u001b[1;33m\u001b[0m\u001b[1;33m\u001b[0m\u001b[0m\n\u001b[1;32m----> 2\u001b[1;33m \u001b[0mtest_df\u001b[0m\u001b[1;33m.\u001b[0m\u001b[0mSCORE\u001b[0m \u001b[1;33m=\u001b[0m \u001b[0mres\u001b[0m\u001b[1;33m.\u001b[0m\u001b[0mround\u001b[0m\u001b[1;33m(\u001b[0m\u001b[1;36m6\u001b[0m\u001b[1;33m)\u001b[0m\u001b[1;33m\u001b[0m\u001b[1;33m\u001b[0m\u001b[0m\n\u001b[0m\u001b[0;32m      3\u001b[0m \u001b[0mtest_df\u001b[0m\u001b[1;33m.\u001b[0m\u001b[0mto_csv\u001b[0m\u001b[1;33m(\u001b[0m\u001b[1;34m'HaidaTarasMonkaS_test.txt'\u001b[0m\u001b[1;33m,\u001b[0m \u001b[0msep\u001b[0m\u001b[1;33m=\u001b[0m\u001b[1;34m','\u001b[0m\u001b[1;33m,\u001b[0m \u001b[0mindex\u001b[0m\u001b[1;33m=\u001b[0m\u001b[1;32mFalse\u001b[0m\u001b[1;33m)\u001b[0m\u001b[1;33m\u001b[0m\u001b[1;33m\u001b[0m\u001b[0m\n",
      "\u001b[1;31mNameError\u001b[0m: name 'res' is not defined"
     ]
    }
   ],
   "source": [
    "# export results to file\n",
    "test_df.SCORE = res.round(6)\n",
    "test_df.to_csv('HaidaTarasMonkaS_test.txt', sep=',', index=False)"
   ]
  },
  {
   "cell_type": "code",
   "execution_count": 10,
   "metadata": {},
   "outputs": [
    {
     "output_type": "execute_result",
     "data": {
      "text/plain": [
       "                                            feature_1  \\\n",
       "id                                                      \n",
       "0   [55.0, 110.0, 55.0, 55.0, 55.0, 55.0, 55.0, 55...   \n",
       "1   [125.0, 125.0, 125.0, 125.0, 125.0, 126.5, 125...   \n",
       "2   [1.17, 0.0, 0.0, 0.0, 0.0, 0.0, 0.0, 0.0, 6.0,...   \n",
       "3   [33.5, 75.94, 78.06, 0.9793373684066452, 0.140...   \n",
       "4   [103.0, 302.0, 110.0, 101.0, 126.0, 114.0, 115...   \n",
       "5   [148.7, 145.0, 80.0, 195.0, 241.09, 115.0, 115...   \n",
       "6   [55.0, 115.0, 55.0, 57.0, 68.75, 55.0, 55.1, 5...   \n",
       "7   [95.0, 105.0, 95.0, 105.0, 98.0, 95.0, 95.0, 1...   \n",
       "8   [0.0, 0.0, 0.0, 0.0, 0.0, 15.0, 0.0, 0.0, 0.0,...   \n",
       "9   [65.0, 65.0, 67.0, 65.0, 68.0, 65.0, 142.0, 11...   \n",
       "10  [67.0, 72.0, 98.0, 82.72, 93.5, 36.0, 104.5, 9...   \n",
       "11  [191.0, 105.0, 75.0, 0.4410592777129537, 0.470...   \n",
       "12  [191.25, 225.0, 225.0, 225.0, 225.0, 225.0, 22...   \n",
       "13  [0.14422906160481205, 0.19936979650404968, 0.2...   \n",
       "\n",
       "                                            feature_2  \\\n",
       "id                                                      \n",
       "0   [0.43201678311238656, 0.3975167420697788, 0.35...   \n",
       "1   [0.08317387509710256, 0.09683084061622006, 0.2...   \n",
       "2   [0.0, 1.696433, 0.0, 0.0, 0.0, 0.0, 5.20307313...   \n",
       "3   [0.008239045952032066, 3747.802363, 532.755571...   \n",
       "4   [0.16201509120499494, 0.1524421336062347, 0.17...   \n",
       "5   [0.07256634027314493, 0.05486361204751952, 0.0...   \n",
       "6   [0.29087475383551714, 0.2622024463773186, 0.29...   \n",
       "7   [0.07887376832285656, 0.06567868184982993, 0.0...   \n",
       "8   [0.17218552094141568, 0.3146700443664416, 0.21...   \n",
       "9   [0.6934920370392769, 0.7271008480560646, 0.626...   \n",
       "10  [0.30216353912778393, 0.2316599460403879, 0.46...   \n",
       "11  [0.3834684720243236, 8849.25046, 0.00631000000...   \n",
       "12  [0.04784472755525433, 0.032525661884278516, 0....   \n",
       "13  [0.14422906160481205, 0.19936979650404968, 0.2...   \n",
       "\n",
       "                                            feature_3  \\\n",
       "id                                                      \n",
       "0   [0.0, 0.0, 0.0, 0.0, 444.730391, 92.28439, 543...   \n",
       "1   [5893.939371, 5805.264756000001, 6696.44898400...   \n",
       "2   [0.0, 1.696433, 0.0, 0.0, 0.0, 0.0, 0.0, 0.0, ...   \n",
       "3   [266.829103, 3747.802363, 532.755571, 0.979337...   \n",
       "4   [4449.3348719999985, 5011.208142, 5491.642975,...   \n",
       "5   [1082.113139, 3906.750156, 863.524972, 1743.89...   \n",
       "6   [0.0, 0.003, 0.0, 0.0, 0.0, 0.0, 0.0, 0.0, 0.0...   \n",
       "7   [470.77933600000006, 491.352648, 378.25521, 39...   \n",
       "8   [0.0, 0.0, 0.0, 0.0, 0.0, 0.004695, 0.0, 0.0, ...   \n",
       "9   [0.0, 0.0, 0.0, 0.0, 0.0, 0.0, 0.0, 0.0, 0.0, ...   \n",
       "10  [0.0, 0.0, 0.0, 0.0, 0.0, 0.0, 0.0, 0.0, 0.0, ...   \n",
       "11  [2428.71204, 8849.25046, 0.0063100000000000005...   \n",
       "12  [127.842123, 70.279967, 69.884941, 56.734023, ...   \n",
       "13  [0.0, 0.0, 0.0, 0.0, 0.0, 0.0, 0.0, 0.0, 0.0, ...   \n",
       "\n",
       "                                            feature_4  \\\n",
       "id                                                      \n",
       "0   [176.78, 315.42, 354.55, 229.98, 307.12, 277.0...   \n",
       "1   [812.2, 945.2, 837.6, 631.7, 1247.88, 982.82, ...   \n",
       "2   [4.05, 31.55, 0.0, 0.55, 0.0, 4.2, 0.18, 2.12,...   \n",
       "3   [127.92, 92.25, 6.67, 0.9793373684066452, 0.14...   \n",
       "4   [535.37, 678.08, 824.85, 907.35, 359.7, 387.07...   \n",
       "5   [490.33, 520.33, 395.7, 314.72, 479.42, 655.32...   \n",
       "6   [1742.93, 2118.63, 2751.43, 2429.13, 1933.43, ...   \n",
       "7   [1046.67, 1319.32, 1090.17, 1499.0, 1721.03, 9...   \n",
       "8   [0.67, 0.0, 0.12, 0.0, 0.55, 0.0, 0.0, 0.0, 0....   \n",
       "9   [452.5, 394.9, 462.58, 456.55, 374.68, 766.18,...   \n",
       "10  [322.82, 191.33, 190.73, 24.65, 240.88, 329.5,...   \n",
       "11  [332.32, 287.08, 341.43, 0.4410592777129537, 0...   \n",
       "12  [241.23, 276.58, 286.97, 297.15, 280.42, 316.6...   \n",
       "13  [1018.72, 117.7, 271.03, 214.68, 148.37, 221.9...   \n",
       "\n",
       "                                            feature_5  \\\n",
       "id                                                      \n",
       "0   [0.0, 0.0, 0.0, 0.0, 0.0, 0.0, 0.0, 0.0, 0.0, ...   \n",
       "1   [0.0, 0.0, 0.0, 0.0, 0.0, 0.0, 0.0, 0.0, 0.0, ...   \n",
       "2   [0.0, 0.0, 0.0, 0.0, 0.0, 0.0, 0.0, 0.0, 0.0, ...   \n",
       "3   [0.0, 0.0, 0.0, 0.9793373684066452, 0.14067076...   \n",
       "4   [0.0, 0.0, 0.0, 0.0, 0.0, 0.0, 0.0, 0.0, 0.0, ...   \n",
       "5   [897.676285, 3846.831071, 742.0264, 1716.33278...   \n",
       "6   [0.0, 0.0, 0.0, 0.0, 0.0, 0.0, 0.0, 0.0, 0.0, ...   \n",
       "7   [0.0, 0.0, 0.0, 0.0, 0.0, 0.0, 0.0, 0.0, 0.0, ...   \n",
       "8   [0.0, 0.0, 0.0, 0.0, 0.0, 0.0, 0.0, 0.0, 0.0, ...   \n",
       "9   [0.0, 0.0, 0.0, 0.0, 0.0, 0.0, 0.0, 0.0, 0.0, ...   \n",
       "10  [0.0, 0.0, 0.0, 0.0, 0.0, 0.0, 0.0, 0.0, 0.0, ...   \n",
       "11  [1848.40849, 8063.744027, 0.00518, 0.441059277...   \n",
       "12  [111.678962, 55.012164, 62.742178, 50.432087, ...   \n",
       "13  [0.0, 0.0, 0.0, 0.0, 0.0, 0.0, 0.0, 0.0, 0.0, ...   \n",
       "\n",
       "                                            feature_6  \n",
       "id                                                     \n",
       "0   [0.32371173357283084, 0.31679752542377004, 0.3...  \n",
       "1   [0.4172087589197, 0.432037723015949, 0.341146,...  \n",
       "2   [0.6033056648252785, 0.5618955067445782, 0.293...  \n",
       "3   [0.6954995508708908, 195.98, 62.5, 0.979337368...  \n",
       "4   [0.6804685064379044, 0.7297247836144429, 0.672...  \n",
       "5   [0.02694978222198676, 0.07984002752991991, 0.0...  \n",
       "6   [1354.75, 1603.1, 1396.35, 1891.17, 1662.32, 1...  \n",
       "7   [0.13355962600078325, 0.1332855839199555, 0.12...  \n",
       "8   [0.5381944306054888, 0.4916052115480589, 0.559...  \n",
       "9   [0.009725544230566196, 0.006639617053639746, 0...  \n",
       "10  [0.19638361646034266, 0.2667351190685351, 0.25...  \n",
       "11  [0.1948676333231433, 542.32, 259.25, 0.4410592...  \n",
       "12  [0.593115576628981, 0.8013925931284575, 0.7038...  \n",
       "13  [0.5374437633164812, 0.5326158074894894, 0.508...  "
      ],
      "text/html": "<div>\n<style scoped>\n    .dataframe tbody tr th:only-of-type {\n        vertical-align: middle;\n    }\n\n    .dataframe tbody tr th {\n        vertical-align: top;\n    }\n\n    .dataframe thead th {\n        text-align: right;\n    }\n</style>\n<table border=\"1\" class=\"dataframe\">\n  <thead>\n    <tr style=\"text-align: right;\">\n      <th></th>\n      <th>feature_1</th>\n      <th>feature_2</th>\n      <th>feature_3</th>\n      <th>feature_4</th>\n      <th>feature_5</th>\n      <th>feature_6</th>\n    </tr>\n    <tr>\n      <th>id</th>\n      <th></th>\n      <th></th>\n      <th></th>\n      <th></th>\n      <th></th>\n      <th></th>\n    </tr>\n  </thead>\n  <tbody>\n    <tr>\n      <th>0</th>\n      <td>[55.0, 110.0, 55.0, 55.0, 55.0, 55.0, 55.0, 55...</td>\n      <td>[0.43201678311238656, 0.3975167420697788, 0.35...</td>\n      <td>[0.0, 0.0, 0.0, 0.0, 444.730391, 92.28439, 543...</td>\n      <td>[176.78, 315.42, 354.55, 229.98, 307.12, 277.0...</td>\n      <td>[0.0, 0.0, 0.0, 0.0, 0.0, 0.0, 0.0, 0.0, 0.0, ...</td>\n      <td>[0.32371173357283084, 0.31679752542377004, 0.3...</td>\n    </tr>\n    <tr>\n      <th>1</th>\n      <td>[125.0, 125.0, 125.0, 125.0, 125.0, 126.5, 125...</td>\n      <td>[0.08317387509710256, 0.09683084061622006, 0.2...</td>\n      <td>[5893.939371, 5805.264756000001, 6696.44898400...</td>\n      <td>[812.2, 945.2, 837.6, 631.7, 1247.88, 982.82, ...</td>\n      <td>[0.0, 0.0, 0.0, 0.0, 0.0, 0.0, 0.0, 0.0, 0.0, ...</td>\n      <td>[0.4172087589197, 0.432037723015949, 0.341146,...</td>\n    </tr>\n    <tr>\n      <th>2</th>\n      <td>[1.17, 0.0, 0.0, 0.0, 0.0, 0.0, 0.0, 0.0, 6.0,...</td>\n      <td>[0.0, 1.696433, 0.0, 0.0, 0.0, 0.0, 5.20307313...</td>\n      <td>[0.0, 1.696433, 0.0, 0.0, 0.0, 0.0, 0.0, 0.0, ...</td>\n      <td>[4.05, 31.55, 0.0, 0.55, 0.0, 4.2, 0.18, 2.12,...</td>\n      <td>[0.0, 0.0, 0.0, 0.0, 0.0, 0.0, 0.0, 0.0, 0.0, ...</td>\n      <td>[0.6033056648252785, 0.5618955067445782, 0.293...</td>\n    </tr>\n    <tr>\n      <th>3</th>\n      <td>[33.5, 75.94, 78.06, 0.9793373684066452, 0.140...</td>\n      <td>[0.008239045952032066, 3747.802363, 532.755571...</td>\n      <td>[266.829103, 3747.802363, 532.755571, 0.979337...</td>\n      <td>[127.92, 92.25, 6.67, 0.9793373684066452, 0.14...</td>\n      <td>[0.0, 0.0, 0.0, 0.9793373684066452, 0.14067076...</td>\n      <td>[0.6954995508708908, 195.98, 62.5, 0.979337368...</td>\n    </tr>\n    <tr>\n      <th>4</th>\n      <td>[103.0, 302.0, 110.0, 101.0, 126.0, 114.0, 115...</td>\n      <td>[0.16201509120499494, 0.1524421336062347, 0.17...</td>\n      <td>[4449.3348719999985, 5011.208142, 5491.642975,...</td>\n      <td>[535.37, 678.08, 824.85, 907.35, 359.7, 387.07...</td>\n      <td>[0.0, 0.0, 0.0, 0.0, 0.0, 0.0, 0.0, 0.0, 0.0, ...</td>\n      <td>[0.6804685064379044, 0.7297247836144429, 0.672...</td>\n    </tr>\n    <tr>\n      <th>5</th>\n      <td>[148.7, 145.0, 80.0, 195.0, 241.09, 115.0, 115...</td>\n      <td>[0.07256634027314493, 0.05486361204751952, 0.0...</td>\n      <td>[1082.113139, 3906.750156, 863.524972, 1743.89...</td>\n      <td>[490.33, 520.33, 395.7, 314.72, 479.42, 655.32...</td>\n      <td>[897.676285, 3846.831071, 742.0264, 1716.33278...</td>\n      <td>[0.02694978222198676, 0.07984002752991991, 0.0...</td>\n    </tr>\n    <tr>\n      <th>6</th>\n      <td>[55.0, 115.0, 55.0, 57.0, 68.75, 55.0, 55.1, 5...</td>\n      <td>[0.29087475383551714, 0.2622024463773186, 0.29...</td>\n      <td>[0.0, 0.003, 0.0, 0.0, 0.0, 0.0, 0.0, 0.0, 0.0...</td>\n      <td>[1742.93, 2118.63, 2751.43, 2429.13, 1933.43, ...</td>\n      <td>[0.0, 0.0, 0.0, 0.0, 0.0, 0.0, 0.0, 0.0, 0.0, ...</td>\n      <td>[1354.75, 1603.1, 1396.35, 1891.17, 1662.32, 1...</td>\n    </tr>\n    <tr>\n      <th>7</th>\n      <td>[95.0, 105.0, 95.0, 105.0, 98.0, 95.0, 95.0, 1...</td>\n      <td>[0.07887376832285656, 0.06567868184982993, 0.0...</td>\n      <td>[470.77933600000006, 491.352648, 378.25521, 39...</td>\n      <td>[1046.67, 1319.32, 1090.17, 1499.0, 1721.03, 9...</td>\n      <td>[0.0, 0.0, 0.0, 0.0, 0.0, 0.0, 0.0, 0.0, 0.0, ...</td>\n      <td>[0.13355962600078325, 0.1332855839199555, 0.12...</td>\n    </tr>\n    <tr>\n      <th>8</th>\n      <td>[0.0, 0.0, 0.0, 0.0, 0.0, 15.0, 0.0, 0.0, 0.0,...</td>\n      <td>[0.17218552094141568, 0.3146700443664416, 0.21...</td>\n      <td>[0.0, 0.0, 0.0, 0.0, 0.0, 0.004695, 0.0, 0.0, ...</td>\n      <td>[0.67, 0.0, 0.12, 0.0, 0.55, 0.0, 0.0, 0.0, 0....</td>\n      <td>[0.0, 0.0, 0.0, 0.0, 0.0, 0.0, 0.0, 0.0, 0.0, ...</td>\n      <td>[0.5381944306054888, 0.4916052115480589, 0.559...</td>\n    </tr>\n    <tr>\n      <th>9</th>\n      <td>[65.0, 65.0, 67.0, 65.0, 68.0, 65.0, 142.0, 11...</td>\n      <td>[0.6934920370392769, 0.7271008480560646, 0.626...</td>\n      <td>[0.0, 0.0, 0.0, 0.0, 0.0, 0.0, 0.0, 0.0, 0.0, ...</td>\n      <td>[452.5, 394.9, 462.58, 456.55, 374.68, 766.18,...</td>\n      <td>[0.0, 0.0, 0.0, 0.0, 0.0, 0.0, 0.0, 0.0, 0.0, ...</td>\n      <td>[0.009725544230566196, 0.006639617053639746, 0...</td>\n    </tr>\n    <tr>\n      <th>10</th>\n      <td>[67.0, 72.0, 98.0, 82.72, 93.5, 36.0, 104.5, 9...</td>\n      <td>[0.30216353912778393, 0.2316599460403879, 0.46...</td>\n      <td>[0.0, 0.0, 0.0, 0.0, 0.0, 0.0, 0.0, 0.0, 0.0, ...</td>\n      <td>[322.82, 191.33, 190.73, 24.65, 240.88, 329.5,...</td>\n      <td>[0.0, 0.0, 0.0, 0.0, 0.0, 0.0, 0.0, 0.0, 0.0, ...</td>\n      <td>[0.19638361646034266, 0.2667351190685351, 0.25...</td>\n    </tr>\n    <tr>\n      <th>11</th>\n      <td>[191.0, 105.0, 75.0, 0.4410592777129537, 0.470...</td>\n      <td>[0.3834684720243236, 8849.25046, 0.00631000000...</td>\n      <td>[2428.71204, 8849.25046, 0.0063100000000000005...</td>\n      <td>[332.32, 287.08, 341.43, 0.4410592777129537, 0...</td>\n      <td>[1848.40849, 8063.744027, 0.00518, 0.441059277...</td>\n      <td>[0.1948676333231433, 542.32, 259.25, 0.4410592...</td>\n    </tr>\n    <tr>\n      <th>12</th>\n      <td>[191.25, 225.0, 225.0, 225.0, 225.0, 225.0, 22...</td>\n      <td>[0.04784472755525433, 0.032525661884278516, 0....</td>\n      <td>[127.842123, 70.279967, 69.884941, 56.734023, ...</td>\n      <td>[241.23, 276.58, 286.97, 297.15, 280.42, 316.6...</td>\n      <td>[111.678962, 55.012164, 62.742178, 50.432087, ...</td>\n      <td>[0.593115576628981, 0.8013925931284575, 0.7038...</td>\n    </tr>\n    <tr>\n      <th>13</th>\n      <td>[0.14422906160481205, 0.19936979650404968, 0.2...</td>\n      <td>[0.14422906160481205, 0.19936979650404968, 0.2...</td>\n      <td>[0.0, 0.0, 0.0, 0.0, 0.0, 0.0, 0.0, 0.0, 0.0, ...</td>\n      <td>[1018.72, 117.7, 271.03, 214.68, 148.37, 221.9...</td>\n      <td>[0.0, 0.0, 0.0, 0.0, 0.0, 0.0, 0.0, 0.0, 0.0, ...</td>\n      <td>[0.5374437633164812, 0.5326158074894894, 0.508...</td>\n    </tr>\n  </tbody>\n</table>\n</div>"
     },
     "metadata": {},
     "execution_count": 10
    }
   ],
   "source": [
    "simp_tab_df_groupped = simp_tab_df.groupby('id').agg(lambda x: list(x))\n",
    "simp_tab_df_groupped.head(14)"
   ]
  },
  {
   "source": [
    "### Create hash dictionary to encode them in the tabular data"
   ],
   "cell_type": "markdown",
   "metadata": {}
  },
  {
   "cell_type": "code",
   "execution_count": 13,
   "metadata": {
    "tags": []
   },
   "outputs": [],
   "source": [
    "\n",
    "# group/filter so unique hash names and create a 'dictionary' dataframe\n",
    "unique_hashes_df = pd.DataFrame(hashed_df.feature_50.unique(), columns = ['feature_50'])\n",
    "\n",
    "hashes_dict_df = unique_hashes_df\n",
    "# create a new 'id' column, set 'feature_50' as a key and 'hash_id' as a value to for easier future replacement/matching\n",
    "# drop index name and create a new 'id' column based on indexes\n",
    "\n",
    "hashes_dict_df.reset_index(level=0, inplace=True)\n",
    "\n",
    "hashes_dict_df = hashes_dict_df.set_index('feature_50')\n",
    "\n",
    "hashes_dict_df.index.name = None\n",
    "hashes_dict_df = hashes_dict_df.rename(columns = {'index': 'id'})\n"
   ]
  },
  {
   "cell_type": "code",
   "execution_count": 14,
   "metadata": {},
   "outputs": [
    {
     "output_type": "execute_result",
     "data": {
      "text/plain": [
       "                                            id\n",
       "7984b0a0e139cabadb5afc7756d473fb34d23819     0\n",
       "47904b3331202e9881d003ff449c2eabfbc75460     1\n",
       "a99c4b3af723874ddd85af322beea81b64437294     2\n",
       "4dce5381031a88aed6b12ef71b6f7c3148e7b3c8     3\n",
       "d62db721202cb6636887f450a7b77fa97db03b05     4\n",
       "...                                        ...\n",
       "0f8e376b95d93771847cfe28c7e48570badd5add  5005\n",
       "019f95d15a2f5531379bfd1f9afe03bf9b2d3919  5006\n",
       "b17c5071c5bbc74f23cb0091749bb9291cabc2d7  5007\n",
       "ddea38187c8ccfd9844efb2a35e53e0fdbbbe9f2  5008\n",
       "f1994dcc370485a3255ec1c2897d99b5936e77e8  5009\n",
       "\n",
       "[5010 rows x 1 columns]"
      ],
      "text/html": "<div>\n<style scoped>\n    .dataframe tbody tr th:only-of-type {\n        vertical-align: middle;\n    }\n\n    .dataframe tbody tr th {\n        vertical-align: top;\n    }\n\n    .dataframe thead th {\n        text-align: right;\n    }\n</style>\n<table border=\"1\" class=\"dataframe\">\n  <thead>\n    <tr style=\"text-align: right;\">\n      <th></th>\n      <th>id</th>\n    </tr>\n  </thead>\n  <tbody>\n    <tr>\n      <th>7984b0a0e139cabadb5afc7756d473fb34d23819</th>\n      <td>0</td>\n    </tr>\n    <tr>\n      <th>47904b3331202e9881d003ff449c2eabfbc75460</th>\n      <td>1</td>\n    </tr>\n    <tr>\n      <th>a99c4b3af723874ddd85af322beea81b64437294</th>\n      <td>2</td>\n    </tr>\n    <tr>\n      <th>4dce5381031a88aed6b12ef71b6f7c3148e7b3c8</th>\n      <td>3</td>\n    </tr>\n    <tr>\n      <th>d62db721202cb6636887f450a7b77fa97db03b05</th>\n      <td>4</td>\n    </tr>\n    <tr>\n      <th>...</th>\n      <td>...</td>\n    </tr>\n    <tr>\n      <th>0f8e376b95d93771847cfe28c7e48570badd5add</th>\n      <td>5005</td>\n    </tr>\n    <tr>\n      <th>019f95d15a2f5531379bfd1f9afe03bf9b2d3919</th>\n      <td>5006</td>\n    </tr>\n    <tr>\n      <th>b17c5071c5bbc74f23cb0091749bb9291cabc2d7</th>\n      <td>5007</td>\n    </tr>\n    <tr>\n      <th>ddea38187c8ccfd9844efb2a35e53e0fdbbbe9f2</th>\n      <td>5008</td>\n    </tr>\n    <tr>\n      <th>f1994dcc370485a3255ec1c2897d99b5936e77e8</th>\n      <td>5009</td>\n    </tr>\n  </tbody>\n</table>\n<p>5010 rows × 1 columns</p>\n</div>"
     },
     "metadata": {},
     "execution_count": 14
    }
   ],
   "source": [
    "hashes_dict_df"
   ]
  },
  {
   "source": [
    "### Convert dictionary dataframe into actual python dictionary while also transposing it \n",
    "### It is needed for mapping them to replace hash codes with integer values - that can be used for model algorithm to evaluate them, it shouldn't be  possible with just hashes as strings (from what I understand)"
   ],
   "cell_type": "markdown",
   "metadata": {}
  },
  {
   "cell_type": "code",
   "execution_count": 20,
   "metadata": {
    "tags": []
   },
   "outputs": [],
   "source": [
    "hash_codes = hashes_dict_df.T.to_dict('list')"
   ]
  },
  {
   "source": [
    "### Encode (map) main hash table with integer id's from above dictionary"
   ],
   "cell_type": "markdown",
   "metadata": {}
  },
  {
   "cell_type": "code",
   "execution_count": 22,
   "metadata": {},
   "outputs": [
    {
     "output_type": "stream",
     "name": "stdout",
     "text": [
      "   id  feature_50\n0   0           0\n1   0           1\n2   0           2\n"
     ]
    }
   ],
   "source": [
    "hashed_df['feature_50'] = hashed_df['feature_50'].map(hash_codes)\n",
    "\n",
    "# fucntion that is applied to convert 'feature_50' lists column into integers\n",
    "def convert_to_int(x):\n",
    "    return x[0]\n",
    "\n",
    "hashed_df['feature_50'] = hashed_df['feature_50'].apply(convert_to_int)\n",
    "print(hashed_df.head(3))"
   ]
  },
  {
   "cell_type": "code",
   "execution_count": 27,
   "metadata": {},
   "outputs": [],
   "source": [
    "hashed_df_grouped = hashed_df.groupby('id')['feature_50'].apply(list)"
   ]
  },
  {
   "cell_type": "code",
   "execution_count": 89,
   "metadata": {},
   "outputs": [],
   "source": [
    "#type(hashed_df_grouped.iloc[0])\n",
    "\n",
    "joined_df = pd.merge(tabular_df_means, hashed_df_grouped, on='id')"
   ]
  },
  {
   "cell_type": "code",
   "execution_count": 90,
   "metadata": {},
   "outputs": [],
   "source": [
    "# create a new column where we put number (count) of hashes\n",
    "joined_df['hashes_count'] = [len(x) for x in joined_df['feature_50']]\n",
    "\n",
    "# create a new column where we put number (count) of unique hashes\n",
    "joined_df['hashes_unique_count'] = [len(set(x)) for x in joined_df['feature_50']]"
   ]
  },
  {
   "cell_type": "code",
   "execution_count": 91,
   "metadata": {},
   "outputs": [
    {
     "output_type": "execute_result",
     "data": {
      "text/plain": [
       "0"
      ]
     },
     "metadata": {},
     "execution_count": 91
    }
   ],
   "source": [
    "# check if there are differences between hashes count and unique hashes count\n",
    "def checkDiff(x, y):\n",
    "    if x == y:\n",
    "        return 0\n",
    "    else:\n",
    "        return 1\n",
    "\n",
    "joined_df['hash_diff'] = np.vectorize(checkDiff)(joined_df['hashes_count'], joined_df['hashes_unique_count'])\n",
    "joined_df['hash_diff'].sum()"
   ]
  },
  {
   "source": [
    "### As we can see, all hashes for each 'id' in hashed_df table are unique - there are no difference between those 2 columns. So we are not able to extract additional features and we will use only hashes count column. If only we knew what data/information those hashes contain, we can create way more sophisticated algo to extract/vectorize them. For example, if those hashes are voice recognized words (or just words from SMS) we can rank them to set priorities/ranks. That way we can create additional column like 'hashes_rank' etc."
   ],
   "cell_type": "markdown",
   "metadata": {}
  },
  {
   "cell_type": "code",
   "execution_count": 24,
   "metadata": {},
   "outputs": [],
   "source": [
    "hashed_df_ = hashes_dict_df.T.to_dict('list')"
   ]
  },
  {
   "cell_type": "code",
   "execution_count": 26,
   "metadata": {},
   "outputs": [
    {
     "output_type": "execute_result",
     "data": {
      "text/plain": [
       "          id  feature_50\n",
       "0          0           0\n",
       "1          0           1\n",
       "2          0           2\n",
       "3          0           3\n",
       "4          0           4\n",
       "...      ...         ...\n",
       "266048  5104        1042\n",
       "266049  5104        3711\n",
       "266050  5105         623\n",
       "266051  5105        3771\n",
       "266052  5105         622\n",
       "\n",
       "[266053 rows x 2 columns]"
      ],
      "text/html": "<div>\n<style scoped>\n    .dataframe tbody tr th:only-of-type {\n        vertical-align: middle;\n    }\n\n    .dataframe tbody tr th {\n        vertical-align: top;\n    }\n\n    .dataframe thead th {\n        text-align: right;\n    }\n</style>\n<table border=\"1\" class=\"dataframe\">\n  <thead>\n    <tr style=\"text-align: right;\">\n      <th></th>\n      <th>id</th>\n      <th>feature_50</th>\n    </tr>\n  </thead>\n  <tbody>\n    <tr>\n      <th>0</th>\n      <td>0</td>\n      <td>0</td>\n    </tr>\n    <tr>\n      <th>1</th>\n      <td>0</td>\n      <td>1</td>\n    </tr>\n    <tr>\n      <th>2</th>\n      <td>0</td>\n      <td>2</td>\n    </tr>\n    <tr>\n      <th>3</th>\n      <td>0</td>\n      <td>3</td>\n    </tr>\n    <tr>\n      <th>4</th>\n      <td>0</td>\n      <td>4</td>\n    </tr>\n    <tr>\n      <th>...</th>\n      <td>...</td>\n      <td>...</td>\n    </tr>\n    <tr>\n      <th>266048</th>\n      <td>5104</td>\n      <td>1042</td>\n    </tr>\n    <tr>\n      <th>266049</th>\n      <td>5104</td>\n      <td>3711</td>\n    </tr>\n    <tr>\n      <th>266050</th>\n      <td>5105</td>\n      <td>623</td>\n    </tr>\n    <tr>\n      <th>266051</th>\n      <td>5105</td>\n      <td>3771</td>\n    </tr>\n    <tr>\n      <th>266052</th>\n      <td>5105</td>\n      <td>622</td>\n    </tr>\n  </tbody>\n</table>\n<p>266053 rows × 2 columns</p>\n</div>"
     },
     "metadata": {},
     "execution_count": 26
    }
   ],
   "source": [
    "hashed_df"
   ]
  },
  {
   "source": [
    "## Restructure dataframe to put 12 periods in 1 data cell"
   ],
   "cell_type": "markdown",
   "metadata": {}
  },
  {
   "cell_type": "code",
   "execution_count": 13,
   "metadata": {},
   "outputs": [
    {
     "output_type": "execute_result",
     "data": {
      "text/plain": [
       "  id period feature_0 feature_1 feature_2 feature_3 feature_4 feature_5  \\\n",
       "0  0      1       110        55  0.432017         0    176.78         0   \n",
       "1  0      2       110       110  0.397517         0    315.42         0   \n",
       "2  0      3       110        55   0.35944         0    354.55         0   \n",
       "3  0      4       110        55  0.285707         0    229.98         0   \n",
       "4  0      5       110        55  0.101487    444.73    307.12         0   \n",
       "\n",
       "  feature_6 feature_7  ... feature_40 feature_41 feature_42 feature_43  \\\n",
       "0  0.323712       147  ...          0          0          0          0   \n",
       "1  0.316798       135  ...          0          0          0          0   \n",
       "2  0.339188       181  ...       0.07          0          0          0   \n",
       "3  0.415428       142  ...          0          0          0          0   \n",
       "4   0.56967        92  ...       0.95          0    20.0145          0   \n",
       "\n",
       "  feature_44 feature_45 feature_46 feature_47 feature_48 feature_49  \n",
       "0         55          2   0.526552        145     133.28          0  \n",
       "1        110          1   0.481063        130     229.97          0  \n",
       "2         55          1   0.509598        180     231.78          0  \n",
       "3         55          0   0.680089        142     183.83          0  \n",
       "4         55          0   0.776175         85     155.83          0  \n",
       "\n",
       "[5 rows x 52 columns]"
      ],
      "text/html": "<div>\n<style scoped>\n    .dataframe tbody tr th:only-of-type {\n        vertical-align: middle;\n    }\n\n    .dataframe tbody tr th {\n        vertical-align: top;\n    }\n\n    .dataframe thead th {\n        text-align: right;\n    }\n</style>\n<table border=\"1\" class=\"dataframe\">\n  <thead>\n    <tr style=\"text-align: right;\">\n      <th></th>\n      <th>id</th>\n      <th>period</th>\n      <th>feature_0</th>\n      <th>feature_1</th>\n      <th>feature_2</th>\n      <th>feature_3</th>\n      <th>feature_4</th>\n      <th>feature_5</th>\n      <th>feature_6</th>\n      <th>feature_7</th>\n      <th>...</th>\n      <th>feature_40</th>\n      <th>feature_41</th>\n      <th>feature_42</th>\n      <th>feature_43</th>\n      <th>feature_44</th>\n      <th>feature_45</th>\n      <th>feature_46</th>\n      <th>feature_47</th>\n      <th>feature_48</th>\n      <th>feature_49</th>\n    </tr>\n  </thead>\n  <tbody>\n    <tr>\n      <th>0</th>\n      <td>0</td>\n      <td>1</td>\n      <td>110</td>\n      <td>55</td>\n      <td>0.432017</td>\n      <td>0</td>\n      <td>176.78</td>\n      <td>0</td>\n      <td>0.323712</td>\n      <td>147</td>\n      <td>...</td>\n      <td>0</td>\n      <td>0</td>\n      <td>0</td>\n      <td>0</td>\n      <td>55</td>\n      <td>2</td>\n      <td>0.526552</td>\n      <td>145</td>\n      <td>133.28</td>\n      <td>0</td>\n    </tr>\n    <tr>\n      <th>1</th>\n      <td>0</td>\n      <td>2</td>\n      <td>110</td>\n      <td>110</td>\n      <td>0.397517</td>\n      <td>0</td>\n      <td>315.42</td>\n      <td>0</td>\n      <td>0.316798</td>\n      <td>135</td>\n      <td>...</td>\n      <td>0</td>\n      <td>0</td>\n      <td>0</td>\n      <td>0</td>\n      <td>110</td>\n      <td>1</td>\n      <td>0.481063</td>\n      <td>130</td>\n      <td>229.97</td>\n      <td>0</td>\n    </tr>\n    <tr>\n      <th>2</th>\n      <td>0</td>\n      <td>3</td>\n      <td>110</td>\n      <td>55</td>\n      <td>0.35944</td>\n      <td>0</td>\n      <td>354.55</td>\n      <td>0</td>\n      <td>0.339188</td>\n      <td>181</td>\n      <td>...</td>\n      <td>0.07</td>\n      <td>0</td>\n      <td>0</td>\n      <td>0</td>\n      <td>55</td>\n      <td>1</td>\n      <td>0.509598</td>\n      <td>180</td>\n      <td>231.78</td>\n      <td>0</td>\n    </tr>\n    <tr>\n      <th>3</th>\n      <td>0</td>\n      <td>4</td>\n      <td>110</td>\n      <td>55</td>\n      <td>0.285707</td>\n      <td>0</td>\n      <td>229.98</td>\n      <td>0</td>\n      <td>0.415428</td>\n      <td>142</td>\n      <td>...</td>\n      <td>0</td>\n      <td>0</td>\n      <td>0</td>\n      <td>0</td>\n      <td>55</td>\n      <td>0</td>\n      <td>0.680089</td>\n      <td>142</td>\n      <td>183.83</td>\n      <td>0</td>\n    </tr>\n    <tr>\n      <th>4</th>\n      <td>0</td>\n      <td>5</td>\n      <td>110</td>\n      <td>55</td>\n      <td>0.101487</td>\n      <td>444.73</td>\n      <td>307.12</td>\n      <td>0</td>\n      <td>0.56967</td>\n      <td>92</td>\n      <td>...</td>\n      <td>0.95</td>\n      <td>0</td>\n      <td>20.0145</td>\n      <td>0</td>\n      <td>55</td>\n      <td>0</td>\n      <td>0.776175</td>\n      <td>85</td>\n      <td>155.83</td>\n      <td>0</td>\n    </tr>\n  </tbody>\n</table>\n<p>5 rows × 52 columns</p>\n</div>"
     },
     "metadata": {},
     "execution_count": 13
    }
   ],
   "source": [
    "tabular_df.head()"
   ]
  },
  {
   "cell_type": "code",
   "execution_count": 18,
   "metadata": {},
   "outputs": [],
   "source": [
    "#new_tab_df = tabular_df.groupby('id')['feature_0'].apply(list)\n"
   ]
  },
  {
   "cell_type": "code",
   "execution_count": 19,
   "metadata": {},
   "outputs": [
    {
     "output_type": "execute_result",
     "data": {
      "text/plain": [
       "id\n",
       "0       [110.0, 110.0, 110.0, 110.0, 110.0, 110.0, 110...\n",
       "1       [110.0, 110.0, 110.0, 110.0, 110.0, 110.0, 110...\n",
       "2       [110.0, 110.0, 111.0, 110.0, 111.0, 110.0, 110...\n",
       "3       [110.0, 110.0, 110.0, 0.9793373684066452, 0.14...\n",
       "4       [110.0, 110.0, 110.0, 110.0, 110.0, 110.0, 110...\n",
       "                              ...                        \n",
       "5101    [110.0, 110.0, 110.0, 110.0, 110.0, 110.0, 110...\n",
       "5102    [110.0, 110.0, 110.0, 110.0, 110.0, 110.0, 110...\n",
       "5103    [112.0, 111.0, 110.0, 110.0, 110.0, 110.0, 110...\n",
       "5104    [110.0, 110.0, 110.0, 110.0, 110.0, 110.0, 110...\n",
       "5105    [110.0, 110.0, 110.0, 110.0, 110.0, 110.0, 110...\n",
       "Name: feature_0, Length: 5106, dtype: object"
      ]
     },
     "metadata": {},
     "execution_count": 19
    }
   ],
   "source": [
    "#new_tab_df"
   ]
  },
  {
   "source": [
    "## Find mean values of 12 periods"
   ],
   "cell_type": "markdown",
   "metadata": {}
  },
  {
   "cell_type": "code",
   "execution_count": 11,
   "metadata": {},
   "outputs": [
    {
     "output_type": "error",
     "ename": "DataError",
     "evalue": "No numeric types to aggregate",
     "traceback": [
      "\u001b[1;31m---------------------------------------------------------------------------\u001b[0m",
      "\u001b[1;31mDataError\u001b[0m                                 Traceback (most recent call last)",
      "\u001b[1;32m<ipython-input-11-1fe642e35a5f>\u001b[0m in \u001b[0;36m<module>\u001b[1;34m\u001b[0m\n\u001b[1;32m----> 1\u001b[1;33m \u001b[0mtabular_df_means\u001b[0m \u001b[1;33m=\u001b[0m \u001b[0mtabular_df\u001b[0m\u001b[1;33m.\u001b[0m\u001b[0mgroupby\u001b[0m\u001b[1;33m(\u001b[0m\u001b[1;33m[\u001b[0m\u001b[0mtabular_df\u001b[0m\u001b[1;33m[\u001b[0m\u001b[1;34m'id'\u001b[0m\u001b[1;33m]\u001b[0m\u001b[1;33m]\u001b[0m\u001b[1;33m)\u001b[0m\u001b[1;33m.\u001b[0m\u001b[0mmean\u001b[0m\u001b[1;33m(\u001b[0m\u001b[1;33m)\u001b[0m\u001b[1;33m\u001b[0m\u001b[1;33m\u001b[0m\u001b[0m\n\u001b[0m\u001b[0;32m      2\u001b[0m \u001b[0mtabular_df_means\u001b[0m\u001b[1;33m.\u001b[0m\u001b[0mreset_index\u001b[0m\u001b[1;33m(\u001b[0m\u001b[0mlevel\u001b[0m\u001b[1;33m=\u001b[0m\u001b[1;36m0\u001b[0m\u001b[1;33m,\u001b[0m \u001b[0minplace\u001b[0m\u001b[1;33m=\u001b[0m\u001b[1;32mTrue\u001b[0m\u001b[1;33m)\u001b[0m\u001b[1;33m\u001b[0m\u001b[1;33m\u001b[0m\u001b[0m\n\u001b[0;32m      3\u001b[0m \u001b[1;31m# fill NA again to make the concept work\u001b[0m\u001b[1;33m\u001b[0m\u001b[1;33m\u001b[0m\u001b[1;33m\u001b[0m\u001b[0m\n\u001b[0;32m      4\u001b[0m \u001b[0mtabular_df_means\u001b[0m \u001b[1;33m=\u001b[0m \u001b[0mtabular_df_means\u001b[0m\u001b[1;33m.\u001b[0m\u001b[0mfillna\u001b[0m\u001b[1;33m(\u001b[0m\u001b[0maxis\u001b[0m\u001b[1;33m=\u001b[0m\u001b[1;34m'columns'\u001b[0m\u001b[1;33m,\u001b[0m \u001b[0mmethod\u001b[0m\u001b[1;33m=\u001b[0m\u001b[1;34m'bfill'\u001b[0m\u001b[1;33m)\u001b[0m\u001b[1;33m\u001b[0m\u001b[1;33m\u001b[0m\u001b[0m\n\u001b[0;32m      5\u001b[0m \u001b[0mtabular_df_means\u001b[0m\u001b[1;33m\u001b[0m\u001b[1;33m\u001b[0m\u001b[0m\n",
      "\u001b[1;32m~\\AppData\\Local\\Programs\\Python\\Python37\\lib\\site-packages\\pandas\\core\\groupby\\groupby.py\u001b[0m in \u001b[0;36mmean\u001b[1;34m(self, numeric_only)\u001b[0m\n\u001b[0;32m   1394\u001b[0m             \u001b[1;34m\"mean\"\u001b[0m\u001b[1;33m,\u001b[0m\u001b[1;33m\u001b[0m\u001b[1;33m\u001b[0m\u001b[0m\n\u001b[0;32m   1395\u001b[0m             \u001b[0malt\u001b[0m\u001b[1;33m=\u001b[0m\u001b[1;32mlambda\u001b[0m \u001b[0mx\u001b[0m\u001b[1;33m,\u001b[0m \u001b[0maxis\u001b[0m\u001b[1;33m:\u001b[0m \u001b[0mSeries\u001b[0m\u001b[1;33m(\u001b[0m\u001b[0mx\u001b[0m\u001b[1;33m)\u001b[0m\u001b[1;33m.\u001b[0m\u001b[0mmean\u001b[0m\u001b[1;33m(\u001b[0m\u001b[0mnumeric_only\u001b[0m\u001b[1;33m=\u001b[0m\u001b[0mnumeric_only\u001b[0m\u001b[1;33m)\u001b[0m\u001b[1;33m,\u001b[0m\u001b[1;33m\u001b[0m\u001b[1;33m\u001b[0m\u001b[0m\n\u001b[1;32m-> 1396\u001b[1;33m             \u001b[0mnumeric_only\u001b[0m\u001b[1;33m=\u001b[0m\u001b[0mnumeric_only\u001b[0m\u001b[1;33m,\u001b[0m\u001b[1;33m\u001b[0m\u001b[1;33m\u001b[0m\u001b[0m\n\u001b[0m\u001b[0;32m   1397\u001b[0m         )\n\u001b[0;32m   1398\u001b[0m \u001b[1;33m\u001b[0m\u001b[0m\n",
      "\u001b[1;32m~\\AppData\\Local\\Programs\\Python\\Python37\\lib\\site-packages\\pandas\\core\\groupby\\generic.py\u001b[0m in \u001b[0;36m_cython_agg_general\u001b[1;34m(self, how, alt, numeric_only, min_count)\u001b[0m\n\u001b[0;32m   1020\u001b[0m     ) -> DataFrame:\n\u001b[0;32m   1021\u001b[0m         agg_blocks, agg_items = self._cython_agg_blocks(\n\u001b[1;32m-> 1022\u001b[1;33m             \u001b[0mhow\u001b[0m\u001b[1;33m,\u001b[0m \u001b[0malt\u001b[0m\u001b[1;33m=\u001b[0m\u001b[0malt\u001b[0m\u001b[1;33m,\u001b[0m \u001b[0mnumeric_only\u001b[0m\u001b[1;33m=\u001b[0m\u001b[0mnumeric_only\u001b[0m\u001b[1;33m,\u001b[0m \u001b[0mmin_count\u001b[0m\u001b[1;33m=\u001b[0m\u001b[0mmin_count\u001b[0m\u001b[1;33m\u001b[0m\u001b[1;33m\u001b[0m\u001b[0m\n\u001b[0m\u001b[0;32m   1023\u001b[0m         )\n\u001b[0;32m   1024\u001b[0m         \u001b[1;32mreturn\u001b[0m \u001b[0mself\u001b[0m\u001b[1;33m.\u001b[0m\u001b[0m_wrap_agged_blocks\u001b[0m\u001b[1;33m(\u001b[0m\u001b[0magg_blocks\u001b[0m\u001b[1;33m,\u001b[0m \u001b[0mitems\u001b[0m\u001b[1;33m=\u001b[0m\u001b[0magg_items\u001b[0m\u001b[1;33m)\u001b[0m\u001b[1;33m\u001b[0m\u001b[1;33m\u001b[0m\u001b[0m\n",
      "\u001b[1;32m~\\AppData\\Local\\Programs\\Python\\Python37\\lib\\site-packages\\pandas\\core\\groupby\\generic.py\u001b[0m in \u001b[0;36m_cython_agg_blocks\u001b[1;34m(self, how, alt, numeric_only, min_count)\u001b[0m\n\u001b[0;32m   1128\u001b[0m \u001b[1;33m\u001b[0m\u001b[0m\n\u001b[0;32m   1129\u001b[0m         \u001b[1;32mif\u001b[0m \u001b[1;32mnot\u001b[0m \u001b[1;33m(\u001b[0m\u001b[0magg_blocks\u001b[0m \u001b[1;32mor\u001b[0m \u001b[0msplit_frames\u001b[0m\u001b[1;33m)\u001b[0m\u001b[1;33m:\u001b[0m\u001b[1;33m\u001b[0m\u001b[1;33m\u001b[0m\u001b[0m\n\u001b[1;32m-> 1130\u001b[1;33m             \u001b[1;32mraise\u001b[0m \u001b[0mDataError\u001b[0m\u001b[1;33m(\u001b[0m\u001b[1;34m\"No numeric types to aggregate\"\u001b[0m\u001b[1;33m)\u001b[0m\u001b[1;33m\u001b[0m\u001b[1;33m\u001b[0m\u001b[0m\n\u001b[0m\u001b[0;32m   1131\u001b[0m \u001b[1;33m\u001b[0m\u001b[0m\n\u001b[0;32m   1132\u001b[0m         \u001b[1;32mif\u001b[0m \u001b[0msplit_items\u001b[0m\u001b[1;33m:\u001b[0m\u001b[1;33m\u001b[0m\u001b[1;33m\u001b[0m\u001b[0m\n",
      "\u001b[1;31mDataError\u001b[0m: No numeric types to aggregate"
     ]
    }
   ],
   "source": [
    "tabular_df_means = tabular_df.groupby([tabular_df['id']]).mean()\n",
    "tabular_df_means.reset_index(level=0, inplace=True)\n",
    "# fill NA again to make the concept work\n",
    "tabular_df_means = tabular_df_means.fillna(axis='columns', method='bfill')\n",
    "tabular_df_means"
   ]
  },
  {
   "source": [
    "## Buildign logistic regression model without hashes"
   ],
   "cell_type": "markdown",
   "metadata": {}
  },
  {
   "cell_type": "code",
   "execution_count": null,
   "metadata": {},
   "outputs": [],
   "source": [
    "df_train = pd.merge(tabular_df_means, train_df, on='id')\n",
    "y = df_train.target\n",
    "X = df_train.drop(['period', 'id', 'target'], axis=1).fillna(method='bfill')\n",
    "\n",
    "model = LogisticRegression(random_state=0, solver='newton-cg', multi_class='multinomial').fit(X, y)\n",
    "model.score(X, y)"
   ]
  },
  {
   "source": [
    "## Predicting/testing"
   ],
   "cell_type": "markdown",
   "metadata": {}
  },
  {
   "cell_type": "code",
   "execution_count": null,
   "metadata": {},
   "outputs": [],
   "source": [
    "test_df_n = pd.merge(tabular_df_means, test_df, on='id')\n",
    "\n",
    "X_pred = test_df_n.drop(['period', 'id', 'score'], axis=1).fillna(method='bfill')\n",
    "\n",
    "res = model.predict_proba(X_pred)[:,1]\n",
    "res.round(6)\n",
    "test_df.SCORE = res.round(6)"
   ]
  },
  {
   "source": [
    "## Export final result to file"
   ],
   "cell_type": "markdown",
   "metadata": {}
  },
  {
   "cell_type": "code",
   "execution_count": null,
   "metadata": {},
   "outputs": [],
   "source": [
    "test_df.SCORE = res.round(6)\n",
    "test_df.to_csv('HaidaTarasMonkaS_test.txt', sep=',', index=False)"
   ]
  }
 ]
}