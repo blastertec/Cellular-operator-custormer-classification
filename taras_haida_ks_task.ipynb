{
 "metadata": {
  "language_info": {
   "codemirror_mode": {
    "name": "ipython",
    "version": 3
   },
   "file_extension": ".py",
   "mimetype": "text/x-python",
   "name": "python",
   "nbconvert_exporter": "python",
   "pygments_lexer": "ipython3",
   "version": "3.7.5-final"
  },
  "orig_nbformat": 2,
  "kernelspec": {
   "name": "Python 3.7.5 64-bit",
   "display_name": "Python 3.7.5 64-bit",
   "metadata": {
    "interpreter": {
     "hash": "5ba6ea905650b72b58bcbbeb6a9cbf1251095ac92316d4bf70606757d3aac9bd"
    }
   }
  }
 },
 "nbformat": 4,
 "nbformat_minor": 2,
 "cells": [
  {
   "source": [
    "## Import of libraries"
   ],
   "cell_type": "markdown",
   "metadata": {}
  },
  {
   "cell_type": "code",
   "execution_count": 1,
   "metadata": {},
   "outputs": [],
   "source": [
    "import pandas as pd\n",
    "import numpy as np\n",
    "from sklearn.linear_model import LogisticRegression\n",
    "from sklearn.linear_model import LinearRegression"
   ]
  },
  {
   "source": [
    "## Import of CSV data"
   ],
   "cell_type": "markdown",
   "metadata": {}
  },
  {
   "cell_type": "code",
   "execution_count": 2,
   "metadata": {},
   "outputs": [
    {
     "output_type": "execute_result",
     "data": {
      "text/plain": [
       "   id  period  feature_0  feature_1  feature_2  feature_3  feature_4  \\\n",
       "0   0       1      110.0       55.0   0.432017        0.0     176.78   \n",
       "1   0       2      110.0      110.0   0.397517        0.0     315.42   \n",
       "2   0       3      110.0       55.0   0.359440        0.0     354.55   \n",
       "\n",
       "   feature_5  feature_6  feature_7  ...  feature_40  feature_41  feature_42  \\\n",
       "0        0.0   0.323712        NaN  ...        0.00           0         0.0   \n",
       "1        0.0   0.316798        NaN  ...        0.00           0         0.0   \n",
       "2        0.0   0.339188        NaN  ...        0.07           0         0.0   \n",
       "\n",
       "   feature_43  feature_44  feature_45  feature_46  feature_47  feature_48  \\\n",
       "0         0.0        55.0         2.0    0.526552       145.0      133.28   \n",
       "1         0.0       110.0         1.0    0.481063       130.0      229.97   \n",
       "2         0.0        55.0         1.0    0.509598       180.0      231.78   \n",
       "\n",
       "   feature_49  \n",
       "0         0.0  \n",
       "1         0.0  \n",
       "2         0.0  \n",
       "\n",
       "[3 rows x 52 columns]"
      ],
      "text/html": "<div>\n<style scoped>\n    .dataframe tbody tr th:only-of-type {\n        vertical-align: middle;\n    }\n\n    .dataframe tbody tr th {\n        vertical-align: top;\n    }\n\n    .dataframe thead th {\n        text-align: right;\n    }\n</style>\n<table border=\"1\" class=\"dataframe\">\n  <thead>\n    <tr style=\"text-align: right;\">\n      <th></th>\n      <th>id</th>\n      <th>period</th>\n      <th>feature_0</th>\n      <th>feature_1</th>\n      <th>feature_2</th>\n      <th>feature_3</th>\n      <th>feature_4</th>\n      <th>feature_5</th>\n      <th>feature_6</th>\n      <th>feature_7</th>\n      <th>...</th>\n      <th>feature_40</th>\n      <th>feature_41</th>\n      <th>feature_42</th>\n      <th>feature_43</th>\n      <th>feature_44</th>\n      <th>feature_45</th>\n      <th>feature_46</th>\n      <th>feature_47</th>\n      <th>feature_48</th>\n      <th>feature_49</th>\n    </tr>\n  </thead>\n  <tbody>\n    <tr>\n      <th>0</th>\n      <td>0</td>\n      <td>1</td>\n      <td>110.0</td>\n      <td>55.0</td>\n      <td>0.432017</td>\n      <td>0.0</td>\n      <td>176.78</td>\n      <td>0.0</td>\n      <td>0.323712</td>\n      <td>NaN</td>\n      <td>...</td>\n      <td>0.00</td>\n      <td>0</td>\n      <td>0.0</td>\n      <td>0.0</td>\n      <td>55.0</td>\n      <td>2.0</td>\n      <td>0.526552</td>\n      <td>145.0</td>\n      <td>133.28</td>\n      <td>0.0</td>\n    </tr>\n    <tr>\n      <th>1</th>\n      <td>0</td>\n      <td>2</td>\n      <td>110.0</td>\n      <td>110.0</td>\n      <td>0.397517</td>\n      <td>0.0</td>\n      <td>315.42</td>\n      <td>0.0</td>\n      <td>0.316798</td>\n      <td>NaN</td>\n      <td>...</td>\n      <td>0.00</td>\n      <td>0</td>\n      <td>0.0</td>\n      <td>0.0</td>\n      <td>110.0</td>\n      <td>1.0</td>\n      <td>0.481063</td>\n      <td>130.0</td>\n      <td>229.97</td>\n      <td>0.0</td>\n    </tr>\n    <tr>\n      <th>2</th>\n      <td>0</td>\n      <td>3</td>\n      <td>110.0</td>\n      <td>55.0</td>\n      <td>0.359440</td>\n      <td>0.0</td>\n      <td>354.55</td>\n      <td>0.0</td>\n      <td>0.339188</td>\n      <td>NaN</td>\n      <td>...</td>\n      <td>0.07</td>\n      <td>0</td>\n      <td>0.0</td>\n      <td>0.0</td>\n      <td>55.0</td>\n      <td>1.0</td>\n      <td>0.509598</td>\n      <td>180.0</td>\n      <td>231.78</td>\n      <td>0.0</td>\n    </tr>\n  </tbody>\n</table>\n<p>3 rows × 52 columns</p>\n</div>"
     },
     "metadata": {},
     "execution_count": 2
    }
   ],
   "source": [
    "hashed_df = pd.read_csv('hashed_feature.csv')\n",
    "tabular_df = pd.read_csv('tabular_data.csv')\n",
    "train_df = pd.read_csv('train.csv')\n",
    "test_df = pd.read_csv('test.csv')\n",
    "tabular_df.head(3)"
   ]
  },
  {
   "source": [
    "## Simplest solution to deal with NaN "
   ],
   "cell_type": "markdown",
   "metadata": {}
  },
  {
   "cell_type": "code",
   "execution_count": 3,
   "metadata": {},
   "outputs": [
    {
     "output_type": "execute_result",
     "data": {
      "text/plain": [
       "  id period feature_0 feature_1 feature_2 feature_3 feature_4 feature_5  \\\n",
       "0  0      1       110        55  0.432017         0    176.78         0   \n",
       "1  0      2       110       110  0.397517         0    315.42         0   \n",
       "2  0      3       110        55   0.35944         0    354.55         0   \n",
       "\n",
       "  feature_6 feature_7  ... feature_40 feature_41 feature_42 feature_43  \\\n",
       "0  0.323712       147  ...          0          0          0          0   \n",
       "1  0.316798       135  ...          0          0          0          0   \n",
       "2  0.339188       181  ...       0.07          0          0          0   \n",
       "\n",
       "  feature_44 feature_45 feature_46 feature_47 feature_48 feature_49  \n",
       "0         55          2   0.526552        145     133.28          0  \n",
       "1        110          1   0.481063        130     229.97          0  \n",
       "2         55          1   0.509598        180     231.78          0  \n",
       "\n",
       "[3 rows x 52 columns]"
      ],
      "text/html": "<div>\n<style scoped>\n    .dataframe tbody tr th:only-of-type {\n        vertical-align: middle;\n    }\n\n    .dataframe tbody tr th {\n        vertical-align: top;\n    }\n\n    .dataframe thead th {\n        text-align: right;\n    }\n</style>\n<table border=\"1\" class=\"dataframe\">\n  <thead>\n    <tr style=\"text-align: right;\">\n      <th></th>\n      <th>id</th>\n      <th>period</th>\n      <th>feature_0</th>\n      <th>feature_1</th>\n      <th>feature_2</th>\n      <th>feature_3</th>\n      <th>feature_4</th>\n      <th>feature_5</th>\n      <th>feature_6</th>\n      <th>feature_7</th>\n      <th>...</th>\n      <th>feature_40</th>\n      <th>feature_41</th>\n      <th>feature_42</th>\n      <th>feature_43</th>\n      <th>feature_44</th>\n      <th>feature_45</th>\n      <th>feature_46</th>\n      <th>feature_47</th>\n      <th>feature_48</th>\n      <th>feature_49</th>\n    </tr>\n  </thead>\n  <tbody>\n    <tr>\n      <th>0</th>\n      <td>0</td>\n      <td>1</td>\n      <td>110</td>\n      <td>55</td>\n      <td>0.432017</td>\n      <td>0</td>\n      <td>176.78</td>\n      <td>0</td>\n      <td>0.323712</td>\n      <td>147</td>\n      <td>...</td>\n      <td>0</td>\n      <td>0</td>\n      <td>0</td>\n      <td>0</td>\n      <td>55</td>\n      <td>2</td>\n      <td>0.526552</td>\n      <td>145</td>\n      <td>133.28</td>\n      <td>0</td>\n    </tr>\n    <tr>\n      <th>1</th>\n      <td>0</td>\n      <td>2</td>\n      <td>110</td>\n      <td>110</td>\n      <td>0.397517</td>\n      <td>0</td>\n      <td>315.42</td>\n      <td>0</td>\n      <td>0.316798</td>\n      <td>135</td>\n      <td>...</td>\n      <td>0</td>\n      <td>0</td>\n      <td>0</td>\n      <td>0</td>\n      <td>110</td>\n      <td>1</td>\n      <td>0.481063</td>\n      <td>130</td>\n      <td>229.97</td>\n      <td>0</td>\n    </tr>\n    <tr>\n      <th>2</th>\n      <td>0</td>\n      <td>3</td>\n      <td>110</td>\n      <td>55</td>\n      <td>0.35944</td>\n      <td>0</td>\n      <td>354.55</td>\n      <td>0</td>\n      <td>0.339188</td>\n      <td>181</td>\n      <td>...</td>\n      <td>0.07</td>\n      <td>0</td>\n      <td>0</td>\n      <td>0</td>\n      <td>55</td>\n      <td>1</td>\n      <td>0.509598</td>\n      <td>180</td>\n      <td>231.78</td>\n      <td>0</td>\n    </tr>\n  </tbody>\n</table>\n<p>3 rows × 52 columns</p>\n</div>"
     },
     "metadata": {},
     "execution_count": 3
    }
   ],
   "source": [
    "tabular_df = tabular_df.fillna(axis='columns', method='bfill')\n",
    "tabular_df.head(3)"
   ]
  },
  {
   "source": [
    "## Encode hashes"
   ],
   "cell_type": "markdown",
   "metadata": {}
  },
  {
   "cell_type": "code",
   "execution_count": null,
   "metadata": {},
   "outputs": [],
   "source": [
    "def hashCounter():\n",
    "    i = 1\n",
    "    while key < (key + 1):\n",
    "        i += 1"
   ]
  },
  {
   "source": [
    "### Create hash dictionary to encode them in the tabular data"
   ],
   "cell_type": "markdown",
   "metadata": {}
  },
  {
   "cell_type": "code",
   "execution_count": 4,
   "metadata": {
    "tags": []
   },
   "outputs": [],
   "source": [
    "\n",
    "# group/filter so unique hash names and create a 'dictionary' dataframe\n",
    "unique_hashes_df = pd.DataFrame(hashed_df.feature_50.unique(), columns = ['feature_50'])\n",
    "\n",
    "hashes_dict_df = unique_hashes_df\n",
    "# create a new 'id' column, set 'feature_50' as a key and 'hash_id' as a value to for easier future replacement/matching\n",
    "# drop index name and create a new 'id' column based on indexes\n",
    "\n",
    "hashes_dict_df.reset_index(level=0, inplace=True)\n",
    "\n",
    "hashes_dict_df = hashes_dict_df.set_index('feature_50')\n",
    "\n",
    "hashes_dict_df.index.name = None\n",
    "hashes_dict_df = hashes_dict_df.rename(columns = {'index': 'id'})\n"
   ]
  },
  {
   "source": [
    "### Convert dictionary dataframe into actual python dictionary while also transposing it \n",
    "### It is needed for mapping them to replace hash codes with integer values - that can be used for model algorithm to evaluate them, it shouldn't be  possible with just hashes as strings (from what I understand)"
   ],
   "cell_type": "markdown",
   "metadata": {}
  },
  {
   "cell_type": "code",
   "execution_count": 5,
   "metadata": {
    "tags": []
   },
   "outputs": [],
   "source": [
    "hash_codes = hashes_dict_df.T.to_dict('list')"
   ]
  },
  {
   "source": [
    "### Encode (map) main hash table with integer id's from above dictionary"
   ],
   "cell_type": "markdown",
   "metadata": {}
  },
  {
   "cell_type": "code",
   "execution_count": 6,
   "metadata": {},
   "outputs": [
    {
     "output_type": "stream",
     "name": "stdout",
     "text": [
      "   id  feature_50\n0   0           0\n1   0           1\n2   0           2\n"
     ]
    }
   ],
   "source": [
    "hashed_df['feature_50'] = hashed_df['feature_50'].map(hash_codes)\n",
    "\n",
    "# fucntion that is applied to convert 'feature_50' lists column into integers\n",
    "def convert_to_int(x):\n",
    "    return x[0]\n",
    "\n",
    "hashed_df['feature_50'] = hashed_df['feature_50'].apply(convert_to_int)\n",
    "print(hashed_df.head(3))"
   ]
  },
  {
   "cell_type": "code",
   "execution_count": null,
   "metadata": {},
   "outputs": [],
   "source": [
    "hashed_df_ = hashes_dict_df.T.to_dict('list')"
   ]
  },
  {
   "source": [
    "## Restructure dataframe to put 12 periods in 1 data cell"
   ],
   "cell_type": "markdown",
   "metadata": {}
  },
  {
   "source": [
    "## Find mean values of 12 periods"
   ],
   "cell_type": "markdown",
   "metadata": {}
  },
  {
   "cell_type": "code",
   "execution_count": 8,
   "metadata": {},
   "outputs": [
    {
     "output_type": "error",
     "ename": "DataError",
     "evalue": "No numeric types to aggregate",
     "traceback": [
      "\u001b[1;31m---------------------------------------------------------------------------\u001b[0m",
      "\u001b[1;31mDataError\u001b[0m                                 Traceback (most recent call last)",
      "\u001b[1;32m<ipython-input-8-1fe642e35a5f>\u001b[0m in \u001b[0;36m<module>\u001b[1;34m\u001b[0m\n\u001b[1;32m----> 1\u001b[1;33m \u001b[0mtabular_df_means\u001b[0m \u001b[1;33m=\u001b[0m \u001b[0mtabular_df\u001b[0m\u001b[1;33m.\u001b[0m\u001b[0mgroupby\u001b[0m\u001b[1;33m(\u001b[0m\u001b[1;33m[\u001b[0m\u001b[0mtabular_df\u001b[0m\u001b[1;33m[\u001b[0m\u001b[1;34m'id'\u001b[0m\u001b[1;33m]\u001b[0m\u001b[1;33m]\u001b[0m\u001b[1;33m)\u001b[0m\u001b[1;33m.\u001b[0m\u001b[0mmean\u001b[0m\u001b[1;33m(\u001b[0m\u001b[1;33m)\u001b[0m\u001b[1;33m\u001b[0m\u001b[1;33m\u001b[0m\u001b[0m\n\u001b[0m\u001b[0;32m      2\u001b[0m \u001b[0mtabular_df_means\u001b[0m\u001b[1;33m.\u001b[0m\u001b[0mreset_index\u001b[0m\u001b[1;33m(\u001b[0m\u001b[0mlevel\u001b[0m\u001b[1;33m=\u001b[0m\u001b[1;36m0\u001b[0m\u001b[1;33m,\u001b[0m \u001b[0minplace\u001b[0m\u001b[1;33m=\u001b[0m\u001b[1;32mTrue\u001b[0m\u001b[1;33m)\u001b[0m\u001b[1;33m\u001b[0m\u001b[1;33m\u001b[0m\u001b[0m\n\u001b[0;32m      3\u001b[0m \u001b[1;31m# fill NA again to make the concept work\u001b[0m\u001b[1;33m\u001b[0m\u001b[1;33m\u001b[0m\u001b[1;33m\u001b[0m\u001b[0m\n\u001b[0;32m      4\u001b[0m \u001b[0mtabular_df_means\u001b[0m \u001b[1;33m=\u001b[0m \u001b[0mtabular_df_means\u001b[0m\u001b[1;33m.\u001b[0m\u001b[0mfillna\u001b[0m\u001b[1;33m(\u001b[0m\u001b[0maxis\u001b[0m\u001b[1;33m=\u001b[0m\u001b[1;34m'columns'\u001b[0m\u001b[1;33m,\u001b[0m \u001b[0mmethod\u001b[0m\u001b[1;33m=\u001b[0m\u001b[1;34m'bfill'\u001b[0m\u001b[1;33m)\u001b[0m\u001b[1;33m\u001b[0m\u001b[1;33m\u001b[0m\u001b[0m\n\u001b[0;32m      5\u001b[0m \u001b[0mtabular_df_means\u001b[0m\u001b[1;33m\u001b[0m\u001b[1;33m\u001b[0m\u001b[0m\n",
      "\u001b[1;32m~\\AppData\\Local\\Programs\\Python\\Python37\\lib\\site-packages\\pandas\\core\\groupby\\groupby.py\u001b[0m in \u001b[0;36mmean\u001b[1;34m(self, numeric_only)\u001b[0m\n\u001b[0;32m   1394\u001b[0m             \u001b[1;34m\"mean\"\u001b[0m\u001b[1;33m,\u001b[0m\u001b[1;33m\u001b[0m\u001b[1;33m\u001b[0m\u001b[0m\n\u001b[0;32m   1395\u001b[0m             \u001b[0malt\u001b[0m\u001b[1;33m=\u001b[0m\u001b[1;32mlambda\u001b[0m \u001b[0mx\u001b[0m\u001b[1;33m,\u001b[0m \u001b[0maxis\u001b[0m\u001b[1;33m:\u001b[0m \u001b[0mSeries\u001b[0m\u001b[1;33m(\u001b[0m\u001b[0mx\u001b[0m\u001b[1;33m)\u001b[0m\u001b[1;33m.\u001b[0m\u001b[0mmean\u001b[0m\u001b[1;33m(\u001b[0m\u001b[0mnumeric_only\u001b[0m\u001b[1;33m=\u001b[0m\u001b[0mnumeric_only\u001b[0m\u001b[1;33m)\u001b[0m\u001b[1;33m,\u001b[0m\u001b[1;33m\u001b[0m\u001b[1;33m\u001b[0m\u001b[0m\n\u001b[1;32m-> 1396\u001b[1;33m             \u001b[0mnumeric_only\u001b[0m\u001b[1;33m=\u001b[0m\u001b[0mnumeric_only\u001b[0m\u001b[1;33m,\u001b[0m\u001b[1;33m\u001b[0m\u001b[1;33m\u001b[0m\u001b[0m\n\u001b[0m\u001b[0;32m   1397\u001b[0m         )\n\u001b[0;32m   1398\u001b[0m \u001b[1;33m\u001b[0m\u001b[0m\n",
      "\u001b[1;32m~\\AppData\\Local\\Programs\\Python\\Python37\\lib\\site-packages\\pandas\\core\\groupby\\generic.py\u001b[0m in \u001b[0;36m_cython_agg_general\u001b[1;34m(self, how, alt, numeric_only, min_count)\u001b[0m\n\u001b[0;32m   1020\u001b[0m     ) -> DataFrame:\n\u001b[0;32m   1021\u001b[0m         agg_blocks, agg_items = self._cython_agg_blocks(\n\u001b[1;32m-> 1022\u001b[1;33m             \u001b[0mhow\u001b[0m\u001b[1;33m,\u001b[0m \u001b[0malt\u001b[0m\u001b[1;33m=\u001b[0m\u001b[0malt\u001b[0m\u001b[1;33m,\u001b[0m \u001b[0mnumeric_only\u001b[0m\u001b[1;33m=\u001b[0m\u001b[0mnumeric_only\u001b[0m\u001b[1;33m,\u001b[0m \u001b[0mmin_count\u001b[0m\u001b[1;33m=\u001b[0m\u001b[0mmin_count\u001b[0m\u001b[1;33m\u001b[0m\u001b[1;33m\u001b[0m\u001b[0m\n\u001b[0m\u001b[0;32m   1023\u001b[0m         )\n\u001b[0;32m   1024\u001b[0m         \u001b[1;32mreturn\u001b[0m \u001b[0mself\u001b[0m\u001b[1;33m.\u001b[0m\u001b[0m_wrap_agged_blocks\u001b[0m\u001b[1;33m(\u001b[0m\u001b[0magg_blocks\u001b[0m\u001b[1;33m,\u001b[0m \u001b[0mitems\u001b[0m\u001b[1;33m=\u001b[0m\u001b[0magg_items\u001b[0m\u001b[1;33m)\u001b[0m\u001b[1;33m\u001b[0m\u001b[1;33m\u001b[0m\u001b[0m\n",
      "\u001b[1;32m~\\AppData\\Local\\Programs\\Python\\Python37\\lib\\site-packages\\pandas\\core\\groupby\\generic.py\u001b[0m in \u001b[0;36m_cython_agg_blocks\u001b[1;34m(self, how, alt, numeric_only, min_count)\u001b[0m\n\u001b[0;32m   1128\u001b[0m \u001b[1;33m\u001b[0m\u001b[0m\n\u001b[0;32m   1129\u001b[0m         \u001b[1;32mif\u001b[0m \u001b[1;32mnot\u001b[0m \u001b[1;33m(\u001b[0m\u001b[0magg_blocks\u001b[0m \u001b[1;32mor\u001b[0m \u001b[0msplit_frames\u001b[0m\u001b[1;33m)\u001b[0m\u001b[1;33m:\u001b[0m\u001b[1;33m\u001b[0m\u001b[1;33m\u001b[0m\u001b[0m\n\u001b[1;32m-> 1130\u001b[1;33m             \u001b[1;32mraise\u001b[0m \u001b[0mDataError\u001b[0m\u001b[1;33m(\u001b[0m\u001b[1;34m\"No numeric types to aggregate\"\u001b[0m\u001b[1;33m)\u001b[0m\u001b[1;33m\u001b[0m\u001b[1;33m\u001b[0m\u001b[0m\n\u001b[0m\u001b[0;32m   1131\u001b[0m \u001b[1;33m\u001b[0m\u001b[0m\n\u001b[0;32m   1132\u001b[0m         \u001b[1;32mif\u001b[0m \u001b[0msplit_items\u001b[0m\u001b[1;33m:\u001b[0m\u001b[1;33m\u001b[0m\u001b[1;33m\u001b[0m\u001b[0m\n",
      "\u001b[1;31mDataError\u001b[0m: No numeric types to aggregate"
     ]
    }
   ],
   "source": [
    "tabular_df_means = tabular_df.groupby([tabular_df['id']]).mean()\n",
    "tabular_df_means.reset_index(level=0, inplace=True)\n",
    "# fill NA again to make the concept work\n",
    "tabular_df_means = tabular_df_means.fillna(axis='columns', method='bfill')\n",
    "tabular_df_means"
   ]
  },
  {
   "source": [
    "## Buildign logistic regression model without hashes"
   ],
   "cell_type": "markdown",
   "metadata": {}
  },
  {
   "cell_type": "code",
   "execution_count": null,
   "metadata": {},
   "outputs": [],
   "source": [
    "df_train = pd.merge(tabular_df_means, train_df, on='id')\n",
    "y = df_train.target\n",
    "X = df_train.drop(['period', 'id', 'target'], axis=1).fillna(method='bfill')\n",
    "\n",
    "model = LogisticRegression(random_state=0, solver='newton-cg', multi_class='multinomial').fit(X, y)\n",
    "model.score(X, y)"
   ]
  },
  {
   "source": [
    "## Predicting/testing"
   ],
   "cell_type": "markdown",
   "metadata": {}
  },
  {
   "cell_type": "code",
   "execution_count": null,
   "metadata": {},
   "outputs": [],
   "source": [
    "test_df_n = pd.merge(tabular_df_means, test_df, on='id')\n",
    "\n",
    "X_pred = test_df_n.drop(['period', 'id', 'score'], axis=1).fillna(method='bfill')\n",
    "\n",
    "res = model.predict_proba(X_pred)[:,1]\n",
    "res.round(6)\n",
    "test_df.SCORE = res.round(6)"
   ]
  },
  {
   "source": [
    "## Export final result to file"
   ],
   "cell_type": "markdown",
   "metadata": {}
  },
  {
   "cell_type": "code",
   "execution_count": null,
   "metadata": {},
   "outputs": [],
   "source": [
    "test_df.SCORE = res.round(6)\n",
    "test_df.to_csv('HaidaTarasMonkaS_test.txt', sep=',', index=False)"
   ]
  }
 ]
}